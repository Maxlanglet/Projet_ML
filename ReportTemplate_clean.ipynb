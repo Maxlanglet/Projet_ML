{
 "cells": [
  {
   "cell_type": "markdown",
   "metadata": {},
   "source": [
    "# INFO-F-422 -  Statistical Foundations of Machine Learning \n",
    "\n",
    "### Student 1 - __[Ghita.Ait.Ouhmane@ulb.ac.be](mailto:Ghita.Ait.Ouhmane@ulb.ac.be) - Student ID 453422__\n",
    "### Student 2 - __[Ha.Duong@ulb.ac.be](mailto:Ha.Duong@ulb.ac.be) - Student ID 463350__\n",
    "### Student 3 - __[Maxime.Langlet@ulb.ac.be](mailto:Maxime.Langlet@ulb.ac.be) - Student ID 427821__\n",
    "\n",
    "### Video presentation: www.youtube.com/abcd1234\n",
    "\n",
    "## Statistical foundations of Machine Learning - Project 2020-2021\n"
   ]
  },
  {
   "cell_type": "markdown",
   "metadata": {},
   "source": [
    "# Introduction\n"
   ]
  },
  {
   "cell_type": "markdown",
   "metadata": {},
   "source": [
    "The goal of this project is to participate in a competition on the DrivenData Website. The competition is called \"Pump it Up: Data Mining the Water Table\".<br>\n",
    "It is a multi label classification problem and the objective is to first preprocess the dataset by doing some feature selection, and follow it by implementing different type of models and evaluate each one of them to asses their perfromances. Finally the predictions must be submitted on the website to enter the competition.<br>\n",
    "Each step will be explained in more details in the following sections."
   ]
  },
  {
   "cell_type": "markdown",
   "metadata": {},
   "source": [
    " We first load all the necessary packages and libraries into the notebook : \n"
   ]
  },
  {
   "cell_type": "code",
   "execution_count": 1,
   "metadata": {},
   "outputs": [
    {
     "name": "stderr",
     "output_type": "stream",
     "text": [
      "randomForest 4.6-14\n",
      "\n",
      "Type rfNews() to see new features/changes/bug fixes.\n",
      "\n",
      "Loading required package: ggplot2\n",
      "\n",
      "\n",
      "Attaching package: ‘ggplot2’\n",
      "\n",
      "\n",
      "The following object is masked from ‘package:randomForest’:\n",
      "\n",
      "    margin\n",
      "\n",
      "\n",
      "Welcome! Want to learn more? See two factoextra-related books at https://goo.gl/ve3WBa\n",
      "\n",
      "Loading required package: lattice\n",
      "\n",
      "\n",
      "Attaching package: ‘dplyr’\n",
      "\n",
      "\n",
      "The following object is masked from ‘package:xgboost’:\n",
      "\n",
      "    slice\n",
      "\n",
      "\n",
      "The following object is masked from ‘package:randomForest’:\n",
      "\n",
      "    combine\n",
      "\n",
      "\n",
      "The following objects are masked from ‘package:stats’:\n",
      "\n",
      "    filter, lag\n",
      "\n",
      "\n",
      "The following objects are masked from ‘package:base’:\n",
      "\n",
      "    intersect, setdiff, setequal, union\n",
      "\n",
      "\n"
     ]
    }
   ],
   "source": [
    "# install the packages and libraries\n",
    "# install.packages(\"e1071\")\n",
    "# install.packages(\"tidyverse\")\n",
    "# install.packages(\"pillar\")\n",
    "# install.packages(\"caret\")\n",
    "\n",
    "# install.packages(\"xgboost\")\n",
    "\n",
    "#if problem with install of xgboost, try the following\n",
    "# install.packages(\"drat\", repos=\"https://cran.rstudio.com\")\n",
    "# drat:::addRepo(\"dmlc\")\n",
    "# install.packages(\"xgboost\", repos=\"http://dmlc.ml/drat/\", type = \"source\")\n",
    "\n",
    "# install.packages(\"archdata\")\n",
    "# install.packages(\"caret\") # for the confusionmatrix() function (also needs e1071 package)\n",
    "# install.packages(\"dplyr\") # for some data preperation\n",
    "# install.packages(\"Ckmeans.1d.dp\") # for xgb.ggplot.importance\n",
    "\n",
    "\n",
    "library(rpart)\n",
    "library(e1071)\n",
    "library(rpart.plot)\n",
    "library(randomForest)\n",
    "library(nnet)\n",
    "library(FactoMineR)\n",
    "library(factoextra)\n",
    "library(\"xgboost\") # the main algorithm\n",
    "library(\"archdata\") # for the sample dataset\n",
    "library(\"caret\") # for the confusionmatrix() function (also needs e1071 package)\n",
    "library(\"dplyr\") # for some data preperation\n",
    "library(\"Ckmeans.1d.dp\") # for xgb.ggplot.importance"
   ]
  },
  {
   "cell_type": "markdown",
   "metadata": {},
   "source": [
    "We then read the data given in csv format : <br>\n",
    "- Training_set_values.csv :  it consists of the training data, containing all the features values to use in the training.\n",
    "- Training_set_labels.csv : These are the labels of the training set, which means the prediction expected for each row of the dataset.\n",
    "- Test_set_values.csv : Those are the data that will be used to asses the accuracy of our models. \n",
    "- Submission_format.csv : This is the format under which we have to submit our prediction on the test set described previously fo the dataDriven competition."
   ]
  },
  {
   "cell_type": "code",
   "execution_count": 2,
   "metadata": {},
   "outputs": [
    {
     "data": {
      "text/plain": [
       "\n",
       "             functional functional needs repair          non functional \n",
       "                  32259                    4317                   22824 "
      ]
     },
     "metadata": {},
     "output_type": "display_data"
    }
   ],
   "source": [
    "# read the datasets\n",
    "\n",
    "sub_format <- read.csv(\"database/Pump_it_Up_Data_Mining_the_Water_Table_-_Submission_format.csv\", header=TRUE)\n",
    "set_val_test <- read.csv(\"database/Pump_it_Up_Data_Mining_the_Water_Table_-_Test_set_values.csv\", header=TRUE)\n",
    "set_labels <- read.csv(\"database/Pump_it_Up_Data_Mining_the_Water_Table_-_Training_set_labels.csv\", header=TRUE)\n",
    "dataset <- read.csv(\"database/Pump_it_Up_Data_Mining_the_Water_Table_-_Training_set_values.csv\", header=TRUE)\n",
    "\n",
    "# print the number of values of the Y\n",
    "table(set_labels$status_group)"
   ]
  },
  {
   "cell_type": "markdown",
   "metadata": {},
   "source": [
    "We see that there can be three possible values for the predicition :<br>\n",
    "- functional - the waterpoint is operational and there are no repairs needed\n",
    "- functional needs repair - the waterpoint is operational, but needs repairs\n",
    "- non functional - the waterpoint is not operational\n",
    "Another thing we can notice right away, is that the dataset in imbalanced : the total number of entries in the dataset is 59400 , and the functional_needs_repair label is only predicted 4317 times, so around 7% of the time. This can already introduce some bias on the model, making him perform less when tested."
   ]
  },
  {
   "cell_type": "markdown",
   "metadata": {},
   "source": [
    "# Data preprocessing\n",
    "Now that we have laoded our data, we can start the preprocessing"
   ]
  },
  {
   "cell_type": "markdown",
   "metadata": {},
   "source": [
    "## Feature selection"
   ]
  },
  {
   "cell_type": "code",
   "execution_count": 3,
   "metadata": {},
   "outputs": [
    {
     "data": {
      "text/html": [
       "<style>\n",
       ".list-inline {list-style: none; margin:0; padding: 0}\n",
       ".list-inline>li {display: inline-block}\n",
       ".list-inline>li:not(:last-child)::after {content: \"\\00b7\"; padding: 0 .5ex}\n",
       "</style>\n",
       "<ol class=list-inline><li>59400</li><li>40</li></ol>\n"
      ],
      "text/latex": [
       "\\begin{enumerate*}\n",
       "\\item 59400\n",
       "\\item 40\n",
       "\\end{enumerate*}\n"
      ],
      "text/markdown": [
       "1. 59400\n",
       "2. 40\n",
       "\n",
       "\n"
      ],
      "text/plain": [
       "[1] 59400    40"
      ]
     },
     "metadata": {},
     "output_type": "display_data"
    },
    {
     "data": {
      "text/html": [
       "<style>\n",
       ".dl-inline {width: auto; margin:0; padding: 0}\n",
       ".dl-inline>dt, .dl-inline>dd {float: none; width: auto; display: inline-block}\n",
       ".dl-inline>dt::after {content: \":\\0020\"; padding-right: .5ex}\n",
       ".dl-inline>dt:not(:first-of-type) {padding-left: .5ex}\n",
       "</style><dl class=dl-inline><dt>id</dt><dd>'integer'</dd><dt>amount_tsh</dt><dd>'numeric'</dd><dt>date_recorded</dt><dd>'character'</dd><dt>funder</dt><dd>'character'</dd><dt>gps_height</dt><dd>'integer'</dd><dt>installer</dt><dd>'character'</dd><dt>longitude</dt><dd>'numeric'</dd><dt>latitude</dt><dd>'numeric'</dd><dt>wpt_name</dt><dd>'character'</dd><dt>num_private</dt><dd>'integer'</dd><dt>basin</dt><dd>'character'</dd><dt>subvillage</dt><dd>'character'</dd><dt>region</dt><dd>'character'</dd><dt>region_code</dt><dd>'integer'</dd><dt>district_code</dt><dd>'integer'</dd><dt>lga</dt><dd>'character'</dd><dt>ward</dt><dd>'character'</dd><dt>population</dt><dd>'integer'</dd><dt>public_meeting</dt><dd>'character'</dd><dt>recorded_by</dt><dd>'character'</dd><dt>scheme_management</dt><dd>'character'</dd><dt>scheme_name</dt><dd>'character'</dd><dt>permit</dt><dd>'character'</dd><dt>construction_year</dt><dd>'integer'</dd><dt>extraction_type</dt><dd>'character'</dd><dt>extraction_type_group</dt><dd>'character'</dd><dt>extraction_type_class</dt><dd>'character'</dd><dt>management</dt><dd>'character'</dd><dt>management_group</dt><dd>'character'</dd><dt>payment</dt><dd>'character'</dd><dt>payment_type</dt><dd>'character'</dd><dt>water_quality</dt><dd>'character'</dd><dt>quality_group</dt><dd>'character'</dd><dt>quantity</dt><dd>'character'</dd><dt>quantity_group</dt><dd>'character'</dd><dt>source</dt><dd>'character'</dd><dt>source_type</dt><dd>'character'</dd><dt>source_class</dt><dd>'character'</dd><dt>waterpoint_type</dt><dd>'character'</dd><dt>waterpoint_type_group</dt><dd>'character'</dd></dl>\n"
      ],
      "text/latex": [
       "\\begin{description*}\n",
       "\\item[id] 'integer'\n",
       "\\item[amount\\textbackslash{}\\_tsh] 'numeric'\n",
       "\\item[date\\textbackslash{}\\_recorded] 'character'\n",
       "\\item[funder] 'character'\n",
       "\\item[gps\\textbackslash{}\\_height] 'integer'\n",
       "\\item[installer] 'character'\n",
       "\\item[longitude] 'numeric'\n",
       "\\item[latitude] 'numeric'\n",
       "\\item[wpt\\textbackslash{}\\_name] 'character'\n",
       "\\item[num\\textbackslash{}\\_private] 'integer'\n",
       "\\item[basin] 'character'\n",
       "\\item[subvillage] 'character'\n",
       "\\item[region] 'character'\n",
       "\\item[region\\textbackslash{}\\_code] 'integer'\n",
       "\\item[district\\textbackslash{}\\_code] 'integer'\n",
       "\\item[lga] 'character'\n",
       "\\item[ward] 'character'\n",
       "\\item[population] 'integer'\n",
       "\\item[public\\textbackslash{}\\_meeting] 'character'\n",
       "\\item[recorded\\textbackslash{}\\_by] 'character'\n",
       "\\item[scheme\\textbackslash{}\\_management] 'character'\n",
       "\\item[scheme\\textbackslash{}\\_name] 'character'\n",
       "\\item[permit] 'character'\n",
       "\\item[construction\\textbackslash{}\\_year] 'integer'\n",
       "\\item[extraction\\textbackslash{}\\_type] 'character'\n",
       "\\item[extraction\\textbackslash{}\\_type\\textbackslash{}\\_group] 'character'\n",
       "\\item[extraction\\textbackslash{}\\_type\\textbackslash{}\\_class] 'character'\n",
       "\\item[management] 'character'\n",
       "\\item[management\\textbackslash{}\\_group] 'character'\n",
       "\\item[payment] 'character'\n",
       "\\item[payment\\textbackslash{}\\_type] 'character'\n",
       "\\item[water\\textbackslash{}\\_quality] 'character'\n",
       "\\item[quality\\textbackslash{}\\_group] 'character'\n",
       "\\item[quantity] 'character'\n",
       "\\item[quantity\\textbackslash{}\\_group] 'character'\n",
       "\\item[source] 'character'\n",
       "\\item[source\\textbackslash{}\\_type] 'character'\n",
       "\\item[source\\textbackslash{}\\_class] 'character'\n",
       "\\item[waterpoint\\textbackslash{}\\_type] 'character'\n",
       "\\item[waterpoint\\textbackslash{}\\_type\\textbackslash{}\\_group] 'character'\n",
       "\\end{description*}\n"
      ],
      "text/markdown": [
       "id\n",
       ":   'integer'amount_tsh\n",
       ":   'numeric'date_recorded\n",
       ":   'character'funder\n",
       ":   'character'gps_height\n",
       ":   'integer'installer\n",
       ":   'character'longitude\n",
       ":   'numeric'latitude\n",
       ":   'numeric'wpt_name\n",
       ":   'character'num_private\n",
       ":   'integer'basin\n",
       ":   'character'subvillage\n",
       ":   'character'region\n",
       ":   'character'region_code\n",
       ":   'integer'district_code\n",
       ":   'integer'lga\n",
       ":   'character'ward\n",
       ":   'character'population\n",
       ":   'integer'public_meeting\n",
       ":   'character'recorded_by\n",
       ":   'character'scheme_management\n",
       ":   'character'scheme_name\n",
       ":   'character'permit\n",
       ":   'character'construction_year\n",
       ":   'integer'extraction_type\n",
       ":   'character'extraction_type_group\n",
       ":   'character'extraction_type_class\n",
       ":   'character'management\n",
       ":   'character'management_group\n",
       ":   'character'payment\n",
       ":   'character'payment_type\n",
       ":   'character'water_quality\n",
       ":   'character'quality_group\n",
       ":   'character'quantity\n",
       ":   'character'quantity_group\n",
       ":   'character'source\n",
       ":   'character'source_type\n",
       ":   'character'source_class\n",
       ":   'character'waterpoint_type\n",
       ":   'character'waterpoint_type_group\n",
       ":   'character'\n",
       "\n"
      ],
      "text/plain": [
       "                   id            amount_tsh         date_recorded \n",
       "            \"integer\"             \"numeric\"           \"character\" \n",
       "               funder            gps_height             installer \n",
       "          \"character\"             \"integer\"           \"character\" \n",
       "            longitude              latitude              wpt_name \n",
       "            \"numeric\"             \"numeric\"           \"character\" \n",
       "          num_private                 basin            subvillage \n",
       "            \"integer\"           \"character\"           \"character\" \n",
       "               region           region_code         district_code \n",
       "          \"character\"             \"integer\"             \"integer\" \n",
       "                  lga                  ward            population \n",
       "          \"character\"           \"character\"             \"integer\" \n",
       "       public_meeting           recorded_by     scheme_management \n",
       "          \"character\"           \"character\"           \"character\" \n",
       "          scheme_name                permit     construction_year \n",
       "          \"character\"           \"character\"             \"integer\" \n",
       "      extraction_type extraction_type_group extraction_type_class \n",
       "          \"character\"           \"character\"           \"character\" \n",
       "           management      management_group               payment \n",
       "          \"character\"           \"character\"           \"character\" \n",
       "         payment_type         water_quality         quality_group \n",
       "          \"character\"           \"character\"           \"character\" \n",
       "             quantity        quantity_group                source \n",
       "          \"character\"           \"character\"           \"character\" \n",
       "          source_type          source_class       waterpoint_type \n",
       "          \"character\"           \"character\"           \"character\" \n",
       "waterpoint_type_group \n",
       "          \"character\" "
      ]
     },
     "metadata": {},
     "output_type": "display_data"
    }
   ],
   "source": [
    "dim(dataset)\n",
    "sapply(dataset, class)"
   ]
  },
  {
   "cell_type": "markdown",
   "metadata": {},
   "source": [
    "We now have to see which features will be kept, and which one introduce redundancy, or whose information aren't relevant to the problem.<br>\n",
    "We can see that there are 40 columns in our dataset.<br>\n",
    "Looking at the column types, we come accross two types of values : numerical and categorical. For the categorical values, a new encoding is required (like the one hot encoding for example) to obtain numerical values. However, the more unique values for a given columns, the more columns will be added to the dataset, so the features to keep have to take this into account."
   ]
  },
  {
   "cell_type": "code",
   "execution_count": 4,
   "metadata": {},
   "outputs": [
    {
     "data": {
      "text/html": [
       "<table class=\"dataframe\">\n",
       "<caption>A data.frame: 6 × 40</caption>\n",
       "<thead>\n",
       "\t<tr><th></th><th scope=col>id</th><th scope=col>amount_tsh</th><th scope=col>date_recorded</th><th scope=col>funder</th><th scope=col>gps_height</th><th scope=col>installer</th><th scope=col>longitude</th><th scope=col>latitude</th><th scope=col>wpt_name</th><th scope=col>num_private</th><th scope=col>⋯</th><th scope=col>payment_type</th><th scope=col>water_quality</th><th scope=col>quality_group</th><th scope=col>quantity</th><th scope=col>quantity_group</th><th scope=col>source</th><th scope=col>source_type</th><th scope=col>source_class</th><th scope=col>waterpoint_type</th><th scope=col>waterpoint_type_group</th></tr>\n",
       "\t<tr><th></th><th scope=col>&lt;int&gt;</th><th scope=col>&lt;dbl&gt;</th><th scope=col>&lt;chr&gt;</th><th scope=col>&lt;chr&gt;</th><th scope=col>&lt;int&gt;</th><th scope=col>&lt;chr&gt;</th><th scope=col>&lt;dbl&gt;</th><th scope=col>&lt;dbl&gt;</th><th scope=col>&lt;chr&gt;</th><th scope=col>&lt;int&gt;</th><th scope=col>⋯</th><th scope=col>&lt;chr&gt;</th><th scope=col>&lt;chr&gt;</th><th scope=col>&lt;chr&gt;</th><th scope=col>&lt;chr&gt;</th><th scope=col>&lt;chr&gt;</th><th scope=col>&lt;chr&gt;</th><th scope=col>&lt;chr&gt;</th><th scope=col>&lt;chr&gt;</th><th scope=col>&lt;chr&gt;</th><th scope=col>&lt;chr&gt;</th></tr>\n",
       "</thead>\n",
       "<tbody>\n",
       "\t<tr><th scope=row>1</th><td>69572</td><td>6000</td><td>2011-03-14</td><td>Roman              </td><td>1390</td><td>Roman       </td><td>34.93809</td><td> -9.856322</td><td>none                </td><td>0</td><td>⋯</td><td>annually  </td><td>soft </td><td>good </td><td>enough      </td><td>enough      </td><td>spring              </td><td>spring              </td><td>groundwater</td><td>communal standpipe         </td><td>communal standpipe</td></tr>\n",
       "\t<tr><th scope=row>2</th><td> 8776</td><td>   0</td><td>2013-03-06</td><td>Grumeti            </td><td>1399</td><td>GRUMETI     </td><td>34.69877</td><td> -2.147466</td><td>Zahanati            </td><td>0</td><td>⋯</td><td>never pay </td><td>soft </td><td>good </td><td>insufficient</td><td>insufficient</td><td>rainwater harvesting</td><td>rainwater harvesting</td><td>surface    </td><td>communal standpipe         </td><td>communal standpipe</td></tr>\n",
       "\t<tr><th scope=row>3</th><td>34310</td><td>  25</td><td>2013-02-25</td><td>Lottery Club       </td><td> 686</td><td>World vision</td><td>37.46066</td><td> -3.821329</td><td>Kwa Mahundi         </td><td>0</td><td>⋯</td><td>per bucket</td><td>soft </td><td>good </td><td>enough      </td><td>enough      </td><td>dam                 </td><td>dam                 </td><td>surface    </td><td>communal standpipe multiple</td><td>communal standpipe</td></tr>\n",
       "\t<tr><th scope=row>4</th><td>67743</td><td>   0</td><td>2013-01-28</td><td>Unicef             </td><td> 263</td><td>UNICEF      </td><td>38.48616</td><td>-11.155298</td><td>Zahanati Ya Nanyumbu</td><td>0</td><td>⋯</td><td>never pay </td><td>soft </td><td>good </td><td>dry         </td><td>dry         </td><td>machine dbh         </td><td>borehole            </td><td>groundwater</td><td>communal standpipe multiple</td><td>communal standpipe</td></tr>\n",
       "\t<tr><th scope=row>5</th><td>19728</td><td>   0</td><td>2011-07-13</td><td>Action In A        </td><td>   0</td><td>Artisan     </td><td>31.13085</td><td> -1.825359</td><td>Shuleni             </td><td>0</td><td>⋯</td><td>never pay </td><td>soft </td><td>good </td><td>seasonal    </td><td>seasonal    </td><td>rainwater harvesting</td><td>rainwater harvesting</td><td>surface    </td><td>communal standpipe         </td><td>communal standpipe</td></tr>\n",
       "\t<tr><th scope=row>6</th><td> 9944</td><td>  20</td><td>2011-03-13</td><td>Mkinga Distric Coun</td><td>   0</td><td>DWE         </td><td>39.17280</td><td> -4.765587</td><td>Tajiri              </td><td>0</td><td>⋯</td><td>per bucket</td><td>salty</td><td>salty</td><td>enough      </td><td>enough      </td><td>other               </td><td>other               </td><td>unknown    </td><td>communal standpipe multiple</td><td>communal standpipe</td></tr>\n",
       "</tbody>\n",
       "</table>\n"
      ],
      "text/latex": [
       "A data.frame: 6 × 40\n",
       "\\begin{tabular}{r|lllllllllllllllllllll}\n",
       "  & id & amount\\_tsh & date\\_recorded & funder & gps\\_height & installer & longitude & latitude & wpt\\_name & num\\_private & ⋯ & payment\\_type & water\\_quality & quality\\_group & quantity & quantity\\_group & source & source\\_type & source\\_class & waterpoint\\_type & waterpoint\\_type\\_group\\\\\n",
       "  & <int> & <dbl> & <chr> & <chr> & <int> & <chr> & <dbl> & <dbl> & <chr> & <int> & ⋯ & <chr> & <chr> & <chr> & <chr> & <chr> & <chr> & <chr> & <chr> & <chr> & <chr>\\\\\n",
       "\\hline\n",
       "\t1 & 69572 & 6000 & 2011-03-14 & Roman               & 1390 & Roman        & 34.93809 &  -9.856322 & none                 & 0 & ⋯ & annually   & soft  & good  & enough       & enough       & spring               & spring               & groundwater & communal standpipe          & communal standpipe\\\\\n",
       "\t2 &  8776 &    0 & 2013-03-06 & Grumeti             & 1399 & GRUMETI      & 34.69877 &  -2.147466 & Zahanati             & 0 & ⋯ & never pay  & soft  & good  & insufficient & insufficient & rainwater harvesting & rainwater harvesting & surface     & communal standpipe          & communal standpipe\\\\\n",
       "\t3 & 34310 &   25 & 2013-02-25 & Lottery Club        &  686 & World vision & 37.46066 &  -3.821329 & Kwa Mahundi          & 0 & ⋯ & per bucket & soft  & good  & enough       & enough       & dam                  & dam                  & surface     & communal standpipe multiple & communal standpipe\\\\\n",
       "\t4 & 67743 &    0 & 2013-01-28 & Unicef              &  263 & UNICEF       & 38.48616 & -11.155298 & Zahanati Ya Nanyumbu & 0 & ⋯ & never pay  & soft  & good  & dry          & dry          & machine dbh          & borehole             & groundwater & communal standpipe multiple & communal standpipe\\\\\n",
       "\t5 & 19728 &    0 & 2011-07-13 & Action In A         &    0 & Artisan      & 31.13085 &  -1.825359 & Shuleni              & 0 & ⋯ & never pay  & soft  & good  & seasonal     & seasonal     & rainwater harvesting & rainwater harvesting & surface     & communal standpipe          & communal standpipe\\\\\n",
       "\t6 &  9944 &   20 & 2011-03-13 & Mkinga Distric Coun &    0 & DWE          & 39.17280 &  -4.765587 & Tajiri               & 0 & ⋯ & per bucket & salty & salty & enough       & enough       & other                & other                & unknown     & communal standpipe multiple & communal standpipe\\\\\n",
       "\\end{tabular}\n"
      ],
      "text/markdown": [
       "\n",
       "A data.frame: 6 × 40\n",
       "\n",
       "| <!--/--> | id &lt;int&gt; | amount_tsh &lt;dbl&gt; | date_recorded &lt;chr&gt; | funder &lt;chr&gt; | gps_height &lt;int&gt; | installer &lt;chr&gt; | longitude &lt;dbl&gt; | latitude &lt;dbl&gt; | wpt_name &lt;chr&gt; | num_private &lt;int&gt; | ⋯ ⋯ | payment_type &lt;chr&gt; | water_quality &lt;chr&gt; | quality_group &lt;chr&gt; | quantity &lt;chr&gt; | quantity_group &lt;chr&gt; | source &lt;chr&gt; | source_type &lt;chr&gt; | source_class &lt;chr&gt; | waterpoint_type &lt;chr&gt; | waterpoint_type_group &lt;chr&gt; |\n",
       "|---|---|---|---|---|---|---|---|---|---|---|---|---|---|---|---|---|---|---|---|---|---|\n",
       "| 1 | 69572 | 6000 | 2011-03-14 | Roman               | 1390 | Roman        | 34.93809 |  -9.856322 | none                 | 0 | ⋯ | annually   | soft  | good  | enough       | enough       | spring               | spring               | groundwater | communal standpipe          | communal standpipe |\n",
       "| 2 |  8776 |    0 | 2013-03-06 | Grumeti             | 1399 | GRUMETI      | 34.69877 |  -2.147466 | Zahanati             | 0 | ⋯ | never pay  | soft  | good  | insufficient | insufficient | rainwater harvesting | rainwater harvesting | surface     | communal standpipe          | communal standpipe |\n",
       "| 3 | 34310 |   25 | 2013-02-25 | Lottery Club        |  686 | World vision | 37.46066 |  -3.821329 | Kwa Mahundi          | 0 | ⋯ | per bucket | soft  | good  | enough       | enough       | dam                  | dam                  | surface     | communal standpipe multiple | communal standpipe |\n",
       "| 4 | 67743 |    0 | 2013-01-28 | Unicef              |  263 | UNICEF       | 38.48616 | -11.155298 | Zahanati Ya Nanyumbu | 0 | ⋯ | never pay  | soft  | good  | dry          | dry          | machine dbh          | borehole             | groundwater | communal standpipe multiple | communal standpipe |\n",
       "| 5 | 19728 |    0 | 2011-07-13 | Action In A         |    0 | Artisan      | 31.13085 |  -1.825359 | Shuleni              | 0 | ⋯ | never pay  | soft  | good  | seasonal     | seasonal     | rainwater harvesting | rainwater harvesting | surface     | communal standpipe          | communal standpipe |\n",
       "| 6 |  9944 |   20 | 2011-03-13 | Mkinga Distric Coun |    0 | DWE          | 39.17280 |  -4.765587 | Tajiri               | 0 | ⋯ | per bucket | salty | salty | enough       | enough       | other                | other                | unknown     | communal standpipe multiple | communal standpipe |\n",
       "\n"
      ],
      "text/plain": [
       "  id    amount_tsh date_recorded funder              gps_height installer   \n",
       "1 69572 6000       2011-03-14    Roman               1390       Roman       \n",
       "2  8776    0       2013-03-06    Grumeti             1399       GRUMETI     \n",
       "3 34310   25       2013-02-25    Lottery Club         686       World vision\n",
       "4 67743    0       2013-01-28    Unicef               263       UNICEF      \n",
       "5 19728    0       2011-07-13    Action In A            0       Artisan     \n",
       "6  9944   20       2011-03-13    Mkinga Distric Coun    0       DWE         \n",
       "  longitude latitude   wpt_name             num_private ⋯ payment_type\n",
       "1 34.93809   -9.856322 none                 0           ⋯ annually    \n",
       "2 34.69877   -2.147466 Zahanati             0           ⋯ never pay   \n",
       "3 37.46066   -3.821329 Kwa Mahundi          0           ⋯ per bucket  \n",
       "4 38.48616  -11.155298 Zahanati Ya Nanyumbu 0           ⋯ never pay   \n",
       "5 31.13085   -1.825359 Shuleni              0           ⋯ never pay   \n",
       "6 39.17280   -4.765587 Tajiri               0           ⋯ per bucket  \n",
       "  water_quality quality_group quantity     quantity_group source              \n",
       "1 soft          good          enough       enough         spring              \n",
       "2 soft          good          insufficient insufficient   rainwater harvesting\n",
       "3 soft          good          enough       enough         dam                 \n",
       "4 soft          good          dry          dry            machine dbh         \n",
       "5 soft          good          seasonal     seasonal       rainwater harvesting\n",
       "6 salty         salty         enough       enough         other               \n",
       "  source_type          source_class waterpoint_type            \n",
       "1 spring               groundwater  communal standpipe         \n",
       "2 rainwater harvesting surface      communal standpipe         \n",
       "3 dam                  surface      communal standpipe multiple\n",
       "4 borehole             groundwater  communal standpipe multiple\n",
       "5 rainwater harvesting surface      communal standpipe         \n",
       "6 other                unknown      communal standpipe multiple\n",
       "  waterpoint_type_group\n",
       "1 communal standpipe   \n",
       "2 communal standpipe   \n",
       "3 communal standpipe   \n",
       "4 communal standpipe   \n",
       "5 communal standpipe   \n",
       "6 communal standpipe   "
      ]
     },
     "metadata": {},
     "output_type": "display_data"
    }
   ],
   "source": [
    "head(dataset)"
   ]
  },
  {
   "cell_type": "markdown",
   "metadata": {},
   "source": [
    "- The first feature we can look at is the date recorded. According to the description of the features, the row date_recorded corresponds to the date the row was entered. So it is not relevant at all to our probem. We can then remove it from the dataset.\n",
    "- The next fetaure is num_private. There is no description of it vailable on the datadriven website, so we can try looking at the values it holds :"
   ]
  },
  {
   "cell_type": "code",
   "execution_count": 5,
   "metadata": {},
   "outputs": [
    {
     "data": {
      "text/html": [
       "<style>\n",
       ".list-inline {list-style: none; margin:0; padding: 0}\n",
       ".list-inline>li {display: inline-block}\n",
       ".list-inline>li:not(:last-child)::after {content: \"\\00b7\"; padding: 0 .5ex}\n",
       "</style>\n",
       "<ol class=list-inline><li>0</li><li>39</li><li>5</li><li>45</li><li>6</li><li>3</li><li>698</li><li>32</li><li>15</li><li>7</li><li>25</li><li>102</li><li>1</li><li>93</li><li>14</li><li>34</li><li>120</li><li>17</li><li>213</li><li>47</li><li>8</li><li>41</li><li>80</li><li>141</li><li>20</li><li>35</li><li>131</li><li>4</li><li>22</li><li>11</li><li>87</li><li>61</li><li>65</li><li>136</li><li>2</li><li>180</li><li>38</li><li>62</li><li>9</li><li>16</li><li>23</li><li>42</li><li>24</li><li>12</li><li>668</li><li>672</li><li>58</li><li>150</li><li>280</li><li>160</li><li>50</li><li>1776</li><li>30</li><li>27</li><li>10</li><li>94</li><li>26</li><li>450</li><li>240</li><li>755</li><li>60</li><li>111</li><li>300</li><li>55</li><li>1402</li></ol>\n"
      ],
      "text/latex": [
       "\\begin{enumerate*}\n",
       "\\item 0\n",
       "\\item 39\n",
       "\\item 5\n",
       "\\item 45\n",
       "\\item 6\n",
       "\\item 3\n",
       "\\item 698\n",
       "\\item 32\n",
       "\\item 15\n",
       "\\item 7\n",
       "\\item 25\n",
       "\\item 102\n",
       "\\item 1\n",
       "\\item 93\n",
       "\\item 14\n",
       "\\item 34\n",
       "\\item 120\n",
       "\\item 17\n",
       "\\item 213\n",
       "\\item 47\n",
       "\\item 8\n",
       "\\item 41\n",
       "\\item 80\n",
       "\\item 141\n",
       "\\item 20\n",
       "\\item 35\n",
       "\\item 131\n",
       "\\item 4\n",
       "\\item 22\n",
       "\\item 11\n",
       "\\item 87\n",
       "\\item 61\n",
       "\\item 65\n",
       "\\item 136\n",
       "\\item 2\n",
       "\\item 180\n",
       "\\item 38\n",
       "\\item 62\n",
       "\\item 9\n",
       "\\item 16\n",
       "\\item 23\n",
       "\\item 42\n",
       "\\item 24\n",
       "\\item 12\n",
       "\\item 668\n",
       "\\item 672\n",
       "\\item 58\n",
       "\\item 150\n",
       "\\item 280\n",
       "\\item 160\n",
       "\\item 50\n",
       "\\item 1776\n",
       "\\item 30\n",
       "\\item 27\n",
       "\\item 10\n",
       "\\item 94\n",
       "\\item 26\n",
       "\\item 450\n",
       "\\item 240\n",
       "\\item 755\n",
       "\\item 60\n",
       "\\item 111\n",
       "\\item 300\n",
       "\\item 55\n",
       "\\item 1402\n",
       "\\end{enumerate*}\n"
      ],
      "text/markdown": [
       "1. 0\n",
       "2. 39\n",
       "3. 5\n",
       "4. 45\n",
       "5. 6\n",
       "6. 3\n",
       "7. 698\n",
       "8. 32\n",
       "9. 15\n",
       "10. 7\n",
       "11. 25\n",
       "12. 102\n",
       "13. 1\n",
       "14. 93\n",
       "15. 14\n",
       "16. 34\n",
       "17. 120\n",
       "18. 17\n",
       "19. 213\n",
       "20. 47\n",
       "21. 8\n",
       "22. 41\n",
       "23. 80\n",
       "24. 141\n",
       "25. 20\n",
       "26. 35\n",
       "27. 131\n",
       "28. 4\n",
       "29. 22\n",
       "30. 11\n",
       "31. 87\n",
       "32. 61\n",
       "33. 65\n",
       "34. 136\n",
       "35. 2\n",
       "36. 180\n",
       "37. 38\n",
       "38. 62\n",
       "39. 9\n",
       "40. 16\n",
       "41. 23\n",
       "42. 42\n",
       "43. 24\n",
       "44. 12\n",
       "45. 668\n",
       "46. 672\n",
       "47. 58\n",
       "48. 150\n",
       "49. 280\n",
       "50. 160\n",
       "51. 50\n",
       "52. 1776\n",
       "53. 30\n",
       "54. 27\n",
       "55. 10\n",
       "56. 94\n",
       "57. 26\n",
       "58. 450\n",
       "59. 240\n",
       "60. 755\n",
       "61. 60\n",
       "62. 111\n",
       "63. 300\n",
       "64. 55\n",
       "65. 1402\n",
       "\n",
       "\n"
      ],
      "text/plain": [
       " [1]    0   39    5   45    6    3  698   32   15    7   25  102    1   93   14\n",
       "[16]   34  120   17  213   47    8   41   80  141   20   35  131    4   22   11\n",
       "[31]   87   61   65  136    2  180   38   62    9   16   23   42   24   12  668\n",
       "[46]  672   58  150  280  160   50 1776   30   27   10   94   26  450  240  755\n",
       "[61]   60  111  300   55 1402"
      ]
     },
     "metadata": {},
     "output_type": "display_data"
    },
    {
     "data": {
      "text/plain": [
       "\n",
       "    0     1     2     3     4     5     6     7     8     9    10    11    12 \n",
       "58643    73    23    27    20    46    81    26    46     4     4    11     5 \n",
       "   14    15    16    17    20    22    23    24    25    26    27    30    32 \n",
       "    3    35     8    17    14     6     1     5    12     2     2     1    40 \n",
       "   34    35    38    39    41    42    45    47    50    55    58    60    61 \n",
       "   10     1     4    30    10     1    36    21     5     1     4     1     3 \n",
       "   62    65    80    87    93    94   102   111   120   131   136   141   150 \n",
       "    1    22    15     1    28     1    20     1     7     1     1     1     6 \n",
       "  160   180   213   240   280   300   450   668   672   698   755  1402  1776 \n",
       "    1     1     1     1     1     1     1     1     1     1     1     1     1 "
      ]
     },
     "metadata": {},
     "output_type": "display_data"
    }
   ],
   "source": [
    "#All the values of this column present in this dataset\n",
    "unique(dataset$num_private) \n",
    "#Frequency of each value\n",
    "(table(dataset$num_private))"
   ]
  },
  {
   "cell_type": "markdown",
   "metadata": {},
   "source": [
    "We see that more than half the values are zero, which could suggest the value is just missing. Anyway, the values are not diversified enough so we remove that column from our dataset."
   ]
  },
  {
   "cell_type": "code",
   "execution_count": 6,
   "metadata": {},
   "outputs": [
    {
     "data": {
      "text/html": [
       "1898"
      ],
      "text/latex": [
       "1898"
      ],
      "text/markdown": [
       "1898"
      ],
      "text/plain": [
       "[1] 1898"
      ]
     },
     "metadata": {},
     "output_type": "display_data"
    },
    {
     "data": {
      "text/html": [
       "2146"
      ],
      "text/latex": [
       "2146"
      ],
      "text/markdown": [
       "2146"
      ],
      "text/plain": [
       "[1] 2146"
      ]
     },
     "metadata": {},
     "output_type": "display_data"
    },
    {
     "data": {
      "text/html": [
       "37400"
      ],
      "text/latex": [
       "37400"
      ],
      "text/markdown": [
       "37400"
      ],
      "text/plain": [
       "[1] 37400"
      ]
     },
     "metadata": {},
     "output_type": "display_data"
    },
    {
     "data": {
      "text/html": [
       "19288"
      ],
      "text/latex": [
       "19288"
      ],
      "text/markdown": [
       "19288"
      ],
      "text/plain": [
       "[1] 19288"
      ]
     },
     "metadata": {},
     "output_type": "display_data"
    }
   ],
   "source": [
    "#All the values of this column present in this dataset\n",
    "length(unique(dataset$funder)) \n",
    "length(unique(dataset$installer))\n",
    "length(unique(dataset$wpt_name)) \n",
    "length(unique(dataset$subvillage))"
   ]
  },
  {
   "cell_type": "markdown",
   "metadata": {},
   "source": [
    "- The funder feature is also categorical. Looking at the number of unique values, there are 1898. Encoding this using one hot is not a good idea since it will introduce too many new parameters and will probably have a huge impact on the speed and accuracy of our future models.\n",
    "- The same observation can be made for the installer, wpt_name and subvillage features.\n",
    "- We can look at the following features together : region, region_code, lga, district code and ward :"
   ]
  },
  {
   "cell_type": "code",
   "execution_count": 7,
   "metadata": {},
   "outputs": [
    {
     "data": {
      "text/html": [
       "125"
      ],
      "text/latex": [
       "125"
      ],
      "text/markdown": [
       "125"
      ],
      "text/plain": [
       "[1] 125"
      ]
     },
     "metadata": {},
     "output_type": "display_data"
    },
    {
     "data": {
      "text/html": [
       "2092"
      ],
      "text/latex": [
       "2092"
      ],
      "text/markdown": [
       "2092"
      ],
      "text/plain": [
       "[1] 2092"
      ]
     },
     "metadata": {},
     "output_type": "display_data"
    },
    {
     "data": {
      "text/html": [
       "21"
      ],
      "text/latex": [
       "21"
      ],
      "text/markdown": [
       "21"
      ],
      "text/plain": [
       "[1] 21"
      ]
     },
     "metadata": {},
     "output_type": "display_data"
    },
    {
     "data": {
      "text/plain": [
       "\n",
       "       Arusha Dar es Salaam        Dodoma        Iringa        Kagera \n",
       "         3350           805          2201          5294          3316 \n",
       "       Kigoma   Kilimanjaro         Lindi       Manyara          Mara \n",
       "         2816          4379          1546          1583          1969 \n",
       "        Mbeya      Morogoro        Mtwara        Mwanza         Pwani \n",
       "         4639          4006          1730          3102          2635 \n",
       "        Rukwa        Ruvuma     Shinyanga       Singida        Tabora \n",
       "         1808          2640          4982          2093          1959 \n",
       "        Tanga \n",
       "         2547 "
      ]
     },
     "metadata": {},
     "output_type": "display_data"
    },
    {
     "data": {
      "text/html": [
       "27"
      ],
      "text/latex": [
       "27"
      ],
      "text/markdown": [
       "27"
      ],
      "text/plain": [
       "[1] 27"
      ]
     },
     "metadata": {},
     "output_type": "display_data"
    },
    {
     "data": {
      "text/plain": [
       "\n",
       "   1    2    3    4    5    6    7    8    9   10   11   12   13   14   15   16 \n",
       "2201 3024 4379 2513 4040 1609  805  300  390 2640 5300 4639 2093 1979 1808 2816 \n",
       "  17   18   19   20   21   24   40   60   80   90   99 \n",
       "5011 3324 3047 1969 1583  326    1 1025 1238  917  423 "
      ]
     },
     "metadata": {},
     "output_type": "display_data"
    },
    {
     "data": {
      "text/html": [
       "20"
      ],
      "text/latex": [
       "20"
      ],
      "text/markdown": [
       "20"
      ],
      "text/plain": [
       "[1] 20"
      ]
     },
     "metadata": {},
     "output_type": "display_data"
    },
    {
     "data": {
      "text/plain": [
       "\n",
       "    0     1     2     3     4     5     6     7     8    13    23    30    33 \n",
       "   23 12203 11173  9998  8999  4356  4074  3343  1043   391   293   995   874 \n",
       "   43    53    60    62    63    67    80 \n",
       "  505   745    63   109   195     6    12 "
      ]
     },
     "metadata": {},
     "output_type": "display_data"
    }
   ],
   "source": [
    "length(unique(dataset$lga)) \n",
    "length(unique(dataset$ward))\n",
    "\n",
    "#All the values of this column present in this dataset\n",
    "length(unique(dataset$region)) \n",
    "#Frequency of each value\n",
    "(table(dataset$region))\n",
    "\n",
    "#All the values of this column present in this dataset\n",
    "length(unique(dataset$region_code)) \n",
    "#Frequency of each value\n",
    "(table(dataset$region_code))\n",
    "\n",
    "#All the values of this column present in this dataset\n",
    "length(unique(dataset$district_code)) \n",
    "#Frequency of each value\n",
    "(table(dataset$district_code))"
   ]
  },
  {
   "cell_type": "markdown",
   "metadata": {},
   "source": [
    "- We can right away remove features lga and ward, since they are both categorical and the number of unqiue values is very big.\n",
    "- Distric code is a proxy of region, so we decided to remove it and keep region.\n",
    "- Region_code and region represnt the same information, so we removed region code too."
   ]
  },
  {
   "cell_type": "code",
   "execution_count": 8,
   "metadata": {},
   "outputs": [
    {
     "data": {
      "text/html": [
       "2697"
      ],
      "text/latex": [
       "2697"
      ],
      "text/markdown": [
       "2697"
      ],
      "text/plain": [
       "[1] 2697"
      ]
     },
     "metadata": {},
     "output_type": "display_data"
    }
   ],
   "source": [
    "length(unique(dataset$scheme_name))"
   ]
  },
  {
   "cell_type": "markdown",
   "metadata": {},
   "source": [
    "- For the scheme_name, we see that we have 2967 different categorical values, wo we will drop this feature too.\n",
    "- The next two features we can look at are payment and payment type : "
   ]
  },
  {
   "cell_type": "code",
   "execution_count": 9,
   "metadata": {},
   "outputs": [
    {
     "data": {
      "text/html": [
       "7"
      ],
      "text/latex": [
       "7"
      ],
      "text/markdown": [
       "7"
      ],
      "text/plain": [
       "[1] 7"
      ]
     },
     "metadata": {},
     "output_type": "display_data"
    },
    {
     "data": {
      "text/plain": [
       "\n",
       "            never pay                 other          pay annually \n",
       "                25348                  1054                  3642 \n",
       "          pay monthly        pay per bucket pay when scheme fails \n",
       "                 8300                  8985                  3914 \n",
       "              unknown \n",
       "                 8157 "
      ]
     },
     "metadata": {},
     "output_type": "display_data"
    },
    {
     "data": {
      "text/html": [
       "7"
      ],
      "text/latex": [
       "7"
      ],
      "text/markdown": [
       "7"
      ],
      "text/plain": [
       "[1] 7"
      ]
     },
     "metadata": {},
     "output_type": "display_data"
    },
    {
     "data": {
      "text/plain": [
       "\n",
       "  annually    monthly  never pay on failure      other per bucket    unknown \n",
       "      3642       8300      25348       3914       1054       8985       8157 "
      ]
     },
     "metadata": {},
     "output_type": "display_data"
    }
   ],
   "source": [
    "length(unique(dataset$payment)) \n",
    "(table(dataset$payment))\n",
    "\n",
    "length(unique(dataset$payment_type)) \n",
    "(table(dataset$payment_type))"
   ]
  },
  {
   "cell_type": "markdown",
   "metadata": {},
   "source": [
    "They contain the same values with the same occurence, but with slightly different names. These two columns are redundant so we only keep payment type."
   ]
  },
  {
   "cell_type": "code",
   "execution_count": 10,
   "metadata": {},
   "outputs": [
    {
     "data": {
      "text/html": [
       "5"
      ],
      "text/latex": [
       "5"
      ],
      "text/markdown": [
       "5"
      ],
      "text/plain": [
       "[1] 5"
      ]
     },
     "metadata": {},
     "output_type": "display_data"
    },
    {
     "data": {
      "text/plain": [
       "\n",
       "         dry       enough insufficient     seasonal      unknown \n",
       "        6246        33186        15129         4050          789 "
      ]
     },
     "metadata": {},
     "output_type": "display_data"
    },
    {
     "data": {
      "text/html": [
       "5"
      ],
      "text/latex": [
       "5"
      ],
      "text/markdown": [
       "5"
      ],
      "text/plain": [
       "[1] 5"
      ]
     },
     "metadata": {},
     "output_type": "display_data"
    },
    {
     "data": {
      "text/plain": [
       "\n",
       "         dry       enough insufficient     seasonal      unknown \n",
       "        6246        33186        15129         4050          789 "
      ]
     },
     "metadata": {},
     "output_type": "display_data"
    },
    {
     "data": {
      "text/html": [
       "7"
      ],
      "text/latex": [
       "7"
      ],
      "text/markdown": [
       "7"
      ],
      "text/plain": [
       "[1] 7"
      ]
     },
     "metadata": {},
     "output_type": "display_data"
    },
    {
     "data": {
      "text/plain": [
       "\n",
       "              cattle trough          communal standpipe \n",
       "                        116                       28522 \n",
       "communal standpipe multiple                         dam \n",
       "                       6103                           7 \n",
       "                  hand pump             improved spring \n",
       "                      17488                         784 \n",
       "                      other \n",
       "                       6380 "
      ]
     },
     "metadata": {},
     "output_type": "display_data"
    },
    {
     "data": {
      "text/html": [
       "6"
      ],
      "text/latex": [
       "6"
      ],
      "text/markdown": [
       "6"
      ],
      "text/plain": [
       "[1] 6"
      ]
     },
     "metadata": {},
     "output_type": "display_data"
    },
    {
     "data": {
      "text/plain": [
       "\n",
       "     cattle trough communal standpipe                dam          hand pump \n",
       "               116              34625                  7              17488 \n",
       "   improved spring              other \n",
       "               784               6380 "
      ]
     },
     "metadata": {},
     "output_type": "display_data"
    },
    {
     "data": {
      "text/html": [
       "1"
      ],
      "text/latex": [
       "1"
      ],
      "text/markdown": [
       "1"
      ],
      "text/plain": [
       "[1] 1"
      ]
     },
     "metadata": {},
     "output_type": "display_data"
    },
    {
     "data": {
      "text/plain": [
       "\n",
       "GeoData Consultants Ltd \n",
       "                  59400 "
      ]
     },
     "metadata": {},
     "output_type": "display_data"
    }
   ],
   "source": [
    "length(unique(dataset$quantity)) \n",
    "(table(dataset$quantity))\n",
    "length(unique(dataset$quantity_group)) \n",
    "(table(dataset$quantity_group))\n",
    "\n",
    "length(unique(dataset$waterpoint_type)) \n",
    "(table(dataset$waterpoint_type))\n",
    "length(unique(dataset$waterpoint_type_group)) \n",
    "(table(dataset$waterpoint_type_group))\n",
    "\n",
    "length(unique(dataset$recorded_by)) \n",
    "(table(dataset$recorded_by))"
   ]
  },
  {
   "cell_type": "markdown",
   "metadata": {},
   "source": [
    "- The two features quantity and quantity_group are identical, so we only need to keep one of them. We removed quantity\n",
    "- For the fetaures waterpoint_type and waterpoint_type_group, we see that the values are similar expect for communal standpipe that is divided into \"communal standpipe\" and \"communal standpipe multiplle\" for the waterpoint_type feature. So we chose to keep this feature since it gives a little more variability to the data.\n",
    "- Looking at the recorded_by feature, we see that it only has one value which is \"GeoData Consultants Ltd\", so it doesn't bring any information to the dataset. It has been then removed.\n",
    "- Removing id from the dataset, since the training dtaa and labels are both ordered in the same way"
   ]
  },
  {
   "cell_type": "code",
   "execution_count": 58,
   "metadata": {
    "scrolled": true
   },
   "outputs": [
    {
     "data": {
      "text/html": [
       "<table class=\"dataframe\">\n",
       "<caption>A data.frame: 6 × 24</caption>\n",
       "<thead>\n",
       "\t<tr><th></th><th scope=col>amount_tsh</th><th scope=col>gps_height</th><th scope=col>longitude</th><th scope=col>latitude</th><th scope=col>basin</th><th scope=col>region</th><th scope=col>population</th><th scope=col>public_meeting</th><th scope=col>scheme_management</th><th scope=col>permit</th><th scope=col>⋯</th><th scope=col>management</th><th scope=col>management_group</th><th scope=col>payment_type</th><th scope=col>water_quality</th><th scope=col>quality_group</th><th scope=col>quantity_group</th><th scope=col>source</th><th scope=col>source_type</th><th scope=col>source_class</th><th scope=col>waterpoint_type</th></tr>\n",
       "\t<tr><th></th><th scope=col>&lt;dbl&gt;</th><th scope=col>&lt;int&gt;</th><th scope=col>&lt;dbl&gt;</th><th scope=col>&lt;dbl&gt;</th><th scope=col>&lt;chr&gt;</th><th scope=col>&lt;chr&gt;</th><th scope=col>&lt;int&gt;</th><th scope=col>&lt;chr&gt;</th><th scope=col>&lt;chr&gt;</th><th scope=col>&lt;chr&gt;</th><th scope=col>⋯</th><th scope=col>&lt;chr&gt;</th><th scope=col>&lt;chr&gt;</th><th scope=col>&lt;chr&gt;</th><th scope=col>&lt;chr&gt;</th><th scope=col>&lt;chr&gt;</th><th scope=col>&lt;chr&gt;</th><th scope=col>&lt;chr&gt;</th><th scope=col>&lt;chr&gt;</th><th scope=col>&lt;chr&gt;</th><th scope=col>&lt;chr&gt;</th></tr>\n",
       "</thead>\n",
       "<tbody>\n",
       "\t<tr><th scope=row>1</th><td>6000</td><td>1390</td><td>34.93809</td><td> -9.856322</td><td>Lake Nyasa             </td><td>Iringa </td><td>109</td><td>True</td><td>VWC  </td><td>False</td><td>⋯</td><td>vwc  </td><td>user-group</td><td>annually  </td><td>soft </td><td>good </td><td>enough      </td><td>spring              </td><td>spring              </td><td>groundwater</td><td>communal standpipe         </td></tr>\n",
       "\t<tr><th scope=row>2</th><td>   0</td><td>1399</td><td>34.69877</td><td> -2.147466</td><td>Lake Victoria          </td><td>Mara   </td><td>280</td><td>    </td><td>Other</td><td>True </td><td>⋯</td><td>wug  </td><td>user-group</td><td>never pay </td><td>soft </td><td>good </td><td>insufficient</td><td>rainwater harvesting</td><td>rainwater harvesting</td><td>surface    </td><td>communal standpipe         </td></tr>\n",
       "\t<tr><th scope=row>3</th><td>  25</td><td> 686</td><td>37.46066</td><td> -3.821329</td><td>Pangani                </td><td>Manyara</td><td>250</td><td>True</td><td>VWC  </td><td>True </td><td>⋯</td><td>vwc  </td><td>user-group</td><td>per bucket</td><td>soft </td><td>good </td><td>enough      </td><td>dam                 </td><td>dam                 </td><td>surface    </td><td>communal standpipe multiple</td></tr>\n",
       "\t<tr><th scope=row>4</th><td>   0</td><td> 263</td><td>38.48616</td><td>-11.155298</td><td>Ruvuma / Southern Coast</td><td>Mtwara </td><td> 58</td><td>True</td><td>VWC  </td><td>True </td><td>⋯</td><td>vwc  </td><td>user-group</td><td>never pay </td><td>soft </td><td>good </td><td>dry         </td><td>machine dbh         </td><td>borehole            </td><td>groundwater</td><td>communal standpipe multiple</td></tr>\n",
       "\t<tr><th scope=row>5</th><td>   0</td><td>   0</td><td>31.13085</td><td> -1.825359</td><td>Lake Victoria          </td><td>Kagera </td><td>  0</td><td>True</td><td>     </td><td>True </td><td>⋯</td><td>other</td><td>other     </td><td>never pay </td><td>soft </td><td>good </td><td>seasonal    </td><td>rainwater harvesting</td><td>rainwater harvesting</td><td>surface    </td><td>communal standpipe         </td></tr>\n",
       "\t<tr><th scope=row>6</th><td>  20</td><td>   0</td><td>39.17280</td><td> -4.765587</td><td>Pangani                </td><td>Tanga  </td><td>  1</td><td>True</td><td>VWC  </td><td>True </td><td>⋯</td><td>vwc  </td><td>user-group</td><td>per bucket</td><td>salty</td><td>salty</td><td>enough      </td><td>other               </td><td>other               </td><td>unknown    </td><td>communal standpipe multiple</td></tr>\n",
       "</tbody>\n",
       "</table>\n"
      ],
      "text/latex": [
       "A data.frame: 6 × 24\n",
       "\\begin{tabular}{r|lllllllllllllllllllll}\n",
       "  & amount\\_tsh & gps\\_height & longitude & latitude & basin & region & population & public\\_meeting & scheme\\_management & permit & ⋯ & management & management\\_group & payment\\_type & water\\_quality & quality\\_group & quantity\\_group & source & source\\_type & source\\_class & waterpoint\\_type\\\\\n",
       "  & <dbl> & <int> & <dbl> & <dbl> & <chr> & <chr> & <int> & <chr> & <chr> & <chr> & ⋯ & <chr> & <chr> & <chr> & <chr> & <chr> & <chr> & <chr> & <chr> & <chr> & <chr>\\\\\n",
       "\\hline\n",
       "\t1 & 6000 & 1390 & 34.93809 &  -9.856322 & Lake Nyasa              & Iringa  & 109 & True & VWC   & False & ⋯ & vwc   & user-group & annually   & soft  & good  & enough       & spring               & spring               & groundwater & communal standpipe         \\\\\n",
       "\t2 &    0 & 1399 & 34.69877 &  -2.147466 & Lake Victoria           & Mara    & 280 &      & Other & True  & ⋯ & wug   & user-group & never pay  & soft  & good  & insufficient & rainwater harvesting & rainwater harvesting & surface     & communal standpipe         \\\\\n",
       "\t3 &   25 &  686 & 37.46066 &  -3.821329 & Pangani                 & Manyara & 250 & True & VWC   & True  & ⋯ & vwc   & user-group & per bucket & soft  & good  & enough       & dam                  & dam                  & surface     & communal standpipe multiple\\\\\n",
       "\t4 &    0 &  263 & 38.48616 & -11.155298 & Ruvuma / Southern Coast & Mtwara  &  58 & True & VWC   & True  & ⋯ & vwc   & user-group & never pay  & soft  & good  & dry          & machine dbh          & borehole             & groundwater & communal standpipe multiple\\\\\n",
       "\t5 &    0 &    0 & 31.13085 &  -1.825359 & Lake Victoria           & Kagera  &   0 & True &       & True  & ⋯ & other & other      & never pay  & soft  & good  & seasonal     & rainwater harvesting & rainwater harvesting & surface     & communal standpipe         \\\\\n",
       "\t6 &   20 &    0 & 39.17280 &  -4.765587 & Pangani                 & Tanga   &   1 & True & VWC   & True  & ⋯ & vwc   & user-group & per bucket & salty & salty & enough       & other                & other                & unknown     & communal standpipe multiple\\\\\n",
       "\\end{tabular}\n"
      ],
      "text/markdown": [
       "\n",
       "A data.frame: 6 × 24\n",
       "\n",
       "| <!--/--> | amount_tsh &lt;dbl&gt; | gps_height &lt;int&gt; | longitude &lt;dbl&gt; | latitude &lt;dbl&gt; | basin &lt;chr&gt; | region &lt;chr&gt; | population &lt;int&gt; | public_meeting &lt;chr&gt; | scheme_management &lt;chr&gt; | permit &lt;chr&gt; | ⋯ ⋯ | management &lt;chr&gt; | management_group &lt;chr&gt; | payment_type &lt;chr&gt; | water_quality &lt;chr&gt; | quality_group &lt;chr&gt; | quantity_group &lt;chr&gt; | source &lt;chr&gt; | source_type &lt;chr&gt; | source_class &lt;chr&gt; | waterpoint_type &lt;chr&gt; |\n",
       "|---|---|---|---|---|---|---|---|---|---|---|---|---|---|---|---|---|---|---|---|---|---|\n",
       "| 1 | 6000 | 1390 | 34.93809 |  -9.856322 | Lake Nyasa              | Iringa  | 109 | True | VWC   | False | ⋯ | vwc   | user-group | annually   | soft  | good  | enough       | spring               | spring               | groundwater | communal standpipe          |\n",
       "| 2 |    0 | 1399 | 34.69877 |  -2.147466 | Lake Victoria           | Mara    | 280 | <!----> | Other | True  | ⋯ | wug   | user-group | never pay  | soft  | good  | insufficient | rainwater harvesting | rainwater harvesting | surface     | communal standpipe          |\n",
       "| 3 |   25 |  686 | 37.46066 |  -3.821329 | Pangani                 | Manyara | 250 | True | VWC   | True  | ⋯ | vwc   | user-group | per bucket | soft  | good  | enough       | dam                  | dam                  | surface     | communal standpipe multiple |\n",
       "| 4 |    0 |  263 | 38.48616 | -11.155298 | Ruvuma / Southern Coast | Mtwara  |  58 | True | VWC   | True  | ⋯ | vwc   | user-group | never pay  | soft  | good  | dry          | machine dbh          | borehole             | groundwater | communal standpipe multiple |\n",
       "| 5 |    0 |    0 | 31.13085 |  -1.825359 | Lake Victoria           | Kagera  |   0 | True | <!----> | True  | ⋯ | other | other      | never pay  | soft  | good  | seasonal     | rainwater harvesting | rainwater harvesting | surface     | communal standpipe          |\n",
       "| 6 |   20 |    0 | 39.17280 |  -4.765587 | Pangani                 | Tanga   |   1 | True | VWC   | True  | ⋯ | vwc   | user-group | per bucket | salty | salty | enough       | other                | other                | unknown     | communal standpipe multiple |\n",
       "\n"
      ],
      "text/plain": [
       "  amount_tsh gps_height longitude latitude   basin                   region \n",
       "1 6000       1390       34.93809   -9.856322 Lake Nyasa              Iringa \n",
       "2    0       1399       34.69877   -2.147466 Lake Victoria           Mara   \n",
       "3   25        686       37.46066   -3.821329 Pangani                 Manyara\n",
       "4    0        263       38.48616  -11.155298 Ruvuma / Southern Coast Mtwara \n",
       "5    0          0       31.13085   -1.825359 Lake Victoria           Kagera \n",
       "6   20          0       39.17280   -4.765587 Pangani                 Tanga  \n",
       "  population public_meeting scheme_management permit ⋯ management\n",
       "1 109        True           VWC               False  ⋯ vwc       \n",
       "2 280                       Other             True   ⋯ wug       \n",
       "3 250        True           VWC               True   ⋯ vwc       \n",
       "4  58        True           VWC               True   ⋯ vwc       \n",
       "5   0        True                             True   ⋯ other     \n",
       "6   1        True           VWC               True   ⋯ vwc       \n",
       "  management_group payment_type water_quality quality_group quantity_group\n",
       "1 user-group       annually     soft          good          enough        \n",
       "2 user-group       never pay    soft          good          insufficient  \n",
       "3 user-group       per bucket   soft          good          enough        \n",
       "4 user-group       never pay    soft          good          dry           \n",
       "5 other            never pay    soft          good          seasonal      \n",
       "6 user-group       per bucket   salty         salty         enough        \n",
       "  source               source_type          source_class\n",
       "1 spring               spring               groundwater \n",
       "2 rainwater harvesting rainwater harvesting surface     \n",
       "3 dam                  dam                  surface     \n",
       "4 machine dbh          borehole             groundwater \n",
       "5 rainwater harvesting rainwater harvesting surface     \n",
       "6 other                other                unknown     \n",
       "  waterpoint_type            \n",
       "1 communal standpipe         \n",
       "2 communal standpipe         \n",
       "3 communal standpipe multiple\n",
       "4 communal standpipe multiple\n",
       "5 communal standpipe         \n",
       "6 communal standpipe multiple"
      ]
     },
     "metadata": {},
     "output_type": "display_data"
    }
   ],
   "source": [
    "# Delete the columns in cleaning based on the redundancy, the relevance of the information, etc.\n",
    "cleaning <- c(\"id\",\"date_recorded\", \"num_private\", \"funder\", \"installer\", \"wpt_name\", \"subvillage\", \"lga\", \"ward\", \n",
    "              \"region_code\", \"scheme_name\", \"payment\", \"quantity\", \"waterpoint_type_group\", \"recorded_by\", \"district_code\")\n",
    "X<-dataset[,setdiff(colnames(dataset),cleaning)]\n",
    "head(X)"
   ]
  },
  {
   "cell_type": "markdown",
   "metadata": {},
   "source": [
    "We initially had 40 features. After removing the ones mentionned above, we are left with 24."
   ]
  },
  {
   "cell_type": "markdown",
   "metadata": {},
   "source": [
    "\n",
    "## Missing value imputation\n",
    "Before starting the feature enginnering, we have to see if there is no missing values in our dataset.\n"
   ]
  },
  {
   "cell_type": "code",
   "execution_count": 12,
   "metadata": {},
   "outputs": [
    {
     "data": {
      "text/html": [
       "<style>\n",
       ".list-inline {list-style: none; margin:0; padding: 0}\n",
       ".list-inline>li {display: inline-block}\n",
       ".list-inline>li:not(:last-child)::after {content: \"\\00b7\"; padding: 0 .5ex}\n",
       "</style>\n",
       "<ol class=list-inline><li>59400</li><li>24</li></ol>\n"
      ],
      "text/latex": [
       "\\begin{enumerate*}\n",
       "\\item 59400\n",
       "\\item 24\n",
       "\\end{enumerate*}\n"
      ],
      "text/markdown": [
       "1. 59400\n",
       "2. 24\n",
       "\n",
       "\n"
      ],
      "text/plain": [
       "[1] 59400    24"
      ]
     },
     "metadata": {},
     "output_type": "display_data"
    },
    {
     "data": {
      "text/html": [
       "<style>\n",
       ".list-inline {list-style: none; margin:0; padding: 0}\n",
       ".list-inline>li {display: inline-block}\n",
       ".list-inline>li:not(:last-child)::after {content: \"\\00b7\"; padding: 0 .5ex}\n",
       "</style>\n",
       "<ol class=list-inline><li>49841</li><li>24</li></ol>\n"
      ],
      "text/latex": [
       "\\begin{enumerate*}\n",
       "\\item 49841\n",
       "\\item 24\n",
       "\\end{enumerate*}\n"
      ],
      "text/markdown": [
       "1. 49841\n",
       "2. 24\n",
       "\n",
       "\n"
      ],
      "text/plain": [
       "[1] 49841    24"
      ]
     },
     "metadata": {},
     "output_type": "display_data"
    }
   ],
   "source": [
    "\n",
    "#On some distributions NA are represented with empty string so we first set them to NA \n",
    "#to use is.na effectively\n",
    "X<-replace(X,X=='',NA)#Replaced to NA\n",
    "dim(X)\n",
    "dim(na.omit(X))"
   ]
  },
  {
   "cell_type": "markdown",
   "metadata": {},
   "source": [
    "We see that around 15% of the dataset contains NA values. Simply removing them wouldn't be a good choice since it will reduce the size of the training set.<br>\n",
    "Different strategies are possible depending on the type of data we are dealing with : <br>\n",
    "- If the variables are numerical, wa can replace the missing values with the median. We could have replaced it with the mean value, but extreme values present in the dataet (by error for example) could introduce some noise into the mean value. By using the median, we avoid that problem.\n",
    "- If the variable are categorical, we can replace the NA with the most frequent value occuring.\n",
    "<br>\n"
   ]
  },
  {
   "cell_type": "markdown",
   "metadata": {},
   "source": [
    "That is what will be done in the following section "
   ]
  },
  {
   "cell_type": "markdown",
   "metadata": {},
   "source": [
    "\n",
    "## Feature engineering\n",
    "\n"
   ]
  },
  {
   "cell_type": "markdown",
   "metadata": {},
   "source": [
    "Now that we have already removed some features, we can put the remainig ones in the correct format.<br>\n",
    "For numerical values, we will replace all the NAs with the median value on that column.<br>\n",
    "For categorical data, replace them with the most frequent value."
   ]
  },
  {
   "cell_type": "code",
   "execution_count": 13,
   "metadata": {},
   "outputs": [],
   "source": [
    "######THIS IS NOT USED \n",
    "replace_na_with_median_value<-function(vec) {\n",
    "    median_vec<-median(vec,na.rm=T)\n",
    "    vec[is.na(vec)]<-median_vec\n",
    "    vec\n",
    "}"
   ]
  },
  {
   "cell_type": "code",
   "execution_count": 14,
   "metadata": {},
   "outputs": [
    {
     "data": {
      "text/plain": [
       "\n",
       "False  True \n",
       "17492 38852 "
      ]
     },
     "metadata": {},
     "output_type": "display_data"
    },
    {
     "data": {
      "text/plain": [
       "\n",
       "False  True \n",
       "17492 41908 "
      ]
     },
     "metadata": {},
     "output_type": "display_data"
    },
    {
     "data": {
      "text/plain": [
       "\n",
       "         Company             None            Other       Parastatal \n",
       "            1061                1              766             1680 \n",
       "Private operator              SWC            Trust              VWC \n",
       "            1063               97               72            36793 \n",
       " Water authority      Water Board              WUA              WUG \n",
       "            3153             2748             2883             5206 "
      ]
     },
     "metadata": {},
     "output_type": "display_data"
    },
    {
     "data": {
      "text/plain": [
       "\n",
       "         Company             None            Other       Parastatal \n",
       "            1061                1              766             1680 \n",
       "Private operator              SWC            Trust              VWC \n",
       "            1063               97               72            40670 \n",
       " Water authority      Water Board              WUA              WUG \n",
       "            3153             2748             2883             5206 "
      ]
     },
     "metadata": {},
     "output_type": "display_data"
    },
    {
     "data": {
      "text/plain": [
       "\n",
       "False  True \n",
       " 5055 51011 "
      ]
     },
     "metadata": {},
     "output_type": "display_data"
    },
    {
     "data": {
      "text/plain": [
       "\n",
       "False  True \n",
       " 5055 54345 "
      ]
     },
     "metadata": {},
     "output_type": "display_data"
    }
   ],
   "source": [
    "#Replacing NA values in categorical features with the most frequent occurence\n",
    "table(X$permit)\n",
    "X$permit[is.na(X$permit)] <- tail(names(sort(table(X$permit))), 1)\n",
    "table(X$permit)\n",
    "\n",
    "table(X$scheme_management)\n",
    "X$scheme_management[is.na(X$scheme_management)] <- tail(names(sort(table(X$scheme_management))), 1)\n",
    "table(X$scheme_management)\n",
    "\n",
    "table(X$public_meeting)\n",
    "X$public_meeting[is.na(X$public_meeting)] <- tail(names(sort(table(X$public_meeting))), 1)\n",
    "table(X$public_meeting)"
   ]
  },
  {
   "cell_type": "markdown",
   "metadata": {},
   "source": [
    "For construction_year, some rows have a value 0. These needs to be modified. We will treat them as NA values and replace them by the median"
   ]
  },
  {
   "cell_type": "code",
   "execution_count": 15,
   "metadata": {},
   "outputs": [
    {
     "data": {
      "text/plain": [
       "\n",
       "    0  1960  1961  1962  1963  1964  1965  1966  1967  1968  1969  1970  1971 \n",
       "20709   102    21    30    85    40    19    17    88    77    59   411   145 \n",
       " 1972  1973  1974  1975  1976  1977  1978  1979  1980  1981  1982  1983  1984 \n",
       "  708   184   676   437   414   202  1037   192   811   238   744   488   779 \n",
       " 1985  1986  1987  1988  1989  1990  1991  1992  1993  1994  1995  1996  1997 \n",
       "  945   434   302   521   316   954   324   640   608   738  1014   811   644 \n",
       " 1998  1999  2000  2001  2002  2003  2004  2005  2006  2007  2008  2009  2010 \n",
       "  966   979  2091   540  1075  1286  1123  1011  1471  1587  2613  2533  2645 \n",
       " 2011  2012  2013 \n",
       " 1256  1084   176 "
      ]
     },
     "metadata": {},
     "output_type": "display_data"
    }
   ],
   "source": [
    "#For numericals, replace by the median\n",
    "\n",
    "table(X$construction_year)\n",
    "X$construction_year[X$construction_year==0] <- NA\n",
    "X$construction_year[is.na(X$construction_year)] <- median(X$construction_year,na.rm=T)\n",
    "X$construction_year <- as.integer(X$construction_year)\n",
    "\n",
    "\n",
    "#Same for longitude and latitude\n",
    "#Since zero isn't in the range of longitudes of Tanzania\n",
    "X$longitude[X$longitude==0] <- NA\n",
    "X$longitude[is.na(X$longitude)] <- median(X$longitude,na.rm=T)\n",
    "\n",
    "X$latitude[X$latitude==-0.00000002] <- NA\n",
    "X$latitude[is.na(X$latitude)] <- median(X$latitude,na.rm=T)"
   ]
  },
  {
   "cell_type": "code",
   "execution_count": 16,
   "metadata": {},
   "outputs": [
    {
     "data": {
      "text/html": [
       "<style>\n",
       ".list-inline {list-style: none; margin:0; padding: 0}\n",
       ".list-inline>li {display: inline-block}\n",
       ".list-inline>li:not(:last-child)::after {content: \"\\00b7\"; padding: 0 .5ex}\n",
       "</style>\n",
       "<ol class=list-inline><li>59400</li><li>24</li></ol>\n"
      ],
      "text/latex": [
       "\\begin{enumerate*}\n",
       "\\item 59400\n",
       "\\item 24\n",
       "\\end{enumerate*}\n"
      ],
      "text/markdown": [
       "1. 59400\n",
       "2. 24\n",
       "\n",
       "\n"
      ],
      "text/plain": [
       "[1] 59400    24"
      ]
     },
     "metadata": {},
     "output_type": "display_data"
    },
    {
     "data": {
      "text/html": [
       "<style>\n",
       ".list-inline {list-style: none; margin:0; padding: 0}\n",
       ".list-inline>li {display: inline-block}\n",
       ".list-inline>li:not(:last-child)::after {content: \"\\00b7\"; padding: 0 .5ex}\n",
       "</style>\n",
       "<ol class=list-inline><li>59400</li><li>24</li></ol>\n"
      ],
      "text/latex": [
       "\\begin{enumerate*}\n",
       "\\item 59400\n",
       "\\item 24\n",
       "\\end{enumerate*}\n"
      ],
      "text/markdown": [
       "1. 59400\n",
       "2. 24\n",
       "\n",
       "\n"
      ],
      "text/plain": [
       "[1] 59400    24"
      ]
     },
     "metadata": {},
     "output_type": "display_data"
    }
   ],
   "source": [
    "dim(X)\n",
    "dim(na.omit(X))"
   ]
  },
  {
   "cell_type": "markdown",
   "metadata": {},
   "source": [
    "We see that we don't have any missing values left. <br>"
   ]
  },
  {
   "cell_type": "markdown",
   "metadata": {},
   "source": [
    "We can continue the engineering of the rest of our features  : the categorical ones.<br>\n",
    "Categorical values can't be fed to the future models as characters, they have to be encoded to numericals. We see two ways to do this : <br>\n",
    "- For each feature, encode a value into an integer in a range corresponding to the number of unique values. For example, if there are 3 possible values, encode them as 1,2 and 3. This way of doing is not recomended, because it introduces a notion of ordering, implicitely suggesting that the value encoded as 3 has more importance than the one encoded as 1. \n",
    "- One hot encoding : it consists in creating a new column for each possible value of the given feature. Each new column can hold 0-1 values, depending if the row in question has this value selected. <br>\n",
    "This is the recommended way. However, if a fetaure has too many unique values, the resulting encoding will add a lot of column to that dataset, which will also multiply the number values in the dataset. That was taken into account in our feature selection procedure.<br>"
   ]
  },
  {
   "cell_type": "markdown",
   "metadata": {},
   "source": [
    "Permit and Public meeting are both booleans. We will encode them in a single column using values 0 and 1 ."
   ]
  },
  {
   "cell_type": "code",
   "execution_count": 17,
   "metadata": {},
   "outputs": [],
   "source": [
    "#For permit, the categorical values are bolleans true-false so we can encode them on only one column with 0 and 1, same goes\n",
    "#for public meeting\n",
    "X$permit[X$permit=='True'] <- 1\n",
    "X$permit[X$permit=='False'] <- 0\n",
    "X$permit <- as.integer(X$permit)\n",
    "\n",
    "X$public_meeting[X$public_meeting=='True'] <- 1\n",
    "X$public_meeting[X$public_meeting=='False'] <- 0\n",
    "X$public_meeting <- as.integer(X$public_meeting)"
   ]
  },
  {
   "cell_type": "code",
   "execution_count": 18,
   "metadata": {
    "scrolled": true
   },
   "outputs": [
    {
     "data": {
      "text/plain": [
       "   amount_tsh         gps_height       longitude        latitude       \n",
       " Min.   :     0.0   Min.   : -90.0   Min.   :29.61   Min.   :-11.6494  \n",
       " 1st Qu.:     0.0   1st Qu.:   0.0   1st Qu.:33.35   1st Qu.: -8.5406  \n",
       " Median :     0.0   Median : 369.0   Median :35.01   Median : -5.1727  \n",
       " Mean   :   317.7   Mean   : 668.3   Mean   :35.15   Mean   : -5.8638  \n",
       " 3rd Qu.:    20.0   3rd Qu.:1319.2   3rd Qu.:37.18   3rd Qu.: -3.3982  \n",
       " Max.   :350000.0   Max.   :2770.0   Max.   :40.35   Max.   : -0.9985  \n",
       "    basin              region            population      public_meeting  \n",
       " Length:59400       Length:59400       Min.   :    0.0   Min.   :0.0000  \n",
       " Class :character   Class :character   1st Qu.:    0.0   1st Qu.:1.0000  \n",
       " Mode  :character   Mode  :character   Median :   25.0   Median :1.0000  \n",
       "                                       Mean   :  179.9   Mean   :0.9149  \n",
       "                                       3rd Qu.:  215.0   3rd Qu.:1.0000  \n",
       "                                       Max.   :30500.0   Max.   :1.0000  \n",
       " scheme_management      permit       construction_year extraction_type   \n",
       " Length:59400       Min.   :0.0000   Min.   :1960      Length:59400      \n",
       " Class :character   1st Qu.:0.0000   1st Qu.:1996      Class :character  \n",
       " Mode  :character   Median :1.0000   Median :2000      Mode  :character  \n",
       "                    Mean   :0.7055   Mean   :1998                        \n",
       "                    3rd Qu.:1.0000   3rd Qu.:2004                        \n",
       "                    Max.   :1.0000   Max.   :2013                        \n",
       " extraction_type_group extraction_type_class  management       \n",
       " Length:59400          Length:59400          Length:59400      \n",
       " Class :character      Class :character      Class :character  \n",
       " Mode  :character      Mode  :character      Mode  :character  \n",
       "                                                               \n",
       "                                                               \n",
       "                                                               \n",
       " management_group   payment_type       water_quality      quality_group     \n",
       " Length:59400       Length:59400       Length:59400       Length:59400      \n",
       " Class :character   Class :character   Class :character   Class :character  \n",
       " Mode  :character   Mode  :character   Mode  :character   Mode  :character  \n",
       "                                                                            \n",
       "                                                                            \n",
       "                                                                            \n",
       " quantity_group        source          source_type        source_class      \n",
       " Length:59400       Length:59400       Length:59400       Length:59400      \n",
       " Class :character   Class :character   Class :character   Class :character  \n",
       " Mode  :character   Mode  :character   Mode  :character   Mode  :character  \n",
       "                                                                            \n",
       "                                                                            \n",
       "                                                                            \n",
       " waterpoint_type   \n",
       " Length:59400      \n",
       " Class :character  \n",
       " Mode  :character  \n",
       "                   \n",
       "                   \n",
       "                   "
      ]
     },
     "metadata": {},
     "output_type": "display_data"
    }
   ],
   "source": [
    "summary(X)"
   ]
  },
  {
   "cell_type": "code",
   "execution_count": 56,
   "metadata": {
    "scrolled": true
   },
   "outputs": [
    {
     "name": "stderr",
     "output_type": "stream",
     "text": [
      "Warning message in model.matrix.default(~x - 1, model.frame(~x - 1), contrasts = FALSE):\n",
      "“non-list contrasts argument ignored”\n",
      "Warning message in model.matrix.default(~x - 1, model.frame(~x - 1), contrasts = FALSE):\n",
      "“non-list contrasts argument ignored”\n",
      "Warning message in model.matrix.default(~x - 1, model.frame(~x - 1), contrasts = FALSE):\n",
      "“non-list contrasts argument ignored”\n",
      "Warning message in model.matrix.default(~x - 1, model.frame(~x - 1), contrasts = FALSE):\n",
      "“non-list contrasts argument ignored”\n",
      "Warning message in model.matrix.default(~x - 1, model.frame(~x - 1), contrasts = FALSE):\n",
      "“non-list contrasts argument ignored”\n",
      "Warning message in model.matrix.default(~x - 1, model.frame(~x - 1), contrasts = FALSE):\n",
      "“non-list contrasts argument ignored”\n",
      "Warning message in model.matrix.default(~x - 1, model.frame(~x - 1), contrasts = FALSE):\n",
      "“non-list contrasts argument ignored”\n",
      "Warning message in model.matrix.default(~x - 1, model.frame(~x - 1), contrasts = FALSE):\n",
      "“non-list contrasts argument ignored”\n",
      "Warning message in model.matrix.default(~x - 1, model.frame(~x - 1), contrasts = FALSE):\n",
      "“non-list contrasts argument ignored”\n",
      "Warning message in model.matrix.default(~x - 1, model.frame(~x - 1), contrasts = FALSE):\n",
      "“non-list contrasts argument ignored”\n",
      "Warning message in model.matrix.default(~x - 1, model.frame(~x - 1), contrasts = FALSE):\n",
      "“non-list contrasts argument ignored”\n",
      "Warning message in model.matrix.default(~x - 1, model.frame(~x - 1), contrasts = FALSE):\n",
      "“non-list contrasts argument ignored”\n",
      "Warning message in model.matrix.default(~x - 1, model.frame(~x - 1), contrasts = FALSE):\n",
      "“non-list contrasts argument ignored”\n",
      "Warning message in model.matrix.default(~x - 1, model.frame(~x - 1), contrasts = FALSE):\n",
      "“non-list contrasts argument ignored”\n",
      "Warning message in model.matrix.default(~x - 1, model.frame(~x - 1), contrasts = FALSE):\n",
      "“non-list contrasts argument ignored”\n",
      "Warning message in model.matrix.default(~x - 1, model.frame(~x - 1), contrasts = FALSE):\n",
      "“non-list contrasts argument ignored”\n"
     ]
    },
    {
     "data": {
      "text/html": [
       "<table class=\"dataframe\">\n",
       "<caption>A data.frame: 6 × 156</caption>\n",
       "<thead>\n",
       "\t<tr><th></th><th scope=col>amount_tsh</th><th scope=col>gps_height</th><th scope=col>longitude</th><th scope=col>latitude</th><th scope=col>basin_Internal</th><th scope=col>basin_Lake.Nyasa</th><th scope=col>basin_Lake.Rukwa</th><th scope=col>basin_Lake.Tanganyika</th><th scope=col>basin_Lake.Victoria</th><th scope=col>basin_Pangani</th><th scope=col>⋯</th><th scope=col>source_class_groundwater</th><th scope=col>source_class_surface</th><th scope=col>source_class_unknown</th><th scope=col>waterpoint_type_cattle.trough</th><th scope=col>waterpoint_type_communal.standpipe</th><th scope=col>waterpoint_type_communal.standpipe.multiple</th><th scope=col>waterpoint_type_dam</th><th scope=col>waterpoint_type_hand.pump</th><th scope=col>waterpoint_type_improved.spring</th><th scope=col>waterpoint_type_other</th></tr>\n",
       "\t<tr><th></th><th scope=col>&lt;dbl&gt;</th><th scope=col>&lt;int&gt;</th><th scope=col>&lt;dbl&gt;</th><th scope=col>&lt;dbl&gt;</th><th scope=col>&lt;int&gt;</th><th scope=col>&lt;int&gt;</th><th scope=col>&lt;int&gt;</th><th scope=col>&lt;int&gt;</th><th scope=col>&lt;int&gt;</th><th scope=col>&lt;int&gt;</th><th scope=col>⋯</th><th scope=col>&lt;int&gt;</th><th scope=col>&lt;int&gt;</th><th scope=col>&lt;int&gt;</th><th scope=col>&lt;int&gt;</th><th scope=col>&lt;int&gt;</th><th scope=col>&lt;int&gt;</th><th scope=col>&lt;int&gt;</th><th scope=col>&lt;int&gt;</th><th scope=col>&lt;int&gt;</th><th scope=col>&lt;int&gt;</th></tr>\n",
       "</thead>\n",
       "<tbody>\n",
       "\t<tr><th scope=row>1</th><td>  0</td><td>1996</td><td>35.29080</td><td> -4.059696</td><td>1</td><td>0</td><td>0</td><td>0</td><td>0</td><td>0</td><td>⋯</td><td>0</td><td>1</td><td>0</td><td>0</td><td>0</td><td>0</td><td>0</td><td>0</td><td>0</td><td>1</td></tr>\n",
       "\t<tr><th scope=row>2</th><td>  0</td><td>1569</td><td>36.65671</td><td> -3.309214</td><td>0</td><td>0</td><td>0</td><td>0</td><td>0</td><td>1</td><td>⋯</td><td>1</td><td>0</td><td>0</td><td>0</td><td>1</td><td>0</td><td>0</td><td>0</td><td>0</td><td>0</td></tr>\n",
       "\t<tr><th scope=row>3</th><td>  0</td><td>1567</td><td>34.76786</td><td> -5.004344</td><td>1</td><td>0</td><td>0</td><td>0</td><td>0</td><td>0</td><td>⋯</td><td>0</td><td>1</td><td>0</td><td>0</td><td>0</td><td>0</td><td>0</td><td>0</td><td>0</td><td>1</td></tr>\n",
       "\t<tr><th scope=row>4</th><td>  0</td><td> 267</td><td>38.05805</td><td> -9.418672</td><td>0</td><td>0</td><td>0</td><td>0</td><td>0</td><td>0</td><td>⋯</td><td>1</td><td>0</td><td>0</td><td>0</td><td>0</td><td>0</td><td>0</td><td>0</td><td>0</td><td>1</td></tr>\n",
       "\t<tr><th scope=row>5</th><td>500</td><td>1260</td><td>35.00612</td><td>-10.950412</td><td>0</td><td>0</td><td>0</td><td>0</td><td>0</td><td>0</td><td>⋯</td><td>1</td><td>0</td><td>0</td><td>0</td><td>1</td><td>0</td><td>0</td><td>0</td><td>0</td><td>0</td></tr>\n",
       "\t<tr><th scope=row>6</th><td>  0</td><td>1685</td><td>36.68528</td><td> -3.302420</td><td>0</td><td>0</td><td>0</td><td>0</td><td>0</td><td>1</td><td>⋯</td><td>1</td><td>0</td><td>0</td><td>0</td><td>1</td><td>0</td><td>0</td><td>0</td><td>0</td><td>0</td></tr>\n",
       "</tbody>\n",
       "</table>\n"
      ],
      "text/latex": [
       "A data.frame: 6 × 156\n",
       "\\begin{tabular}{r|lllllllllllllllllllll}\n",
       "  & amount\\_tsh & gps\\_height & longitude & latitude & basin\\_Internal & basin\\_Lake.Nyasa & basin\\_Lake.Rukwa & basin\\_Lake.Tanganyika & basin\\_Lake.Victoria & basin\\_Pangani & ⋯ & source\\_class\\_groundwater & source\\_class\\_surface & source\\_class\\_unknown & waterpoint\\_type\\_cattle.trough & waterpoint\\_type\\_communal.standpipe & waterpoint\\_type\\_communal.standpipe.multiple & waterpoint\\_type\\_dam & waterpoint\\_type\\_hand.pump & waterpoint\\_type\\_improved.spring & waterpoint\\_type\\_other\\\\\n",
       "  & <dbl> & <int> & <dbl> & <dbl> & <int> & <int> & <int> & <int> & <int> & <int> & ⋯ & <int> & <int> & <int> & <int> & <int> & <int> & <int> & <int> & <int> & <int>\\\\\n",
       "\\hline\n",
       "\t1 &   0 & 1996 & 35.29080 &  -4.059696 & 1 & 0 & 0 & 0 & 0 & 0 & ⋯ & 0 & 1 & 0 & 0 & 0 & 0 & 0 & 0 & 0 & 1\\\\\n",
       "\t2 &   0 & 1569 & 36.65671 &  -3.309214 & 0 & 0 & 0 & 0 & 0 & 1 & ⋯ & 1 & 0 & 0 & 0 & 1 & 0 & 0 & 0 & 0 & 0\\\\\n",
       "\t3 &   0 & 1567 & 34.76786 &  -5.004344 & 1 & 0 & 0 & 0 & 0 & 0 & ⋯ & 0 & 1 & 0 & 0 & 0 & 0 & 0 & 0 & 0 & 1\\\\\n",
       "\t4 &   0 &  267 & 38.05805 &  -9.418672 & 0 & 0 & 0 & 0 & 0 & 0 & ⋯ & 1 & 0 & 0 & 0 & 0 & 0 & 0 & 0 & 0 & 1\\\\\n",
       "\t5 & 500 & 1260 & 35.00612 & -10.950412 & 0 & 0 & 0 & 0 & 0 & 0 & ⋯ & 1 & 0 & 0 & 0 & 1 & 0 & 0 & 0 & 0 & 0\\\\\n",
       "\t6 &   0 & 1685 & 36.68528 &  -3.302420 & 0 & 0 & 0 & 0 & 0 & 1 & ⋯ & 1 & 0 & 0 & 0 & 1 & 0 & 0 & 0 & 0 & 0\\\\\n",
       "\\end{tabular}\n"
      ],
      "text/markdown": [
       "\n",
       "A data.frame: 6 × 156\n",
       "\n",
       "| <!--/--> | amount_tsh &lt;dbl&gt; | gps_height &lt;int&gt; | longitude &lt;dbl&gt; | latitude &lt;dbl&gt; | basin_Internal &lt;int&gt; | basin_Lake.Nyasa &lt;int&gt; | basin_Lake.Rukwa &lt;int&gt; | basin_Lake.Tanganyika &lt;int&gt; | basin_Lake.Victoria &lt;int&gt; | basin_Pangani &lt;int&gt; | ⋯ ⋯ | source_class_groundwater &lt;int&gt; | source_class_surface &lt;int&gt; | source_class_unknown &lt;int&gt; | waterpoint_type_cattle.trough &lt;int&gt; | waterpoint_type_communal.standpipe &lt;int&gt; | waterpoint_type_communal.standpipe.multiple &lt;int&gt; | waterpoint_type_dam &lt;int&gt; | waterpoint_type_hand.pump &lt;int&gt; | waterpoint_type_improved.spring &lt;int&gt; | waterpoint_type_other &lt;int&gt; |\n",
       "|---|---|---|---|---|---|---|---|---|---|---|---|---|---|---|---|---|---|---|---|---|---|\n",
       "| 1 |   0 | 1996 | 35.29080 |  -4.059696 | 1 | 0 | 0 | 0 | 0 | 0 | ⋯ | 0 | 1 | 0 | 0 | 0 | 0 | 0 | 0 | 0 | 1 |\n",
       "| 2 |   0 | 1569 | 36.65671 |  -3.309214 | 0 | 0 | 0 | 0 | 0 | 1 | ⋯ | 1 | 0 | 0 | 0 | 1 | 0 | 0 | 0 | 0 | 0 |\n",
       "| 3 |   0 | 1567 | 34.76786 |  -5.004344 | 1 | 0 | 0 | 0 | 0 | 0 | ⋯ | 0 | 1 | 0 | 0 | 0 | 0 | 0 | 0 | 0 | 1 |\n",
       "| 4 |   0 |  267 | 38.05805 |  -9.418672 | 0 | 0 | 0 | 0 | 0 | 0 | ⋯ | 1 | 0 | 0 | 0 | 0 | 0 | 0 | 0 | 0 | 1 |\n",
       "| 5 | 500 | 1260 | 35.00612 | -10.950412 | 0 | 0 | 0 | 0 | 0 | 0 | ⋯ | 1 | 0 | 0 | 0 | 1 | 0 | 0 | 0 | 0 | 0 |\n",
       "| 6 |   0 | 1685 | 36.68528 |  -3.302420 | 0 | 0 | 0 | 0 | 0 | 1 | ⋯ | 1 | 0 | 0 | 0 | 1 | 0 | 0 | 0 | 0 | 0 |\n",
       "\n"
      ],
      "text/plain": [
       "  amount_tsh gps_height longitude latitude   basin_Internal basin_Lake.Nyasa\n",
       "1   0        1996       35.29080   -4.059696 1              0               \n",
       "2   0        1569       36.65671   -3.309214 0              0               \n",
       "3   0        1567       34.76786   -5.004344 1              0               \n",
       "4   0         267       38.05805   -9.418672 0              0               \n",
       "5 500        1260       35.00612  -10.950412 0              0               \n",
       "6   0        1685       36.68528   -3.302420 0              0               \n",
       "  basin_Lake.Rukwa basin_Lake.Tanganyika basin_Lake.Victoria basin_Pangani ⋯\n",
       "1 0                0                     0                   0             ⋯\n",
       "2 0                0                     0                   1             ⋯\n",
       "3 0                0                     0                   0             ⋯\n",
       "4 0                0                     0                   0             ⋯\n",
       "5 0                0                     0                   0             ⋯\n",
       "6 0                0                     0                   1             ⋯\n",
       "  source_class_groundwater source_class_surface source_class_unknown\n",
       "1 0                        1                    0                   \n",
       "2 1                        0                    0                   \n",
       "3 0                        1                    0                   \n",
       "4 1                        0                    0                   \n",
       "5 1                        0                    0                   \n",
       "6 1                        0                    0                   \n",
       "  waterpoint_type_cattle.trough waterpoint_type_communal.standpipe\n",
       "1 0                             0                                 \n",
       "2 0                             1                                 \n",
       "3 0                             0                                 \n",
       "4 0                             0                                 \n",
       "5 0                             1                                 \n",
       "6 0                             1                                 \n",
       "  waterpoint_type_communal.standpipe.multiple waterpoint_type_dam\n",
       "1 0                                           0                  \n",
       "2 0                                           0                  \n",
       "3 0                                           0                  \n",
       "4 0                                           0                  \n",
       "5 0                                           0                  \n",
       "6 0                                           0                  \n",
       "  waterpoint_type_hand.pump waterpoint_type_improved.spring\n",
       "1 0                         0                              \n",
       "2 0                         0                              \n",
       "3 0                         0                              \n",
       "4 0                         0                              \n",
       "5 0                         0                              \n",
       "6 0                         0                              \n",
       "  waterpoint_type_other\n",
       "1 1                    \n",
       "2 0                    \n",
       "3 1                    \n",
       "4 1                    \n",
       "5 0                    \n",
       "6 0                    "
      ]
     },
     "metadata": {},
     "output_type": "display_data"
    }
   ],
   "source": [
    "#One hot encoding\n",
    "library(dummies)\n",
    "\n",
    "\n",
    "variables_to_keep<-names(X)\n",
    "X_onehot <- dummy.data.frame(X[,variables_to_keep], sep=\"_\")\n",
    "\n",
    "names(X_onehot)<-make.names(names(X_onehot))#required to have concatenated names in order for randomForest to run\n",
    "head(X_onehot)"
   ]
  },
  {
   "cell_type": "markdown",
   "metadata": {},
   "source": [
    "After the one hot encoding, we now have 158 variables\n",
    "Now we can take a look at the format of the labels"
   ]
  },
  {
   "cell_type": "code",
   "execution_count": 20,
   "metadata": {
    "scrolled": true
   },
   "outputs": [
    {
     "data": {
      "text/html": [
       "<table class=\"dataframe\">\n",
       "<caption>A data.frame: 59400 × 1</caption>\n",
       "<thead>\n",
       "\t<tr><th scope=col>status_group</th></tr>\n",
       "\t<tr><th scope=col>&lt;chr&gt;</th></tr>\n",
       "</thead>\n",
       "<tbody>\n",
       "\t<tr><td>functional             </td></tr>\n",
       "\t<tr><td>functional             </td></tr>\n",
       "\t<tr><td>functional             </td></tr>\n",
       "\t<tr><td>non_functional         </td></tr>\n",
       "\t<tr><td>functional             </td></tr>\n",
       "\t<tr><td>functional             </td></tr>\n",
       "\t<tr><td>non_functional         </td></tr>\n",
       "\t<tr><td>non_functional         </td></tr>\n",
       "\t<tr><td>non_functional         </td></tr>\n",
       "\t<tr><td>functional             </td></tr>\n",
       "\t<tr><td>functional             </td></tr>\n",
       "\t<tr><td>functional             </td></tr>\n",
       "\t<tr><td>functional             </td></tr>\n",
       "\t<tr><td>functional             </td></tr>\n",
       "\t<tr><td>functional             </td></tr>\n",
       "\t<tr><td>functional             </td></tr>\n",
       "\t<tr><td>non_functional         </td></tr>\n",
       "\t<tr><td>non_functional         </td></tr>\n",
       "\t<tr><td>functional_needs_repair</td></tr>\n",
       "\t<tr><td>functional             </td></tr>\n",
       "\t<tr><td>functional             </td></tr>\n",
       "\t<tr><td>functional             </td></tr>\n",
       "\t<tr><td>functional_needs_repair</td></tr>\n",
       "\t<tr><td>functional             </td></tr>\n",
       "\t<tr><td>functional             </td></tr>\n",
       "\t<tr><td>functional_needs_repair</td></tr>\n",
       "\t<tr><td>functional             </td></tr>\n",
       "\t<tr><td>functional             </td></tr>\n",
       "\t<tr><td>non_functional         </td></tr>\n",
       "\t<tr><td>functional             </td></tr>\n",
       "\t<tr><td>⋮</td></tr>\n",
       "\t<tr><td>functional    </td></tr>\n",
       "\t<tr><td>non_functional</td></tr>\n",
       "\t<tr><td>non_functional</td></tr>\n",
       "\t<tr><td>functional    </td></tr>\n",
       "\t<tr><td>functional    </td></tr>\n",
       "\t<tr><td>functional    </td></tr>\n",
       "\t<tr><td>non_functional</td></tr>\n",
       "\t<tr><td>non_functional</td></tr>\n",
       "\t<tr><td>functional    </td></tr>\n",
       "\t<tr><td>functional    </td></tr>\n",
       "\t<tr><td>non_functional</td></tr>\n",
       "\t<tr><td>non_functional</td></tr>\n",
       "\t<tr><td>non_functional</td></tr>\n",
       "\t<tr><td>functional    </td></tr>\n",
       "\t<tr><td>non_functional</td></tr>\n",
       "\t<tr><td>functional    </td></tr>\n",
       "\t<tr><td>functional    </td></tr>\n",
       "\t<tr><td>functional    </td></tr>\n",
       "\t<tr><td>functional    </td></tr>\n",
       "\t<tr><td>functional    </td></tr>\n",
       "\t<tr><td>functional    </td></tr>\n",
       "\t<tr><td>non_functional</td></tr>\n",
       "\t<tr><td>non_functional</td></tr>\n",
       "\t<tr><td>functional    </td></tr>\n",
       "\t<tr><td>non_functional</td></tr>\n",
       "\t<tr><td>functional    </td></tr>\n",
       "\t<tr><td>functional    </td></tr>\n",
       "\t<tr><td>functional    </td></tr>\n",
       "\t<tr><td>functional    </td></tr>\n",
       "\t<tr><td>functional    </td></tr>\n",
       "</tbody>\n",
       "</table>\n"
      ],
      "text/latex": [
       "A data.frame: 59400 × 1\n",
       "\\begin{tabular}{l}\n",
       " status\\_group\\\\\n",
       " <chr>\\\\\n",
       "\\hline\n",
       "\t functional             \\\\\n",
       "\t functional             \\\\\n",
       "\t functional             \\\\\n",
       "\t non\\_functional         \\\\\n",
       "\t functional             \\\\\n",
       "\t functional             \\\\\n",
       "\t non\\_functional         \\\\\n",
       "\t non\\_functional         \\\\\n",
       "\t non\\_functional         \\\\\n",
       "\t functional             \\\\\n",
       "\t functional             \\\\\n",
       "\t functional             \\\\\n",
       "\t functional             \\\\\n",
       "\t functional             \\\\\n",
       "\t functional             \\\\\n",
       "\t functional             \\\\\n",
       "\t non\\_functional         \\\\\n",
       "\t non\\_functional         \\\\\n",
       "\t functional\\_needs\\_repair\\\\\n",
       "\t functional             \\\\\n",
       "\t functional             \\\\\n",
       "\t functional             \\\\\n",
       "\t functional\\_needs\\_repair\\\\\n",
       "\t functional             \\\\\n",
       "\t functional             \\\\\n",
       "\t functional\\_needs\\_repair\\\\\n",
       "\t functional             \\\\\n",
       "\t functional             \\\\\n",
       "\t non\\_functional         \\\\\n",
       "\t functional             \\\\\n",
       "\t ⋮\\\\\n",
       "\t functional    \\\\\n",
       "\t non\\_functional\\\\\n",
       "\t non\\_functional\\\\\n",
       "\t functional    \\\\\n",
       "\t functional    \\\\\n",
       "\t functional    \\\\\n",
       "\t non\\_functional\\\\\n",
       "\t non\\_functional\\\\\n",
       "\t functional    \\\\\n",
       "\t functional    \\\\\n",
       "\t non\\_functional\\\\\n",
       "\t non\\_functional\\\\\n",
       "\t non\\_functional\\\\\n",
       "\t functional    \\\\\n",
       "\t non\\_functional\\\\\n",
       "\t functional    \\\\\n",
       "\t functional    \\\\\n",
       "\t functional    \\\\\n",
       "\t functional    \\\\\n",
       "\t functional    \\\\\n",
       "\t functional    \\\\\n",
       "\t non\\_functional\\\\\n",
       "\t non\\_functional\\\\\n",
       "\t functional    \\\\\n",
       "\t non\\_functional\\\\\n",
       "\t functional    \\\\\n",
       "\t functional    \\\\\n",
       "\t functional    \\\\\n",
       "\t functional    \\\\\n",
       "\t functional    \\\\\n",
       "\\end{tabular}\n"
      ],
      "text/markdown": [
       "\n",
       "A data.frame: 59400 × 1\n",
       "\n",
       "| status_group &lt;chr&gt; |\n",
       "|---|\n",
       "| functional              |\n",
       "| functional              |\n",
       "| functional              |\n",
       "| non_functional          |\n",
       "| functional              |\n",
       "| functional              |\n",
       "| non_functional          |\n",
       "| non_functional          |\n",
       "| non_functional          |\n",
       "| functional              |\n",
       "| functional              |\n",
       "| functional              |\n",
       "| functional              |\n",
       "| functional              |\n",
       "| functional              |\n",
       "| functional              |\n",
       "| non_functional          |\n",
       "| non_functional          |\n",
       "| functional_needs_repair |\n",
       "| functional              |\n",
       "| functional              |\n",
       "| functional              |\n",
       "| functional_needs_repair |\n",
       "| functional              |\n",
       "| functional              |\n",
       "| functional_needs_repair |\n",
       "| functional              |\n",
       "| functional              |\n",
       "| non_functional          |\n",
       "| functional              |\n",
       "| ⋮ |\n",
       "| functional     |\n",
       "| non_functional |\n",
       "| non_functional |\n",
       "| functional     |\n",
       "| functional     |\n",
       "| functional     |\n",
       "| non_functional |\n",
       "| non_functional |\n",
       "| functional     |\n",
       "| functional     |\n",
       "| non_functional |\n",
       "| non_functional |\n",
       "| non_functional |\n",
       "| functional     |\n",
       "| non_functional |\n",
       "| functional     |\n",
       "| functional     |\n",
       "| functional     |\n",
       "| functional     |\n",
       "| functional     |\n",
       "| functional     |\n",
       "| non_functional |\n",
       "| non_functional |\n",
       "| functional     |\n",
       "| non_functional |\n",
       "| functional     |\n",
       "| functional     |\n",
       "| functional     |\n",
       "| functional     |\n",
       "| functional     |\n",
       "\n"
      ],
      "text/plain": [
       "      status_group           \n",
       "1     functional             \n",
       "2     functional             \n",
       "3     functional             \n",
       "4     non_functional         \n",
       "5     functional             \n",
       "6     functional             \n",
       "7     non_functional         \n",
       "8     non_functional         \n",
       "9     non_functional         \n",
       "10    functional             \n",
       "11    functional             \n",
       "12    functional             \n",
       "13    functional             \n",
       "14    functional             \n",
       "15    functional             \n",
       "16    functional             \n",
       "17    non_functional         \n",
       "18    non_functional         \n",
       "19    functional_needs_repair\n",
       "20    functional             \n",
       "21    functional             \n",
       "22    functional             \n",
       "23    functional_needs_repair\n",
       "24    functional             \n",
       "25    functional             \n",
       "26    functional_needs_repair\n",
       "27    functional             \n",
       "28    functional             \n",
       "29    non_functional         \n",
       "30    functional             \n",
       "⋮     ⋮                      \n",
       "59371 functional             \n",
       "59372 non_functional         \n",
       "59373 non_functional         \n",
       "59374 functional             \n",
       "59375 functional             \n",
       "59376 functional             \n",
       "59377 non_functional         \n",
       "59378 non_functional         \n",
       "59379 functional             \n",
       "59380 functional             \n",
       "59381 non_functional         \n",
       "59382 non_functional         \n",
       "59383 non_functional         \n",
       "59384 functional             \n",
       "59385 non_functional         \n",
       "59386 functional             \n",
       "59387 functional             \n",
       "59388 functional             \n",
       "59389 functional             \n",
       "59390 functional             \n",
       "59391 functional             \n",
       "59392 non_functional         \n",
       "59393 non_functional         \n",
       "59394 functional             \n",
       "59395 non_functional         \n",
       "59396 functional             \n",
       "59397 functional             \n",
       "59398 functional             \n",
       "59399 functional             \n",
       "59400 functional             "
      ]
     },
     "metadata": {},
     "output_type": "display_data"
    }
   ],
   "source": [
    "Y<-set_labels[2] #only need to keep the actual labels\n",
    "#Removing the spaces in labels\n",
    "Y[Y == \"functional needs repair\"] <- \"functional_needs_repair\"\n",
    "Y[Y == \"non functional\"] <- \"non_functional\"\n",
    "head(Y)"
   ]
  },
  {
   "cell_type": "markdown",
   "metadata": {},
   "source": [
    "We now have our correctly encoded dataset on which we did some initial feature selection. We can try to push it further by using a filter method. These methods have the advantage of being independent of the model on which the data will be trained. <br>\n",
    "Note that the dataset X_onehot we computated will be refered as the original dataset starting now.\n",
    "\n",
    "\n",
    "We will use the PCA method"
   ]
  },
  {
   "cell_type": "markdown",
   "metadata": {},
   "source": [
    "### PCA"
   ]
  },
  {
   "cell_type": "markdown",
   "metadata": {},
   "source": [
    "Principal Component Analysis (PCA) is a filter method that consists in constructing a set of linear combinations of the original features of the dataset that present a large variation. This set (or part of it) can then be used as a replacement of the original set (since it represents combinations of the data) .<br>\n",
    "This allows to reduce the number of dimensions of the problem which can help to reduce the time needed to train the models.<br>\n",
    "To do that, we use the function prcomp that is already implemented in R"
   ]
  },
  {
   "cell_type": "code",
   "execution_count": 21,
   "metadata": {
    "scrolled": true
   },
   "outputs": [
    {
     "data": {
      "text/html": [
       "<style>\n",
       ".dl-inline {width: auto; margin:0; padding: 0}\n",
       ".dl-inline>dt, .dl-inline>dd {float: none; width: auto; display: inline-block}\n",
       ".dl-inline>dt::after {content: \":\\0020\"; padding-right: .5ex}\n",
       ".dl-inline>dt:not(:first-of-type) {padding-left: .5ex}\n",
       "</style><dl class=dl-inline><dt>PC1</dt><dd>0.06629</dd><dt>PC2</dt><dd>0.10971</dd><dt>PC3</dt><dd>0.14506</dd><dt>PC4</dt><dd>0.17634</dd><dt>PC5</dt><dd>0.20477</dd><dt>PC6</dt><dd>0.23</dd><dt>PC7</dt><dd>0.25264</dd><dt>PC8</dt><dd>0.2748</dd><dt>PC9</dt><dd>0.29614</dd><dt>PC10</dt><dd>0.3166</dd><dt>PC11</dt><dd>0.33629</dd><dt>PC12</dt><dd>0.35554</dd><dt>PC13</dt><dd>0.37463</dd><dt>PC14</dt><dd>0.39303</dd><dt>PC15</dt><dd>0.41094</dd><dt>PC16</dt><dd>0.42833</dd><dt>PC17</dt><dd>0.44487</dd><dt>PC18</dt><dd>0.46056</dd><dt>PC19</dt><dd>0.47533</dd><dt>PC20</dt><dd>0.48957</dd><dt>PC21</dt><dd>0.50366</dd><dt>PC22</dt><dd>0.51732</dd><dt>PC23</dt><dd>0.53076</dd><dt>PC24</dt><dd>0.54412</dd><dt>PC25</dt><dd>0.55716</dd><dt>PC26</dt><dd>0.57008</dd><dt>PC27</dt><dd>0.58277</dd><dt>PC28</dt><dd>0.59525</dd><dt>PC29</dt><dd>0.60732</dd><dt>PC30</dt><dd>0.61928</dd><dt>PC31</dt><dd>0.63102</dd><dt>PC32</dt><dd>0.64267</dd><dt>PC33</dt><dd>0.65392</dd><dt>PC34</dt><dd>0.66493</dd><dt>PC35</dt><dd>0.67573</dd><dt>PC36</dt><dd>0.68612</dd><dt>PC37</dt><dd>0.69623</dd><dt>PC38</dt><dd>0.70559</dd><dt>PC39</dt><dd>0.71489</dd><dt>PC40</dt><dd>0.72385</dd><dt>PC41</dt><dd>0.73226</dd><dt>PC42</dt><dd>0.74052</dd><dt>PC43</dt><dd>0.7485</dd><dt>PC44</dt><dd>0.75627</dd><dt>PC45</dt><dd>0.7637</dd><dt>PC46</dt><dd>0.77097</dd><dt>PC47</dt><dd>0.77801</dd><dt>PC48</dt><dd>0.78499</dd><dt>PC49</dt><dd>0.79186</dd><dt>PC50</dt><dd>0.7986</dd><dt>PC51</dt><dd>0.80515</dd><dt>PC52</dt><dd>0.81161</dd><dt>PC53</dt><dd>0.81796</dd><dt>PC54</dt><dd>0.8243</dd><dt>PC55</dt><dd>0.83063</dd><dt>PC56</dt><dd>0.83693</dd><dt>PC57</dt><dd>0.84321</dd><dt>PC58</dt><dd>0.8494</dd><dt>PC59</dt><dd>0.85554</dd><dt>PC60</dt><dd>0.86162</dd><dt>PC61</dt><dd>0.86755</dd><dt>PC62</dt><dd>0.87348</dd><dt>PC63</dt><dd>0.8793</dd><dt>PC64</dt><dd>0.88507</dd><dt>PC65</dt><dd>0.8906</dd><dt>PC66</dt><dd>0.8961</dd><dt>PC67</dt><dd>0.90145</dd><dt>PC68</dt><dd>0.90676</dd><dt>PC69</dt><dd>0.91194</dd><dt>PC70</dt><dd>0.917</dd><dt>PC71</dt><dd>0.92188</dd><dt>PC72</dt><dd>0.92653</dd><dt>PC73</dt><dd>0.93108</dd><dt>PC74</dt><dd>0.93549</dd><dt>PC75</dt><dd>0.93985</dd><dt>PC76</dt><dd>0.944</dd><dt>PC77</dt><dd>0.94797</dd><dt>PC78</dt><dd>0.9518</dd><dt>PC79</dt><dd>0.95555</dd><dt>PC80</dt><dd>0.95926</dd><dt>PC81</dt><dd>0.96284</dd><dt>PC82</dt><dd>0.9663</dd><dt>PC83</dt><dd>0.96946</dd><dt>PC84</dt><dd>0.97217</dd><dt>PC85</dt><dd>0.97483</dd><dt>PC86</dt><dd>0.97746</dd><dt>PC87</dt><dd>0.97996</dd><dt>PC88</dt><dd>0.98223</dd><dt>PC89</dt><dd>0.98431</dd><dt>PC90</dt><dd>0.98616</dd><dt>PC91</dt><dd>0.98782</dd><dt>PC92</dt><dd>0.98933</dd><dt>PC93</dt><dd>0.99066</dd><dt>PC94</dt><dd>0.99187</dd><dt>PC95</dt><dd>0.99307</dd><dt>PC96</dt><dd>0.99419</dd><dt>PC97</dt><dd>0.99518</dd><dt>PC98</dt><dd>0.99599</dd><dt>PC99</dt><dd>0.99673</dd><dt>PC100</dt><dd>0.99745</dd><dt>PC101</dt><dd>0.99809</dd><dt>PC102</dt><dd>0.99866</dd><dt>PC103</dt><dd>0.99912</dd><dt>PC104</dt><dd>0.99952</dd><dt>PC105</dt><dd>0.99976</dd><dt>PC106</dt><dd>0.99989</dd><dt>PC107</dt><dd>1</dd><dt>PC108</dt><dd>1</dd><dt>PC109</dt><dd>1</dd><dt>PC110</dt><dd>1</dd><dt>PC111</dt><dd>1</dd><dt>PC112</dt><dd>1</dd><dt>PC113</dt><dd>1</dd><dt>PC114</dt><dd>1</dd><dt>PC115</dt><dd>1</dd><dt>PC116</dt><dd>1</dd><dt>PC117</dt><dd>1</dd><dt>PC118</dt><dd>1</dd><dt>PC119</dt><dd>1</dd><dt>PC120</dt><dd>1</dd><dt>PC121</dt><dd>1</dd><dt>PC122</dt><dd>1</dd><dt>PC123</dt><dd>1</dd><dt>PC124</dt><dd>1</dd><dt>PC125</dt><dd>1</dd><dt>PC126</dt><dd>1</dd><dt>PC127</dt><dd>1</dd><dt>PC128</dt><dd>1</dd><dt>PC129</dt><dd>1</dd><dt>PC130</dt><dd>1</dd><dt>PC131</dt><dd>1</dd><dt>PC132</dt><dd>1</dd><dt>PC133</dt><dd>1</dd><dt>PC134</dt><dd>1</dd><dt>PC135</dt><dd>1</dd><dt>PC136</dt><dd>1</dd><dt>PC137</dt><dd>1</dd><dt>PC138</dt><dd>1</dd><dt>PC139</dt><dd>1</dd><dt>PC140</dt><dd>1</dd><dt>PC141</dt><dd>1</dd><dt>PC142</dt><dd>1</dd><dt>PC143</dt><dd>1</dd><dt>PC144</dt><dd>1</dd><dt>PC145</dt><dd>1</dd><dt>PC146</dt><dd>1</dd><dt>PC147</dt><dd>1</dd><dt>PC148</dt><dd>1</dd><dt>PC149</dt><dd>1</dd><dt>PC150</dt><dd>1</dd><dt>PC151</dt><dd>1</dd><dt>PC152</dt><dd>1</dd><dt>PC153</dt><dd>1</dd><dt>PC154</dt><dd>1</dd><dt>PC155</dt><dd>1</dd><dt>PC156</dt><dd>1</dd><dt>PC157</dt><dd>1</dd><dt>PC158</dt><dd>1</dd></dl>\n"
      ],
      "text/latex": [
       "\\begin{description*}\n",
       "\\item[PC1] 0.06629\n",
       "\\item[PC2] 0.10971\n",
       "\\item[PC3] 0.14506\n",
       "\\item[PC4] 0.17634\n",
       "\\item[PC5] 0.20477\n",
       "\\item[PC6] 0.23\n",
       "\\item[PC7] 0.25264\n",
       "\\item[PC8] 0.2748\n",
       "\\item[PC9] 0.29614\n",
       "\\item[PC10] 0.3166\n",
       "\\item[PC11] 0.33629\n",
       "\\item[PC12] 0.35554\n",
       "\\item[PC13] 0.37463\n",
       "\\item[PC14] 0.39303\n",
       "\\item[PC15] 0.41094\n",
       "\\item[PC16] 0.42833\n",
       "\\item[PC17] 0.44487\n",
       "\\item[PC18] 0.46056\n",
       "\\item[PC19] 0.47533\n",
       "\\item[PC20] 0.48957\n",
       "\\item[PC21] 0.50366\n",
       "\\item[PC22] 0.51732\n",
       "\\item[PC23] 0.53076\n",
       "\\item[PC24] 0.54412\n",
       "\\item[PC25] 0.55716\n",
       "\\item[PC26] 0.57008\n",
       "\\item[PC27] 0.58277\n",
       "\\item[PC28] 0.59525\n",
       "\\item[PC29] 0.60732\n",
       "\\item[PC30] 0.61928\n",
       "\\item[PC31] 0.63102\n",
       "\\item[PC32] 0.64267\n",
       "\\item[PC33] 0.65392\n",
       "\\item[PC34] 0.66493\n",
       "\\item[PC35] 0.67573\n",
       "\\item[PC36] 0.68612\n",
       "\\item[PC37] 0.69623\n",
       "\\item[PC38] 0.70559\n",
       "\\item[PC39] 0.71489\n",
       "\\item[PC40] 0.72385\n",
       "\\item[PC41] 0.73226\n",
       "\\item[PC42] 0.74052\n",
       "\\item[PC43] 0.7485\n",
       "\\item[PC44] 0.75627\n",
       "\\item[PC45] 0.7637\n",
       "\\item[PC46] 0.77097\n",
       "\\item[PC47] 0.77801\n",
       "\\item[PC48] 0.78499\n",
       "\\item[PC49] 0.79186\n",
       "\\item[PC50] 0.7986\n",
       "\\item[PC51] 0.80515\n",
       "\\item[PC52] 0.81161\n",
       "\\item[PC53] 0.81796\n",
       "\\item[PC54] 0.8243\n",
       "\\item[PC55] 0.83063\n",
       "\\item[PC56] 0.83693\n",
       "\\item[PC57] 0.84321\n",
       "\\item[PC58] 0.8494\n",
       "\\item[PC59] 0.85554\n",
       "\\item[PC60] 0.86162\n",
       "\\item[PC61] 0.86755\n",
       "\\item[PC62] 0.87348\n",
       "\\item[PC63] 0.8793\n",
       "\\item[PC64] 0.88507\n",
       "\\item[PC65] 0.8906\n",
       "\\item[PC66] 0.8961\n",
       "\\item[PC67] 0.90145\n",
       "\\item[PC68] 0.90676\n",
       "\\item[PC69] 0.91194\n",
       "\\item[PC70] 0.917\n",
       "\\item[PC71] 0.92188\n",
       "\\item[PC72] 0.92653\n",
       "\\item[PC73] 0.93108\n",
       "\\item[PC74] 0.93549\n",
       "\\item[PC75] 0.93985\n",
       "\\item[PC76] 0.944\n",
       "\\item[PC77] 0.94797\n",
       "\\item[PC78] 0.9518\n",
       "\\item[PC79] 0.95555\n",
       "\\item[PC80] 0.95926\n",
       "\\item[PC81] 0.96284\n",
       "\\item[PC82] 0.9663\n",
       "\\item[PC83] 0.96946\n",
       "\\item[PC84] 0.97217\n",
       "\\item[PC85] 0.97483\n",
       "\\item[PC86] 0.97746\n",
       "\\item[PC87] 0.97996\n",
       "\\item[PC88] 0.98223\n",
       "\\item[PC89] 0.98431\n",
       "\\item[PC90] 0.98616\n",
       "\\item[PC91] 0.98782\n",
       "\\item[PC92] 0.98933\n",
       "\\item[PC93] 0.99066\n",
       "\\item[PC94] 0.99187\n",
       "\\item[PC95] 0.99307\n",
       "\\item[PC96] 0.99419\n",
       "\\item[PC97] 0.99518\n",
       "\\item[PC98] 0.99599\n",
       "\\item[PC99] 0.99673\n",
       "\\item[PC100] 0.99745\n",
       "\\item[PC101] 0.99809\n",
       "\\item[PC102] 0.99866\n",
       "\\item[PC103] 0.99912\n",
       "\\item[PC104] 0.99952\n",
       "\\item[PC105] 0.99976\n",
       "\\item[PC106] 0.99989\n",
       "\\item[PC107] 1\n",
       "\\item[PC108] 1\n",
       "\\item[PC109] 1\n",
       "\\item[PC110] 1\n",
       "\\item[PC111] 1\n",
       "\\item[PC112] 1\n",
       "\\item[PC113] 1\n",
       "\\item[PC114] 1\n",
       "\\item[PC115] 1\n",
       "\\item[PC116] 1\n",
       "\\item[PC117] 1\n",
       "\\item[PC118] 1\n",
       "\\item[PC119] 1\n",
       "\\item[PC120] 1\n",
       "\\item[PC121] 1\n",
       "\\item[PC122] 1\n",
       "\\item[PC123] 1\n",
       "\\item[PC124] 1\n",
       "\\item[PC125] 1\n",
       "\\item[PC126] 1\n",
       "\\item[PC127] 1\n",
       "\\item[PC128] 1\n",
       "\\item[PC129] 1\n",
       "\\item[PC130] 1\n",
       "\\item[PC131] 1\n",
       "\\item[PC132] 1\n",
       "\\item[PC133] 1\n",
       "\\item[PC134] 1\n",
       "\\item[PC135] 1\n",
       "\\item[PC136] 1\n",
       "\\item[PC137] 1\n",
       "\\item[PC138] 1\n",
       "\\item[PC139] 1\n",
       "\\item[PC140] 1\n",
       "\\item[PC141] 1\n",
       "\\item[PC142] 1\n",
       "\\item[PC143] 1\n",
       "\\item[PC144] 1\n",
       "\\item[PC145] 1\n",
       "\\item[PC146] 1\n",
       "\\item[PC147] 1\n",
       "\\item[PC148] 1\n",
       "\\item[PC149] 1\n",
       "\\item[PC150] 1\n",
       "\\item[PC151] 1\n",
       "\\item[PC152] 1\n",
       "\\item[PC153] 1\n",
       "\\item[PC154] 1\n",
       "\\item[PC155] 1\n",
       "\\item[PC156] 1\n",
       "\\item[PC157] 1\n",
       "\\item[PC158] 1\n",
       "\\end{description*}\n"
      ],
      "text/markdown": [
       "PC1\n",
       ":   0.06629PC2\n",
       ":   0.10971PC3\n",
       ":   0.14506PC4\n",
       ":   0.17634PC5\n",
       ":   0.20477PC6\n",
       ":   0.23PC7\n",
       ":   0.25264PC8\n",
       ":   0.2748PC9\n",
       ":   0.29614PC10\n",
       ":   0.3166PC11\n",
       ":   0.33629PC12\n",
       ":   0.35554PC13\n",
       ":   0.37463PC14\n",
       ":   0.39303PC15\n",
       ":   0.41094PC16\n",
       ":   0.42833PC17\n",
       ":   0.44487PC18\n",
       ":   0.46056PC19\n",
       ":   0.47533PC20\n",
       ":   0.48957PC21\n",
       ":   0.50366PC22\n",
       ":   0.51732PC23\n",
       ":   0.53076PC24\n",
       ":   0.54412PC25\n",
       ":   0.55716PC26\n",
       ":   0.57008PC27\n",
       ":   0.58277PC28\n",
       ":   0.59525PC29\n",
       ":   0.60732PC30\n",
       ":   0.61928PC31\n",
       ":   0.63102PC32\n",
       ":   0.64267PC33\n",
       ":   0.65392PC34\n",
       ":   0.66493PC35\n",
       ":   0.67573PC36\n",
       ":   0.68612PC37\n",
       ":   0.69623PC38\n",
       ":   0.70559PC39\n",
       ":   0.71489PC40\n",
       ":   0.72385PC41\n",
       ":   0.73226PC42\n",
       ":   0.74052PC43\n",
       ":   0.7485PC44\n",
       ":   0.75627PC45\n",
       ":   0.7637PC46\n",
       ":   0.77097PC47\n",
       ":   0.77801PC48\n",
       ":   0.78499PC49\n",
       ":   0.79186PC50\n",
       ":   0.7986PC51\n",
       ":   0.80515PC52\n",
       ":   0.81161PC53\n",
       ":   0.81796PC54\n",
       ":   0.8243PC55\n",
       ":   0.83063PC56\n",
       ":   0.83693PC57\n",
       ":   0.84321PC58\n",
       ":   0.8494PC59\n",
       ":   0.85554PC60\n",
       ":   0.86162PC61\n",
       ":   0.86755PC62\n",
       ":   0.87348PC63\n",
       ":   0.8793PC64\n",
       ":   0.88507PC65\n",
       ":   0.8906PC66\n",
       ":   0.8961PC67\n",
       ":   0.90145PC68\n",
       ":   0.90676PC69\n",
       ":   0.91194PC70\n",
       ":   0.917PC71\n",
       ":   0.92188PC72\n",
       ":   0.92653PC73\n",
       ":   0.93108PC74\n",
       ":   0.93549PC75\n",
       ":   0.93985PC76\n",
       ":   0.944PC77\n",
       ":   0.94797PC78\n",
       ":   0.9518PC79\n",
       ":   0.95555PC80\n",
       ":   0.95926PC81\n",
       ":   0.96284PC82\n",
       ":   0.9663PC83\n",
       ":   0.96946PC84\n",
       ":   0.97217PC85\n",
       ":   0.97483PC86\n",
       ":   0.97746PC87\n",
       ":   0.97996PC88\n",
       ":   0.98223PC89\n",
       ":   0.98431PC90\n",
       ":   0.98616PC91\n",
       ":   0.98782PC92\n",
       ":   0.98933PC93\n",
       ":   0.99066PC94\n",
       ":   0.99187PC95\n",
       ":   0.99307PC96\n",
       ":   0.99419PC97\n",
       ":   0.99518PC98\n",
       ":   0.99599PC99\n",
       ":   0.99673PC100\n",
       ":   0.99745PC101\n",
       ":   0.99809PC102\n",
       ":   0.99866PC103\n",
       ":   0.99912PC104\n",
       ":   0.99952PC105\n",
       ":   0.99976PC106\n",
       ":   0.99989PC107\n",
       ":   1PC108\n",
       ":   1PC109\n",
       ":   1PC110\n",
       ":   1PC111\n",
       ":   1PC112\n",
       ":   1PC113\n",
       ":   1PC114\n",
       ":   1PC115\n",
       ":   1PC116\n",
       ":   1PC117\n",
       ":   1PC118\n",
       ":   1PC119\n",
       ":   1PC120\n",
       ":   1PC121\n",
       ":   1PC122\n",
       ":   1PC123\n",
       ":   1PC124\n",
       ":   1PC125\n",
       ":   1PC126\n",
       ":   1PC127\n",
       ":   1PC128\n",
       ":   1PC129\n",
       ":   1PC130\n",
       ":   1PC131\n",
       ":   1PC132\n",
       ":   1PC133\n",
       ":   1PC134\n",
       ":   1PC135\n",
       ":   1PC136\n",
       ":   1PC137\n",
       ":   1PC138\n",
       ":   1PC139\n",
       ":   1PC140\n",
       ":   1PC141\n",
       ":   1PC142\n",
       ":   1PC143\n",
       ":   1PC144\n",
       ":   1PC145\n",
       ":   1PC146\n",
       ":   1PC147\n",
       ":   1PC148\n",
       ":   1PC149\n",
       ":   1PC150\n",
       ":   1PC151\n",
       ":   1PC152\n",
       ":   1PC153\n",
       ":   1PC154\n",
       ":   1PC155\n",
       ":   1PC156\n",
       ":   1PC157\n",
       ":   1PC158\n",
       ":   1\n",
       "\n"
      ],
      "text/plain": [
       "    PC1     PC2     PC3     PC4     PC5     PC6     PC7     PC8     PC9    PC10 \n",
       "0.06629 0.10971 0.14506 0.17634 0.20477 0.23000 0.25264 0.27480 0.29614 0.31660 \n",
       "   PC11    PC12    PC13    PC14    PC15    PC16    PC17    PC18    PC19    PC20 \n",
       "0.33629 0.35554 0.37463 0.39303 0.41094 0.42833 0.44487 0.46056 0.47533 0.48957 \n",
       "   PC21    PC22    PC23    PC24    PC25    PC26    PC27    PC28    PC29    PC30 \n",
       "0.50366 0.51732 0.53076 0.54412 0.55716 0.57008 0.58277 0.59525 0.60732 0.61928 \n",
       "   PC31    PC32    PC33    PC34    PC35    PC36    PC37    PC38    PC39    PC40 \n",
       "0.63102 0.64267 0.65392 0.66493 0.67573 0.68612 0.69623 0.70559 0.71489 0.72385 \n",
       "   PC41    PC42    PC43    PC44    PC45    PC46    PC47    PC48    PC49    PC50 \n",
       "0.73226 0.74052 0.74850 0.75627 0.76370 0.77097 0.77801 0.78499 0.79186 0.79860 \n",
       "   PC51    PC52    PC53    PC54    PC55    PC56    PC57    PC58    PC59    PC60 \n",
       "0.80515 0.81161 0.81796 0.82430 0.83063 0.83693 0.84321 0.84940 0.85554 0.86162 \n",
       "   PC61    PC62    PC63    PC64    PC65    PC66    PC67    PC68    PC69    PC70 \n",
       "0.86755 0.87348 0.87930 0.88507 0.89060 0.89610 0.90145 0.90676 0.91194 0.91700 \n",
       "   PC71    PC72    PC73    PC74    PC75    PC76    PC77    PC78    PC79    PC80 \n",
       "0.92188 0.92653 0.93108 0.93549 0.93985 0.94400 0.94797 0.95180 0.95555 0.95926 \n",
       "   PC81    PC82    PC83    PC84    PC85    PC86    PC87    PC88    PC89    PC90 \n",
       "0.96284 0.96630 0.96946 0.97217 0.97483 0.97746 0.97996 0.98223 0.98431 0.98616 \n",
       "   PC91    PC92    PC93    PC94    PC95    PC96    PC97    PC98    PC99   PC100 \n",
       "0.98782 0.98933 0.99066 0.99187 0.99307 0.99419 0.99518 0.99599 0.99673 0.99745 \n",
       "  PC101   PC102   PC103   PC104   PC105   PC106   PC107   PC108   PC109   PC110 \n",
       "0.99809 0.99866 0.99912 0.99952 0.99976 0.99989 1.00000 1.00000 1.00000 1.00000 \n",
       "  PC111   PC112   PC113   PC114   PC115   PC116   PC117   PC118   PC119   PC120 \n",
       "1.00000 1.00000 1.00000 1.00000 1.00000 1.00000 1.00000 1.00000 1.00000 1.00000 \n",
       "  PC121   PC122   PC123   PC124   PC125   PC126   PC127   PC128   PC129   PC130 \n",
       "1.00000 1.00000 1.00000 1.00000 1.00000 1.00000 1.00000 1.00000 1.00000 1.00000 \n",
       "  PC131   PC132   PC133   PC134   PC135   PC136   PC137   PC138   PC139   PC140 \n",
       "1.00000 1.00000 1.00000 1.00000 1.00000 1.00000 1.00000 1.00000 1.00000 1.00000 \n",
       "  PC141   PC142   PC143   PC144   PC145   PC146   PC147   PC148   PC149   PC150 \n",
       "1.00000 1.00000 1.00000 1.00000 1.00000 1.00000 1.00000 1.00000 1.00000 1.00000 \n",
       "  PC151   PC152   PC153   PC154   PC155   PC156   PC157   PC158 \n",
       "1.00000 1.00000 1.00000 1.00000 1.00000 1.00000 1.00000 1.00000 "
      ]
     },
     "metadata": {},
     "output_type": "display_data"
    }
   ],
   "source": [
    "X_pca <- prcomp(X_onehot, scale = TRUE)\n",
    "s <- summary(X_pca)\n",
    "#Cumulative Proportion\n",
    "s$importance[3,]"
   ]
  },
  {
   "cell_type": "markdown",
   "metadata": {},
   "source": [
    "Those values represent the cumulative \"percentage\" of the original data that is covered by PCA with each linear combination.<br>\n",
    "Since the goal of our feature selection is to reduce the dimensionnality of the dataset, we won't take all the columns returned by the PCA (there are 158), but a number that would cover a reasonnable percentage of the dataset.<br>\n",
    "90% is a good percentage so we will keep columns from PC1 up to PC67."
   ]
  },
  {
   "cell_type": "code",
   "execution_count": 57,
   "metadata": {
    "scrolled": true
   },
   "outputs": [
    {
     "data": {
      "text/html": [
       "<table class=\"dataframe\">\n",
       "<caption>A data.frame: 6 × 67</caption>\n",
       "<thead>\n",
       "\t<tr><th></th><th scope=col>PC1</th><th scope=col>PC2</th><th scope=col>PC3</th><th scope=col>PC4</th><th scope=col>PC5</th><th scope=col>PC6</th><th scope=col>PC7</th><th scope=col>PC8</th><th scope=col>PC9</th><th scope=col>PC10</th><th scope=col>⋯</th><th scope=col>PC58</th><th scope=col>PC59</th><th scope=col>PC60</th><th scope=col>PC61</th><th scope=col>PC62</th><th scope=col>PC63</th><th scope=col>PC64</th><th scope=col>PC65</th><th scope=col>PC66</th><th scope=col>PC67</th></tr>\n",
       "\t<tr><th></th><th scope=col>&lt;dbl&gt;</th><th scope=col>&lt;dbl&gt;</th><th scope=col>&lt;dbl&gt;</th><th scope=col>&lt;dbl&gt;</th><th scope=col>&lt;dbl&gt;</th><th scope=col>&lt;dbl&gt;</th><th scope=col>&lt;dbl&gt;</th><th scope=col>&lt;dbl&gt;</th><th scope=col>&lt;dbl&gt;</th><th scope=col>&lt;dbl&gt;</th><th scope=col>⋯</th><th scope=col>&lt;dbl&gt;</th><th scope=col>&lt;dbl&gt;</th><th scope=col>&lt;dbl&gt;</th><th scope=col>&lt;dbl&gt;</th><th scope=col>&lt;dbl&gt;</th><th scope=col>&lt;dbl&gt;</th><th scope=col>&lt;dbl&gt;</th><th scope=col>&lt;dbl&gt;</th><th scope=col>&lt;dbl&gt;</th><th scope=col>&lt;dbl&gt;</th></tr>\n",
       "</thead>\n",
       "<tbody>\n",
       "\t<tr><th scope=row>1</th><td> 3.509680</td><td> 1.7648248</td><td> 2.8643866</td><td>-0.16996008</td><td> 0.11097545</td><td> 0.5401557</td><td> 1.5801966</td><td>-0.1262903</td><td> 0.6021447</td><td>-1.246925</td><td>⋯</td><td> 0.47065198</td><td>-0.416280174</td><td> 0.1232923</td><td>-0.852476131</td><td> 0.05232425</td><td>-0.59544532</td><td> 0.32686012</td><td> 1.0087805</td><td>-0.9578949</td><td> 0.01040237</td></tr>\n",
       "\t<tr><th scope=row>2</th><td> 2.026263</td><td> 1.0015156</td><td>-5.6517761</td><td> 0.48446678</td><td>-0.80066532</td><td> 2.4998269</td><td> 1.4641406</td><td>-1.1690408</td><td>-1.3901926</td><td> 1.873921</td><td>⋯</td><td> 0.44705639</td><td> 0.236793268</td><td>-0.1637088</td><td>-0.385008087</td><td> 0.98651081</td><td> 1.13323451</td><td> 0.25534785</td><td> 0.9492360</td><td>-0.9735969</td><td>-1.03168222</td></tr>\n",
       "\t<tr><th scope=row>3</th><td> 2.649350</td><td>-1.4614178</td><td>-0.9083602</td><td> 0.09509014</td><td> 0.82743052</td><td>-0.2599366</td><td>-2.0060779</td><td> 0.5806098</td><td>-1.7500810</td><td> 3.243528</td><td>⋯</td><td>-0.31081660</td><td> 1.291704379</td><td>-0.4502235</td><td> 0.180404413</td><td> 1.46092545</td><td> 0.85705208</td><td>-0.92890023</td><td> 1.0406772</td><td> 0.7271574</td><td>-0.68238250</td></tr>\n",
       "\t<tr><th scope=row>4</th><td>-1.113864</td><td>-5.0360747</td><td> 2.9246750</td><td>-0.14035154</td><td> 1.15349060</td><td>-0.4558658</td><td> 1.4996905</td><td> 2.3789424</td><td> 0.8361354</td><td> 1.744128</td><td>⋯</td><td>-0.66683142</td><td>-0.009120339</td><td> 0.3530870</td><td>-0.066543752</td><td> 0.01860899</td><td> 0.01019354</td><td> 0.59325417</td><td> 0.1856793</td><td>-0.7774358</td><td>-0.72101262</td></tr>\n",
       "\t<tr><th scope=row>5</th><td> 2.382417</td><td> 0.8251296</td><td>-6.7820846</td><td> 1.56052567</td><td>-0.02657964</td><td> 4.1538636</td><td> 3.2932419</td><td>-0.4461845</td><td>-2.2597656</td><td> 2.772558</td><td>⋯</td><td>-0.09509038</td><td> 0.511143946</td><td> 0.4502555</td><td>-0.004639447</td><td>-0.48700635</td><td>-0.44817358</td><td> 1.55874205</td><td>-0.5851594</td><td> 0.6119883</td><td>-0.54848588</td></tr>\n",
       "\t<tr><th scope=row>6</th><td>-1.426085</td><td>-5.9279145</td><td> 1.0459846</td><td> 3.50594861</td><td>-1.24869910</td><td>-6.0427553</td><td>-0.1053045</td><td>-7.3790537</td><td> 6.0358987</td><td> 9.006324</td><td>⋯</td><td>-2.69924445</td><td> 0.707015436</td><td> 0.6825430</td><td>-1.209394355</td><td> 3.22803025</td><td>-0.88516221</td><td>-0.09468789</td><td>-1.5613216</td><td>-0.8916578</td><td>-0.02469128</td></tr>\n",
       "</tbody>\n",
       "</table>\n"
      ],
      "text/latex": [
       "A data.frame: 6 × 67\n",
       "\\begin{tabular}{r|lllllllllllllllllllll}\n",
       "  & PC1 & PC2 & PC3 & PC4 & PC5 & PC6 & PC7 & PC8 & PC9 & PC10 & ⋯ & PC58 & PC59 & PC60 & PC61 & PC62 & PC63 & PC64 & PC65 & PC66 & PC67\\\\\n",
       "  & <dbl> & <dbl> & <dbl> & <dbl> & <dbl> & <dbl> & <dbl> & <dbl> & <dbl> & <dbl> & ⋯ & <dbl> & <dbl> & <dbl> & <dbl> & <dbl> & <dbl> & <dbl> & <dbl> & <dbl> & <dbl>\\\\\n",
       "\\hline\n",
       "\t1 &  3.509680 &  1.7648248 &  2.8643866 & -0.16996008 &  0.11097545 &  0.5401557 &  1.5801966 & -0.1262903 &  0.6021447 & -1.246925 & ⋯ &  0.47065198 & -0.416280174 &  0.1232923 & -0.852476131 &  0.05232425 & -0.59544532 &  0.32686012 &  1.0087805 & -0.9578949 &  0.01040237\\\\\n",
       "\t2 &  2.026263 &  1.0015156 & -5.6517761 &  0.48446678 & -0.80066532 &  2.4998269 &  1.4641406 & -1.1690408 & -1.3901926 &  1.873921 & ⋯ &  0.44705639 &  0.236793268 & -0.1637088 & -0.385008087 &  0.98651081 &  1.13323451 &  0.25534785 &  0.9492360 & -0.9735969 & -1.03168222\\\\\n",
       "\t3 &  2.649350 & -1.4614178 & -0.9083602 &  0.09509014 &  0.82743052 & -0.2599366 & -2.0060779 &  0.5806098 & -1.7500810 &  3.243528 & ⋯ & -0.31081660 &  1.291704379 & -0.4502235 &  0.180404413 &  1.46092545 &  0.85705208 & -0.92890023 &  1.0406772 &  0.7271574 & -0.68238250\\\\\n",
       "\t4 & -1.113864 & -5.0360747 &  2.9246750 & -0.14035154 &  1.15349060 & -0.4558658 &  1.4996905 &  2.3789424 &  0.8361354 &  1.744128 & ⋯ & -0.66683142 & -0.009120339 &  0.3530870 & -0.066543752 &  0.01860899 &  0.01019354 &  0.59325417 &  0.1856793 & -0.7774358 & -0.72101262\\\\\n",
       "\t5 &  2.382417 &  0.8251296 & -6.7820846 &  1.56052567 & -0.02657964 &  4.1538636 &  3.2932419 & -0.4461845 & -2.2597656 &  2.772558 & ⋯ & -0.09509038 &  0.511143946 &  0.4502555 & -0.004639447 & -0.48700635 & -0.44817358 &  1.55874205 & -0.5851594 &  0.6119883 & -0.54848588\\\\\n",
       "\t6 & -1.426085 & -5.9279145 &  1.0459846 &  3.50594861 & -1.24869910 & -6.0427553 & -0.1053045 & -7.3790537 &  6.0358987 &  9.006324 & ⋯ & -2.69924445 &  0.707015436 &  0.6825430 & -1.209394355 &  3.22803025 & -0.88516221 & -0.09468789 & -1.5613216 & -0.8916578 & -0.02469128\\\\\n",
       "\\end{tabular}\n"
      ],
      "text/markdown": [
       "\n",
       "A data.frame: 6 × 67\n",
       "\n",
       "| <!--/--> | PC1 &lt;dbl&gt; | PC2 &lt;dbl&gt; | PC3 &lt;dbl&gt; | PC4 &lt;dbl&gt; | PC5 &lt;dbl&gt; | PC6 &lt;dbl&gt; | PC7 &lt;dbl&gt; | PC8 &lt;dbl&gt; | PC9 &lt;dbl&gt; | PC10 &lt;dbl&gt; | ⋯ ⋯ | PC58 &lt;dbl&gt; | PC59 &lt;dbl&gt; | PC60 &lt;dbl&gt; | PC61 &lt;dbl&gt; | PC62 &lt;dbl&gt; | PC63 &lt;dbl&gt; | PC64 &lt;dbl&gt; | PC65 &lt;dbl&gt; | PC66 &lt;dbl&gt; | PC67 &lt;dbl&gt; |\n",
       "|---|---|---|---|---|---|---|---|---|---|---|---|---|---|---|---|---|---|---|---|---|---|\n",
       "| 1 |  3.509680 |  1.7648248 |  2.8643866 | -0.16996008 |  0.11097545 |  0.5401557 |  1.5801966 | -0.1262903 |  0.6021447 | -1.246925 | ⋯ |  0.47065198 | -0.416280174 |  0.1232923 | -0.852476131 |  0.05232425 | -0.59544532 |  0.32686012 |  1.0087805 | -0.9578949 |  0.01040237 |\n",
       "| 2 |  2.026263 |  1.0015156 | -5.6517761 |  0.48446678 | -0.80066532 |  2.4998269 |  1.4641406 | -1.1690408 | -1.3901926 |  1.873921 | ⋯ |  0.44705639 |  0.236793268 | -0.1637088 | -0.385008087 |  0.98651081 |  1.13323451 |  0.25534785 |  0.9492360 | -0.9735969 | -1.03168222 |\n",
       "| 3 |  2.649350 | -1.4614178 | -0.9083602 |  0.09509014 |  0.82743052 | -0.2599366 | -2.0060779 |  0.5806098 | -1.7500810 |  3.243528 | ⋯ | -0.31081660 |  1.291704379 | -0.4502235 |  0.180404413 |  1.46092545 |  0.85705208 | -0.92890023 |  1.0406772 |  0.7271574 | -0.68238250 |\n",
       "| 4 | -1.113864 | -5.0360747 |  2.9246750 | -0.14035154 |  1.15349060 | -0.4558658 |  1.4996905 |  2.3789424 |  0.8361354 |  1.744128 | ⋯ | -0.66683142 | -0.009120339 |  0.3530870 | -0.066543752 |  0.01860899 |  0.01019354 |  0.59325417 |  0.1856793 | -0.7774358 | -0.72101262 |\n",
       "| 5 |  2.382417 |  0.8251296 | -6.7820846 |  1.56052567 | -0.02657964 |  4.1538636 |  3.2932419 | -0.4461845 | -2.2597656 |  2.772558 | ⋯ | -0.09509038 |  0.511143946 |  0.4502555 | -0.004639447 | -0.48700635 | -0.44817358 |  1.55874205 | -0.5851594 |  0.6119883 | -0.54848588 |\n",
       "| 6 | -1.426085 | -5.9279145 |  1.0459846 |  3.50594861 | -1.24869910 | -6.0427553 | -0.1053045 | -7.3790537 |  6.0358987 |  9.006324 | ⋯ | -2.69924445 |  0.707015436 |  0.6825430 | -1.209394355 |  3.22803025 | -0.88516221 | -0.09468789 | -1.5613216 | -0.8916578 | -0.02469128 |\n",
       "\n"
      ],
      "text/plain": [
       "  PC1       PC2        PC3        PC4         PC5         PC6        PC7       \n",
       "1  3.509680  1.7648248  2.8643866 -0.16996008  0.11097545  0.5401557  1.5801966\n",
       "2  2.026263  1.0015156 -5.6517761  0.48446678 -0.80066532  2.4998269  1.4641406\n",
       "3  2.649350 -1.4614178 -0.9083602  0.09509014  0.82743052 -0.2599366 -2.0060779\n",
       "4 -1.113864 -5.0360747  2.9246750 -0.14035154  1.15349060 -0.4558658  1.4996905\n",
       "5  2.382417  0.8251296 -6.7820846  1.56052567 -0.02657964  4.1538636  3.2932419\n",
       "6 -1.426085 -5.9279145  1.0459846  3.50594861 -1.24869910 -6.0427553 -0.1053045\n",
       "  PC8        PC9        PC10      ⋯ PC58        PC59         PC60      \n",
       "1 -0.1262903  0.6021447 -1.246925 ⋯  0.47065198 -0.416280174  0.1232923\n",
       "2 -1.1690408 -1.3901926  1.873921 ⋯  0.44705639  0.236793268 -0.1637088\n",
       "3  0.5806098 -1.7500810  3.243528 ⋯ -0.31081660  1.291704379 -0.4502235\n",
       "4  2.3789424  0.8361354  1.744128 ⋯ -0.66683142 -0.009120339  0.3530870\n",
       "5 -0.4461845 -2.2597656  2.772558 ⋯ -0.09509038  0.511143946  0.4502555\n",
       "6 -7.3790537  6.0358987  9.006324 ⋯ -2.69924445  0.707015436  0.6825430\n",
       "  PC61         PC62        PC63        PC64        PC65       PC66      \n",
       "1 -0.852476131  0.05232425 -0.59544532  0.32686012  1.0087805 -0.9578949\n",
       "2 -0.385008087  0.98651081  1.13323451  0.25534785  0.9492360 -0.9735969\n",
       "3  0.180404413  1.46092545  0.85705208 -0.92890023  1.0406772  0.7271574\n",
       "4 -0.066543752  0.01860899  0.01019354  0.59325417  0.1856793 -0.7774358\n",
       "5 -0.004639447 -0.48700635 -0.44817358  1.55874205 -0.5851594  0.6119883\n",
       "6 -1.209394355  3.22803025 -0.88516221 -0.09468789 -1.5613216 -0.8916578\n",
       "  PC67       \n",
       "1  0.01040237\n",
       "2 -1.03168222\n",
       "3 -0.68238250\n",
       "4 -0.72101262\n",
       "5 -0.54848588\n",
       "6 -0.02469128"
      ]
     },
     "metadata": {},
     "output_type": "display_data"
    }
   ],
   "source": [
    "X_final <- data.frame(X_pca$x[,1:67])\n",
    "head(X_final)"
   ]
  },
  {
   "cell_type": "code",
   "execution_count": 24,
   "metadata": {},
   "outputs": [
    {
     "data": {
      "text/html": [
       "<style>\n",
       ".list-inline {list-style: none; margin:0; padding: 0}\n",
       ".list-inline>li {display: inline-block}\n",
       ".list-inline>li:not(:last-child)::after {content: \"\\00b7\"; padding: 0 .5ex}\n",
       "</style>\n",
       "<ol class=list-inline><li>59400</li><li>67</li></ol>\n"
      ],
      "text/latex": [
       "\\begin{enumerate*}\n",
       "\\item 59400\n",
       "\\item 67\n",
       "\\end{enumerate*}\n"
      ],
      "text/markdown": [
       "1. 59400\n",
       "2. 67\n",
       "\n",
       "\n"
      ],
      "text/plain": [
       "[1] 59400    67"
      ]
     },
     "metadata": {},
     "output_type": "display_data"
    }
   ],
   "source": [
    "N<-nrow(X_final)    #Number of examples\n",
    "n<-ncol(X_final)    #Number of input variables\n",
    "dim(X_final)"
   ]
  },
  {
   "cell_type": "markdown",
   "metadata": {},
   "source": [
    "We started with 158 columns before applying PCA, now we have 67."
   ]
  },
  {
   "cell_type": "markdown",
   "metadata": {},
   "source": [
    "# Model selection\n",
    "\n",
    "In this section, it is required to implement a model selection procedure. We must compare 3 different models and the procedure used for model assessment and selection. In particular, the first model evaluated was decision trees, coming from the rpart library.\n",
    "\n",
    "Before diving into the presentation of our models, we define a function which transforms the output of 2 of our 3 models into a list with labels, rather than a \"one-hot\" output. This will help evaluating the accuracy of those models since a confusion matrix is used to that end. "
   ]
  },
  {
   "cell_type": "code",
   "execution_count": 25,
   "metadata": {},
   "outputs": [],
   "source": [
    "threshold <- 0.5\n",
    "\n",
    "predict_transform <- function(Y_hat_tree){\n",
    "    Y_hat <- t(apply(Y_hat_tree, 1, function(x)(x-min(x))/(max(x)-min(x))))\n",
    "                 \n",
    "    Y_hat[,1] <- ifelse(Y_hat[,1] < 0.99,0,1)\n",
    "    Y_hat[,2] <- ifelse(Y_hat[,2] < 0.99,0,1)\n",
    "    Y_hat[,3] <- ifelse(Y_hat[,3] < 0.99,0,1)\n",
    "    Y_hat <- ifelse(Y_hat[,1] > threshold,\"functional\",ifelse(Y_hat[,2] > threshold,\"functional_needs_repair\",\"non_functional\"))\n",
    "    return(Y_hat)\n",
    "}"
   ]
  },
  {
   "cell_type": "markdown",
   "metadata": {},
   "source": [
    "## Model 1 - rpart\n",
    "\n",
    "The recursive partitioning that will be done when construction these decision trees, they strive to correctly classify a given input by splitting it into sub-population based on several dichotomous independant varibales.\n",
    "\n",
    "We may point out some advantage and disadvantage of this method : \n",
    "\n",
    "    - intuitive models that do not require the user to perform calculations\n",
    "    - allows varying prioritizing of misclassifications in order to create a decision rule that has more sensitivity or specificity\n",
    "    - Does not work well for continuous variables\n",
    "    - May overfit data\n",
    "\n",
    "For all the models, to assess how the results of a statistical analysis will generalize to an independent data set, a 5-fold cross validation is used. In the next cell is the code for the 5-fold cross validation. In particular, this cell is using the CPA dataset (i.e. X_final). "
   ]
  },
  {
   "cell_type": "code",
   "execution_count": 26,
   "metadata": {},
   "outputs": [
    {
     "name": "stderr",
     "output_type": "stream",
     "text": [
      "Warning message in levels(reference) != levels(data):\n",
      "“la taille d'un objet plus long n'est pas multiple de la taille d'un objet plus court”\n",
      "Warning message in confusionMatrix.default(as.factor(Y_hat), as.factor(Y_ts)):\n",
      "“Levels are not in the same order for reference and data. Refactoring data to match.”\n"
     ]
    },
    {
     "name": "stdout",
     "output_type": "stream",
     "text": [
      "Accuracy \n",
      "0.677862 \n"
     ]
    },
    {
     "name": "stderr",
     "output_type": "stream",
     "text": [
      "Warning message in levels(reference) != levels(data):\n",
      "“la taille d'un objet plus long n'est pas multiple de la taille d'un objet plus court”\n",
      "Warning message in confusionMatrix.default(as.factor(Y_hat), as.factor(Y_ts)):\n",
      "“Levels are not in the same order for reference and data. Refactoring data to match.”\n"
     ]
    },
    {
     "name": "stdout",
     "output_type": "stream",
     "text": [
      " Accuracy \n",
      "0.6739899 \n"
     ]
    },
    {
     "name": "stderr",
     "output_type": "stream",
     "text": [
      "Warning message in levels(reference) != levels(data):\n",
      "“la taille d'un objet plus long n'est pas multiple de la taille d'un objet plus court”\n",
      "Warning message in confusionMatrix.default(as.factor(Y_hat), as.factor(Y_ts)):\n",
      "“Levels are not in the same order for reference and data. Refactoring data to match.”\n"
     ]
    },
    {
     "name": "stdout",
     "output_type": "stream",
     "text": [
      " Accuracy \n",
      "0.6776094 \n"
     ]
    },
    {
     "name": "stderr",
     "output_type": "stream",
     "text": [
      "Warning message in levels(reference) != levels(data):\n",
      "“la taille d'un objet plus long n'est pas multiple de la taille d'un objet plus court”\n",
      "Warning message in confusionMatrix.default(as.factor(Y_hat), as.factor(Y_ts)):\n",
      "“Levels are not in the same order for reference and data. Refactoring data to match.”\n"
     ]
    },
    {
     "name": "stdout",
     "output_type": "stream",
     "text": [
      " Accuracy \n",
      "0.6772727 \n"
     ]
    },
    {
     "name": "stderr",
     "output_type": "stream",
     "text": [
      "Warning message in levels(reference) != levels(data):\n",
      "“la taille d'un objet plus long n'est pas multiple de la taille d'un objet plus court”\n",
      "Warning message in confusionMatrix.default(as.factor(Y_hat), as.factor(Y_ts)):\n",
      "“Levels are not in the same order for reference and data. Refactoring data to match.”\n"
     ]
    },
    {
     "name": "stdout",
     "output_type": "stream",
     "text": [
      "Accuracy \n",
      "0.685101 \n"
     ]
    }
   ],
   "source": [
    "#cross validation or rpart pca as input, approximately 1 min to run\n",
    "\n",
    "CV_folds <- 5\n",
    "\n",
    "size_CV <-floor(N/CV_folds)\n",
    "\n",
    "\n",
    "for (i in 1:CV_folds) {\n",
    "    \n",
    "    idx_ts<-(((i-1)*size_CV+1):(i*size_CV))  ### idx_ts represents the indices of the test set the i-th fold\n",
    "    X_ts<-X_final[idx_ts,]  \n",
    "    Y_ts<-Y[idx_ts,]\n",
    "     \n",
    "    idx_tr<-setdiff(1:N,idx_ts) ### idx_tr represents  indices of the training sefor the i-th fold\n",
    "    X_tr<-X_final[idx_tr,]\n",
    "    Y_tr<-Y[idx_tr,]         \n",
    "        # Create a dataset including only the first nb_components principal components\n",
    "    DS<-cbind(X_tr,status_group=Y_tr)\n",
    "    DS$status_group<-factor(DS$status_group)\n",
    "         \n",
    "    #rpart\n",
    "    tree<- rpart(status_group~.,data=DS, method='class')\n",
    "\n",
    "    # Model predict\n",
    "    Y_hat_tree<- predict(tree,X_ts)\n",
    "    Y_hat <- predict_transform(Y_hat_tree)\n",
    "    acc_rpart <- confusionMatrix(as.factor(Y_hat),as.factor(Y_ts))$overall['Accuracy']\n",
    "    print(acc_rpart)\n",
    "} "
   ]
  },
  {
   "cell_type": "markdown",
   "metadata": {},
   "source": [
    "Now let's compare if we feed the model with our non-PCA dataset. "
   ]
  },
  {
   "cell_type": "code",
   "execution_count": 27,
   "metadata": {},
   "outputs": [
    {
     "name": "stderr",
     "output_type": "stream",
     "text": [
      "Warning message in levels(reference) != levels(data):\n",
      "“la taille d'un objet plus long n'est pas multiple de la taille d'un objet plus court”\n",
      "Warning message in confusionMatrix.default(as.factor(Y_hat), as.factor(Y_ts)):\n",
      "“Levels are not in the same order for reference and data. Refactoring data to match.”\n"
     ]
    },
    {
     "name": "stdout",
     "output_type": "stream",
     "text": [
      " Accuracy \n",
      "0.7069865 \n"
     ]
    },
    {
     "name": "stderr",
     "output_type": "stream",
     "text": [
      "Warning message in levels(reference) != levels(data):\n",
      "“la taille d'un objet plus long n'est pas multiple de la taille d'un objet plus court”\n",
      "Warning message in confusionMatrix.default(as.factor(Y_hat), as.factor(Y_ts)):\n",
      "“Levels are not in the same order for reference and data. Refactoring data to match.”\n"
     ]
    },
    {
     "name": "stdout",
     "output_type": "stream",
     "text": [
      " Accuracy \n",
      "0.7043771 \n"
     ]
    },
    {
     "name": "stderr",
     "output_type": "stream",
     "text": [
      "Warning message in levels(reference) != levels(data):\n",
      "“la taille d'un objet plus long n'est pas multiple de la taille d'un objet plus court”\n",
      "Warning message in confusionMatrix.default(as.factor(Y_hat), as.factor(Y_ts)):\n",
      "“Levels are not in the same order for reference and data. Refactoring data to match.”\n"
     ]
    },
    {
     "name": "stdout",
     "output_type": "stream",
     "text": [
      " Accuracy \n",
      "0.7047138 \n"
     ]
    },
    {
     "name": "stderr",
     "output_type": "stream",
     "text": [
      "Warning message in levels(reference) != levels(data):\n",
      "“la taille d'un objet plus long n'est pas multiple de la taille d'un objet plus court”\n",
      "Warning message in confusionMatrix.default(as.factor(Y_hat), as.factor(Y_ts)):\n",
      "“Levels are not in the same order for reference and data. Refactoring data to match.”\n"
     ]
    },
    {
     "name": "stdout",
     "output_type": "stream",
     "text": [
      " Accuracy \n",
      "0.7055556 \n"
     ]
    },
    {
     "name": "stderr",
     "output_type": "stream",
     "text": [
      "Warning message in levels(reference) != levels(data):\n",
      "“la taille d'un objet plus long n'est pas multiple de la taille d'un objet plus court”\n",
      "Warning message in confusionMatrix.default(as.factor(Y_hat), as.factor(Y_ts)):\n",
      "“Levels are not in the same order for reference and data. Refactoring data to match.”\n"
     ]
    },
    {
     "name": "stdout",
     "output_type": "stream",
     "text": [
      " Accuracy \n",
      "0.7128788 \n"
     ]
    }
   ],
   "source": [
    "#cross validation or rpart, approximately 1 min 10s to run\n",
    "\n",
    "CV_folds <- 5\n",
    "\n",
    "size_CV <-floor(N/CV_folds)\n",
    "\n",
    "\n",
    "\n",
    "for (i in 1:CV_folds) {\n",
    "    \n",
    "    idx_ts<-(((i-1)*size_CV+1):(i*size_CV))  ### idx_ts represents the indices of the test set the i-th fold\n",
    "    X_ts<-X_onehot[idx_ts,]  \n",
    "    Y_ts<-Y[idx_ts,]\n",
    "     \n",
    "    idx_tr<-setdiff(1:N,idx_ts) ### idx_tr represents  indices of the training sefor the i-th fold\n",
    "    X_tr<-X_onehot[idx_tr,]\n",
    "    Y_tr<-Y[idx_tr,]         \n",
    "        # Create a dataset including only the first nb_components principal components\n",
    "    DS<-cbind(X_tr,status_group=Y_tr)\n",
    "    DS$status_group<-factor(DS$status_group)\n",
    "         \n",
    "    #rpart\n",
    "    tree<- rpart(status_group~.,data=DS, method='class')\n",
    "\n",
    "    # Model predict\n",
    "    Y_hat_tree<- predict(tree,X_ts)\n",
    "    Y_hat <- predict_transform(Y_hat_tree)\n",
    "    acc_rpart <- confusionMatrix(as.factor(Y_hat),as.factor(Y_ts))$overall['Accuracy']\n",
    "    print(acc_rpart)\n",
    "} "
   ]
  },
  {
   "cell_type": "markdown",
   "metadata": {},
   "source": [
    "It seems that rpart benefits from having a more complete dataset rather than a projection into principle components. Furthermore, the time gained from reducing our dataset is not that significant for this model. In conclusion, for the decision tree using rpart, it is preferable to use the original dataset. One interesting aspect of the training of this model is that it doesn't predict the class \"functional_needs_repair. Let's show this with the last testing set of the preceding cross validation with the confusion matrix. "
   ]
  },
  {
   "cell_type": "code",
   "execution_count": 28,
   "metadata": {},
   "outputs": [
    {
     "name": "stderr",
     "output_type": "stream",
     "text": [
      "Warning message in levels(reference) != levels(data):\n",
      "“la taille d'un objet plus long n'est pas multiple de la taille d'un objet plus court”\n",
      "Warning message in confusionMatrix.default(as.factor(Y_hat), as.factor(Y_ts)):\n",
      "“Levels are not in the same order for reference and data. Refactoring data to match.”\n"
     ]
    },
    {
     "data": {
      "text/plain": [
       "                         Reference\n",
       "Prediction                functional functional_needs_repair non_functional\n",
       "  functional                    6227                     740           2327\n",
       "  functional_needs_repair          0                       0              0\n",
       "  non_functional                 244                     100           2242"
      ]
     },
     "metadata": {},
     "output_type": "display_data"
    }
   ],
   "source": [
    "confusionMatrix(as.factor(Y_hat),as.factor(Y_ts))$table"
   ]
  },
  {
   "cell_type": "markdown",
   "metadata": {},
   "source": [
    "This can be a consequence of the lack this particular class in the dataset, remember less than 10% of our labels constitute the class \"functional_needs_repair\". Maybe that, with a more balanced data-set this issue wouldn't be present. Another possible cause is that the decision tree doesn't classify correctly multiple classes, since the data available for the \"functional_needs_repair\" class is quite limited, it may be ignores it in the construction."
   ]
  },
  {
   "cell_type": "markdown",
   "metadata": {},
   "source": [
    "As a conclusion, let's see what might look like a decision tree after training."
   ]
  },
  {
   "cell_type": "code",
   "execution_count": 30,
   "metadata": {},
   "outputs": [
    {
     "data": {
      "image/png": "[encoded data removed]",
      "text/plain": [
       "plot without title"
      ]
     },
     "metadata": {
      "image/png": {
       "height": 420,
       "width": 420
      }
     },
     "output_type": "display_data"
    }
   ],
   "source": [
    "rpart.plot(tree)"
   ]
  },
  {
   "cell_type": "markdown",
   "metadata": {},
   "source": [
    "## Model 2 - nnet\n",
    "\n",
    "For the second model we decided to implement an Artificial Neural Network using the nnet library. This network is inspired by the structure of the nervous system. A set of neurons will be interconnected with each other to form a data-processing network. The weights which connects different layers and neurons will dynamically update during the training process in response to the input it receives. That dynamic allows the network to learn from past experiences.\n",
    "\n",
    "Firstly, we will give the network the PCA encoding that was computed earlier, which will also be compared to the input without PCA reduction. \n",
    "\n",
    "\n",
    "Furthermore, the nnet function allows us to take the input labels as \"one-hot\" encoding. We will thus compare both methods, one taking a \"one-hot\" encoding a input labels and another taking the labels as before.\n",
    "\n",
    "Note that the size of the hidden layer in our case was deemed reasonable at 5. Further tests with more hidden neurons were done but we couldn't say with certainty that one was definitaly better than the other. \n",
    "\n",
    "The following cell shows the implementation of the nnet model with PCA data as input."
   ]
  },
  {
   "cell_type": "code",
   "execution_count": 31,
   "metadata": {},
   "outputs": [
    {
     "name": "stdout",
     "output_type": "stream",
     "text": [
      " Accuracy \n",
      "0.7455387 \n"
     ]
    },
    {
     "name": "stderr",
     "output_type": "stream",
     "text": [
      "Warning message in levels(reference) != levels(data):\n",
      "“la taille d'un objet plus long n'est pas multiple de la taille d'un objet plus court”\n",
      "Warning message in confusionMatrix.default(as.factor(Y_hat), as.factor(Y_ts)):\n",
      "“Levels are not in the same order for reference and data. Refactoring data to match.”\n"
     ]
    },
    {
     "name": "stdout",
     "output_type": "stream",
     "text": [
      " Accuracy \n",
      "0.7380471 \n"
     ]
    },
    {
     "name": "stderr",
     "output_type": "stream",
     "text": [
      "Warning message in levels(reference) != levels(data):\n",
      "“la taille d'un objet plus long n'est pas multiple de la taille d'un objet plus court”\n",
      "Warning message in confusionMatrix.default(as.factor(Y_hat), as.factor(Y_ts)):\n",
      "“Levels are not in the same order for reference and data. Refactoring data to match.”\n"
     ]
    },
    {
     "name": "stdout",
     "output_type": "stream",
     "text": [
      " Accuracy \n",
      "0.7446128 \n"
     ]
    },
    {
     "name": "stderr",
     "output_type": "stream",
     "text": [
      "Warning message in levels(reference) != levels(data):\n",
      "“la taille d'un objet plus long n'est pas multiple de la taille d'un objet plus court”\n",
      "Warning message in confusionMatrix.default(as.factor(Y_hat), as.factor(Y_ts)):\n",
      "“Levels are not in the same order for reference and data. Refactoring data to match.”\n"
     ]
    },
    {
     "name": "stdout",
     "output_type": "stream",
     "text": [
      " Accuracy \n",
      "0.7393939 \n"
     ]
    },
    {
     "name": "stderr",
     "output_type": "stream",
     "text": [
      "Warning message in levels(reference) != levels(data):\n",
      "“la taille d'un objet plus long n'est pas multiple de la taille d'un objet plus court”\n",
      "Warning message in confusionMatrix.default(as.factor(Y_hat), as.factor(Y_ts)):\n",
      "“Levels are not in the same order for reference and data. Refactoring data to match.”\n"
     ]
    },
    {
     "name": "stdout",
     "output_type": "stream",
     "text": [
      " Accuracy \n",
      "0.7454545 \n"
     ]
    }
   ],
   "source": [
    "###################################\n",
    "###################################\n",
    "#            DISCLAIMER: ~11 min\n",
    "###################################\n",
    "###################################\n",
    "\n",
    "\n",
    "#nnet\n",
    "\n",
    "#cross validation of nnet pca input\n",
    "\n",
    "CV_folds <- 5\n",
    "\n",
    "size_CV <-floor(N/CV_folds)\n",
    "\n",
    "\n",
    "\n",
    "\n",
    "for (i in 1:CV_folds) {\n",
    "    \n",
    "    idx_ts<-(((i-1)*size_CV+1):(i*size_CV))  ### idx_ts represents the indices of the test set the i-th fold\n",
    "    X_ts<-X_final[idx_ts,]  \n",
    "    Y_ts<-Y[idx_ts,]\n",
    "     \n",
    "    idx_tr<-setdiff(1:N,idx_ts) ### idx_tr represents  indices of the training sefor the i-th fold\n",
    "    X_tr<-X_final[idx_tr,]\n",
    "    Y_tr<-Y[idx_tr,]         \n",
    "        # Create a dataset including only the first nb_components principal components\n",
    "    DS<-cbind(X_tr,status_group=Y_tr)\n",
    "    DS$status_group<-factor(DS$status_group)\n",
    "\n",
    "    # Model fit\n",
    "    model<- nnet(status_group~.,data=DS, size=5, maxit=1000, MaxNWts=2000,trace=FALSE)#1000 max iterations ?\n",
    "\n",
    "    # Model predict\n",
    "    Y_hat_nnet<- predict(model,X_ts)\n",
    "    Y_hat <- predict_transform(Y_hat_nnet)\n",
    "    acc_nnet <- confusionMatrix(as.factor(Y_hat),as.factor(Y_ts))$overall['Accuracy']\n",
    "    print(acc_nnet)\n",
    "} "
   ]
  },
  {
   "cell_type": "markdown",
   "metadata": {},
   "source": [
    "Let's look at what look like a typical neural network, now that we have an available network."
   ]
  },
  {
   "cell_type": "code",
   "execution_count": 32,
   "metadata": {},
   "outputs": [
    {
     "name": "stderr",
     "output_type": "stream",
     "text": [
      "Loading required package: usethis\n",
      "\n",
      "SHA-1 hash of file is bf3c7b8ac910823b729e3ce73bb6ab5e6955ad3d\n",
      "\n",
      "Loading required package: scales\n",
      "\n",
      "Loading required package: reshape\n",
      "\n",
      "\n",
      "Attaching package: ‘reshape’\n",
      "\n",
      "\n",
      "The following object is masked from ‘package:dplyr’:\n",
      "\n",
      "    rename\n",
      "\n",
      "\n"
     ]
    },
    {
     "data": {
      "image/png": "[encoded data removed]",
      "text/plain": [
       "plot without title"
      ]
     },
     "metadata": {
      "image/png": {
       "height": 420,
       "width": 420
      }
     },
     "output_type": "display_data"
    }
   ],
   "source": [
    "##########################\n",
    "#DO NOT RUN THIS CELL IF PRECEDING CELL NOT RUN\n",
    "\n",
    "\n",
    "library(devtools)\n",
    "source_url('https://gist.githubusercontent.com/Peque/41a9e20d6687f2f3108d/raw/85e14f3a292e126f1454864427e3a189c2fe33f3/nnet_plot_update.r')\n",
    "plot.nnet(model, alpha.val = 0.5, circle.col = list('lightgray', 'white'), bord.col = 'black', cex=0.5)"
   ]
  },
  {
   "cell_type": "markdown",
   "metadata": {},
   "source": [
    "The following cell presents the 5-fold cross validation with the original dataset. We will thus compare both overall acuracies."
   ]
  },
  {
   "cell_type": "code",
   "execution_count": 33,
   "metadata": {},
   "outputs": [
    {
     "name": "stderr",
     "output_type": "stream",
     "text": [
      "Warning message in levels(reference) != levels(data):\n",
      "“la taille d'un objet plus long n'est pas multiple de la taille d'un objet plus court”\n",
      "Warning message in confusionMatrix.default(as.factor(Y_hat), as.factor(Y_ts)):\n",
      "“Levels are not in the same order for reference and data. Refactoring data to match.”\n"
     ]
    },
    {
     "name": "stdout",
     "output_type": "stream",
     "text": [
      " Accuracy \n",
      "0.7393939 \n"
     ]
    },
    {
     "name": "stderr",
     "output_type": "stream",
     "text": [
      "Warning message in levels(reference) != levels(data):\n",
      "“la taille d'un objet plus long n'est pas multiple de la taille d'un objet plus court”\n",
      "Warning message in confusionMatrix.default(as.factor(Y_hat), as.factor(Y_ts)):\n",
      "“Levels are not in the same order for reference and data. Refactoring data to match.”\n"
     ]
    },
    {
     "name": "stdout",
     "output_type": "stream",
     "text": [
      " Accuracy \n",
      "0.7372896 \n"
     ]
    },
    {
     "name": "stderr",
     "output_type": "stream",
     "text": [
      "Warning message in levels(reference) != levels(data):\n",
      "“la taille d'un objet plus long n'est pas multiple de la taille d'un objet plus court”\n",
      "Warning message in confusionMatrix.default(as.factor(Y_hat), as.factor(Y_ts)):\n",
      "“Levels are not in the same order for reference and data. Refactoring data to match.”\n"
     ]
    },
    {
     "name": "stdout",
     "output_type": "stream",
     "text": [
      " Accuracy \n",
      "0.7289562 \n"
     ]
    },
    {
     "name": "stderr",
     "output_type": "stream",
     "text": [
      "Warning message in levels(reference) != levels(data):\n",
      "“la taille d'un objet plus long n'est pas multiple de la taille d'un objet plus court”\n",
      "Warning message in confusionMatrix.default(as.factor(Y_hat), as.factor(Y_ts)):\n",
      "“Levels are not in the same order for reference and data. Refactoring data to match.”\n"
     ]
    },
    {
     "name": "stdout",
     "output_type": "stream",
     "text": [
      " Accuracy \n",
      "0.7156566 \n"
     ]
    },
    {
     "name": "stderr",
     "output_type": "stream",
     "text": [
      "Warning message in levels(reference) != levels(data):\n",
      "“la taille d'un objet plus long n'est pas multiple de la taille d'un objet plus court”\n",
      "Warning message in confusionMatrix.default(as.factor(Y_hat), as.factor(Y_ts)):\n",
      "“Levels are not in the same order for reference and data. Refactoring data to match.”\n"
     ]
    },
    {
     "name": "stdout",
     "output_type": "stream",
     "text": [
      " Accuracy \n",
      "0.7436027 \n"
     ]
    }
   ],
   "source": [
    "###################################\n",
    "###################################\n",
    "#            DISCLAIMER: ~8 min\n",
    "###################################\n",
    "###################################\n",
    "\n",
    "\n",
    "#nnet\n",
    "\n",
    "#cross validation of nnet non-pca\n",
    "\n",
    "CV_folds <- 5\n",
    "\n",
    "size_CV <-floor(N/CV_folds)\n",
    "\n",
    "CV_err<-matrix(0,nrow=1,ncol=CV_folds)\n",
    "threshold <- 0.5\n",
    "\n",
    "\n",
    "for (i in 1:CV_folds) {\n",
    "    \n",
    "    idx_ts<-(((i-1)*size_CV+1):(i*size_CV))  ### idx_ts represents the indices of the test set the i-th fold\n",
    "    X_ts<-X_onehot[idx_ts,]  \n",
    "    Y_ts<-Y[idx_ts,]\n",
    "     \n",
    "    idx_tr<-setdiff(1:N,idx_ts) ### idx_tr represents  indices of the training sefor the i-th fold\n",
    "    X_tr<-X_onehot[idx_tr,]\n",
    "    Y_tr<-Y[idx_tr,]         \n",
    "        # Create a dataset including only the first nb_components principal components\n",
    "    DS<-cbind(X_tr,status_group=Y_tr)\n",
    "    DS$status_group<-factor(DS$status_group)\n",
    "\n",
    "    # Model fit (using lm function)\n",
    "    model<- nnet(status_group~.,data=DS, size=5, maxit=1000, MaxNWts=2000,trace=FALSE)#1000 max iterations ?\n",
    "\n",
    "    # Model predict\n",
    "    Y_hat_nnet<- predict(model,X_ts)\n",
    "    Y_hat <- predict_transform(Y_hat_nnet)\n",
    "    acc_nnet <- confusionMatrix(as.factor(Y_hat),as.factor(Y_ts))$overall['Accuracy']\n",
    "    print(acc_nnet)\n",
    "} "
   ]
  },
  {
   "cell_type": "markdown",
   "metadata": {},
   "source": [
    "It can be seen that similar results are yielded from before. In this particular instance, we might think that we have slightly worst results, but accross multiple rounds, we concluded that this difference was not signifcant and thus both dataset are basically equivalent. \n",
    "\n",
    "Here is the cell taking labels with a one hot encoding. We will use the PCA dataset since we do not see any significant differences between one another.  "
   ]
  },
  {
   "cell_type": "code",
   "execution_count": 34,
   "metadata": {},
   "outputs": [
    {
     "name": "stderr",
     "output_type": "stream",
     "text": [
      "Warning message in levels(reference) != levels(data):\n",
      "“la taille d'un objet plus long n'est pas multiple de la taille d'un objet plus court”\n",
      "Warning message in confusionMatrix.default(as.factor(Y_hat), as.factor(Y_ts)):\n",
      "“Levels are not in the same order for reference and data. Refactoring data to match.”\n"
     ]
    },
    {
     "name": "stdout",
     "output_type": "stream",
     "text": [
      " Accuracy \n",
      "0.7470539 \n"
     ]
    },
    {
     "name": "stderr",
     "output_type": "stream",
     "text": [
      "Warning message in levels(reference) != levels(data):\n",
      "“la taille d'un objet plus long n'est pas multiple de la taille d'un objet plus court”\n",
      "Warning message in confusionMatrix.default(as.factor(Y_hat), as.factor(Y_ts)):\n",
      "“Levels are not in the same order for reference and data. Refactoring data to match.”\n"
     ]
    },
    {
     "name": "stdout",
     "output_type": "stream",
     "text": [
      " Accuracy \n",
      "0.7419192 \n"
     ]
    },
    {
     "name": "stderr",
     "output_type": "stream",
     "text": [
      "Warning message in levels(reference) != levels(data):\n",
      "“la taille d'un objet plus long n'est pas multiple de la taille d'un objet plus court”\n",
      "Warning message in confusionMatrix.default(as.factor(Y_hat), as.factor(Y_ts)):\n",
      "“Levels are not in the same order for reference and data. Refactoring data to match.”\n"
     ]
    },
    {
     "name": "stdout",
     "output_type": "stream",
     "text": [
      "Accuracy \n",
      " 0.74133 \n"
     ]
    },
    {
     "name": "stderr",
     "output_type": "stream",
     "text": [
      "Warning message in levels(reference) != levels(data):\n",
      "“la taille d'un objet plus long n'est pas multiple de la taille d'un objet plus court”\n",
      "Warning message in confusionMatrix.default(as.factor(Y_hat), as.factor(Y_ts)):\n",
      "“Levels are not in the same order for reference and data. Refactoring data to match.”\n"
     ]
    },
    {
     "name": "stdout",
     "output_type": "stream",
     "text": [
      " Accuracy \n",
      "0.7223906 \n"
     ]
    },
    {
     "name": "stderr",
     "output_type": "stream",
     "text": [
      "Warning message in levels(reference) != levels(data):\n",
      "“la taille d'un objet plus long n'est pas multiple de la taille d'un objet plus court”\n",
      "Warning message in confusionMatrix.default(as.factor(Y_hat), as.factor(Y_ts)):\n",
      "“Levels are not in the same order for reference and data. Refactoring data to match.”\n"
     ]
    },
    {
     "name": "stdout",
     "output_type": "stream",
     "text": [
      "Accuracy \n",
      "0.737963 \n"
     ]
    }
   ],
   "source": [
    "###################################\n",
    "###################################\n",
    "#            DISCLAIMER: ~8 min\n",
    "###################################\n",
    "###################################\n",
    "\n",
    "\n",
    "#nnet one hot as input labels\n",
    "\n",
    "CV_folds <- 5\n",
    "\n",
    "size_CV <-floor(N/CV_folds)\n",
    "\n",
    "\n",
    "for (i in 1:CV_folds) {\n",
    "    \n",
    "    idx_ts<-(((i-1)*size_CV+1):(i*size_CV))  ### idx_ts represents the indices of the test set the i-th fold\n",
    "    X_ts<-X_final[idx_ts,]  \n",
    "    Y_ts<-Y[idx_ts,]\n",
    "     \n",
    "    idx_tr<-setdiff(1:N,idx_ts) ### idx_tr represents  indices of the training sefor the i-th fold\n",
    "    X_tr<-X_final[idx_tr,]\n",
    "    Y_tr<-Y[idx_tr,]         \n",
    "        # Create a dataset including only the first nb_components principal components\n",
    "    DS<-cbind(X_tr,status_group=Y_tr)\n",
    "    DS$status_group<-factor(DS$status_group)\n",
    "\n",
    "    # Model fit (using lm function)\n",
    "    model<- nnet(x=X_tr,y=class.ind(as.factor(Y_tr)), size=5, maxit=1000, MaxNWts=2000,trace=FALSE)#1000 max iterations ?\n",
    "\n",
    "    # Model predict\n",
    "    Y_hat_nnet<- predict(model,X_ts)\n",
    "    Y_hat <- predict_transform(Y_hat_nnet)\n",
    "    acc_nnet <- confusionMatrix(as.factor(Y_hat),as.factor(Y_ts))$overall['Accuracy']\n",
    "    print(acc_nnet)\n",
    "} "
   ]
  },
  {
   "cell_type": "code",
   "execution_count": 35,
   "metadata": {},
   "outputs": [
    {
     "name": "stderr",
     "output_type": "stream",
     "text": [
      "Warning message in levels(reference) != levels(data):\n",
      "“la taille d'un objet plus long n'est pas multiple de la taille d'un objet plus court”\n",
      "Warning message in confusionMatrix.default(as.factor(Y_hat), as.factor(Y_ts)):\n",
      "“Levels are not in the same order for reference and data. Refactoring data to match.”\n"
     ]
    },
    {
     "data": {
      "text/plain": [
       "                         Reference\n",
       "Prediction                functional functional_needs_repair non_functional\n",
       "  functional                    6120                     756           1922\n",
       "  functional_needs_repair          0                       0              0\n",
       "  non_functional                 351                      84           2647"
      ]
     },
     "metadata": {},
     "output_type": "display_data"
    }
   ],
   "source": [
    "##########################\n",
    "#DO NOT RUN THIS CELL IF PRECEDING CELL NOT RUN\n",
    "\n",
    "Y_hat_nnet<- predict(model,X_ts)\n",
    "Y_hat <- predict_transform(Y_hat_nnet)\n",
    "confusionMatrix(as.factor(Y_hat),as.factor(Y_ts))$table"
   ]
  },
  {
   "cell_type": "markdown",
   "metadata": {},
   "source": [
    "Once again, the nnet doesn't predict the class 'functional_needs_repair' which would by definition limit the accuracy of the model and thus would not be optimal. Hopefully, the last model will perform better."
   ]
  },
  {
   "cell_type": "markdown",
   "metadata": {},
   "source": [
    "In conclusion, we can see that we do not particularly benefit from the PCA reduction since it doesn't really improve the computational time. Further more, the model training with the one-hot encoding as input labels perform equally tho others. We couldn't conclude that one input is better than an other"
   ]
  },
  {
   "cell_type": "markdown",
   "metadata": {},
   "source": [
    "## Model 3 - Random Forest\n",
    "\n",
    "The next model we'll evaluate is Breiman and Cutler's Random Forests for Classification and Regression, under the randomForest library. Random forest combines multiple decision trees which were trained individually on a different subset of samples and with different subset of randomly selected features. This random selection decorrelates the predictions of different trees. \n",
    "\n",
    "\n",
    "Firstly, we will estimate the number of trees yielding the best overall accuracy. We have to keep in mind that computational time is also a priority, so we'll decide the number of trees based on those two critierion. The next cell plots the accuracy per number of trees."
   ]
  },
  {
   "cell_type": "code",
   "execution_count": 36,
   "metadata": {},
   "outputs": [
    {
     "data": {
      "image/png": "[encoded data removed]",
      "text/plain": [
       "Plot with title “Number of trees influence”"
      ]
     },
     "metadata": {
      "image/png": {
       "height": 420,
       "width": 420
      }
     },
     "output_type": "display_data"
    }
   ],
   "source": [
    "###################################\n",
    "###################################\n",
    "#            DISCLAIMER: ~7 min\n",
    "###################################\n",
    "###################################\n",
    "\n",
    "n_trees <- 30\n",
    "\n",
    "accuracy_vec <- array(0,n_trees)\n",
    "\n",
    "idx_ts<-((3*size_CV+1):(4*size_CV))  ### idx_ts represents the indices of the test set the i-th fold\n",
    "X_ts<-X_final[idx_ts,]  \n",
    "Y_ts<-Y[idx_ts,]\n",
    "\n",
    "\n",
    "idx_tr<-setdiff(1:N,idx_ts) ### idx_tr represents  indices of the training sefor the i-th fold\n",
    "X_tr<-X_final[idx_tr,]\n",
    "Y_tr<-Y[idx_tr,]         \n",
    "    # Create a dataset including only the first nb_components principal components\n",
    "DS<-cbind(X_tr,status_group=Y_tr)\n",
    "DS$status_group<-factor(DS$status_group)\n",
    "\n",
    "for (i in 1:n_trees){\n",
    "    \n",
    "    nb_trees <- randomForest(status_group~.,data=DS,\n",
    "                          ntree=i)\n",
    "    \n",
    "    Y_hat_rf<- predict(nb_trees,X_ts)\n",
    "    acc_forest <- confusionMatrix(as.factor(Y_hat_rf),as.factor(Y_ts))$overall['Accuracy']\n",
    "    accuracy_vec[i] = acc_forest\n",
    "    }\n",
    "\n",
    "plot(accuracy_vec,main = \"Number of trees influence\",xlab = \"Nbr of trees\",ylab = \"Classification rate\")"
   ]
  },
  {
   "cell_type": "markdown",
   "metadata": {},
   "source": [
    "Looking at the global shape of the curve, it seems that a good number of trees could be around 15. That way we are close enough to the best accuray while gaining potentially a lot in computational time. \n",
    "\n",
    "The next cell applies the 5-fold cross validation on our randomForest, as input our PCA dataset. Note that the randomForest funciton returns labels, and not a \"one-hot\" probability encoding like the two preceding models, o the function predic_transform is not necessary in that case."
   ]
  },
  {
   "cell_type": "code",
   "execution_count": 98,
   "metadata": {},
   "outputs": [
    {
     "name": "stdout",
     "output_type": "stream",
     "text": [
      " Accuracy \n",
      "0.7823232 \n",
      " Accuracy \n",
      "0.7799663 \n",
      " Accuracy \n",
      "0.7830808 \n",
      " Accuracy \n",
      "0.7806397 \n",
      " Accuracy \n",
      "0.7822391 \n"
     ]
    }
   ],
   "source": [
    "###################################\n",
    "###################################\n",
    "#            DISCLAIMER: ~11 min\n",
    "###################################\n",
    "###################################\n",
    "\n",
    "\n",
    "#cross validation of random forest pca input\n",
    "\n",
    "CV_folds <- 5\n",
    "\n",
    "size_CV <-floor(N/CV_folds)\n",
    "\n",
    "for (i in 1:CV_folds) {\n",
    "    \n",
    "    idx_ts<-(((i-1)*size_CV+1):(i*size_CV))  ### idx_ts represents the indices of the test set the i-th fold\n",
    "    X_ts<-X_final[idx_ts,]  \n",
    "    Y_ts<-Y[idx_ts,]\n",
    "     \n",
    "    idx_tr<-setdiff(1:N,idx_ts) ### idx_tr represents  indices of the training sefor the i-th fold\n",
    "    X_tr<-X_final[idx_tr,]\n",
    "    Y_tr<-Y[idx_tr,]         \n",
    "        # Create a dataset including only the first nb_components principal components\n",
    "    DS<-cbind(X_tr,status_group=Y_tr)\n",
    "    DS$status_group<-factor(DS$status_group)\n",
    "                     \n",
    "    #randomForest\n",
    "    forest<- randomForest(status_group~.,data=DS, ntrees=15)\n",
    "\n",
    "    # Model predict\n",
    "    Y_hat_rf<- predict(forest,X_ts)\n",
    "    acc_forest <- confusionMatrix(as.factor(Y_hat_rf),as.factor(Y_ts))$overall['Accuracy']\n",
    "    print(acc_forest)\n",
    "} "
   ]
  },
  {
   "cell_type": "code",
   "execution_count": 37,
   "metadata": {},
   "outputs": [
    {
     "name": "stdout",
     "output_type": "stream",
     "text": [
      " Accuracy \n",
      "0.8005892 \n",
      " Accuracy \n",
      "0.7954545 \n",
      " Accuracy \n",
      "0.7987374 \n",
      " Accuracy \n",
      "0.7926768 \n",
      " Accuracy \n",
      "0.7975589 \n"
     ]
    }
   ],
   "source": [
    "###################################\n",
    "###################################\n",
    "#            DISCLAIMER: ~24 min\n",
    "###################################\n",
    "###################################\n",
    "\n",
    "\n",
    "#cross validation of random forest with original dataset\n",
    "\n",
    "CV_folds <- 5\n",
    "\n",
    "size_CV <-floor(N/CV_folds)\n",
    "\n",
    "for (i in 1:CV_folds) {\n",
    "    \n",
    "    idx_ts<-(((i-1)*size_CV+1):(i*size_CV))  ### idx_ts represents the indices of the test set the i-th fold\n",
    "    X_ts<-X_onehot[idx_ts,]  \n",
    "    Y_ts<-Y[idx_ts,]\n",
    "     \n",
    "    idx_tr<-setdiff(1:N,idx_ts) ### idx_tr represents  indices of the training sefor the i-th fold\n",
    "    X_tr<-X_onehot[idx_tr,]\n",
    "    Y_tr<-Y[idx_tr,]         \n",
    "        # Create a dataset including only the first nb_components principal components\n",
    "    DS<-cbind(X_tr,status_group=Y_tr)\n",
    "    DS$status_group<-factor(DS$status_group)\n",
    "                     \n",
    "    #randomForest\n",
    "    forest<- randomForest(status_group~.,data=DS, ntrees=15)\n",
    "\n",
    "    # Model predict\n",
    "    Y_hat_rf<- predict(forest,X_ts)\n",
    "    acc_forest <- confusionMatrix(as.factor(Y_hat_rf),as.factor(Y_ts))$overall['Accuracy']\n",
    "    print(acc_forest)\n",
    "} "
   ]
  },
  {
   "cell_type": "markdown",
   "metadata": {},
   "source": [
    "Comparing the 2 training procedures, we can see a 1.5% improvement in accuracy when giving the original dataset rather than the PCA reduced one. But this improvement comes with a computational cost, and a rather big one. The training time taken is more than twice the time taken for the model taking PCA as input. If the accuracy is an absolute priotrity, then training with the original dataset is preferable."
   ]
  },
  {
   "cell_type": "markdown",
   "metadata": {},
   "source": [
    "# Alternative models\n",
    "\n",
    "## XGBoost\n",
    "\n"
   ]
  },
  {
   "cell_type": "markdown",
   "metadata": {},
   "source": [
    "As an alternative model, we decided to use a XGBoost model as it is a very popular model in Machine\n",
    "Learning. XGBoost stands for Extreme Gradient Boosting and is a tree based ensemble machine learning algorithm. Its main advantages are that the execution speed is better than other boosting algorithms and its performance are great.\n",
    "It requires to encode the classes in our label set starting from 0, which is what we do below."
   ]
  },
  {
   "cell_type": "code",
   "execution_count": 44,
   "metadata": {},
   "outputs": [],
   "source": [
    "# XGBoost requires the classes to be in integer format, starting with 0.\n",
    "set_labels$status_group[set_labels$status_group == 'functional']<-0\n",
    "set_labels$status_group[set_labels$status_group == 'functional needs repair']<-1\n",
    "set_labels$status_group[set_labels$status_group == 'non functional']<-2\n",
    "set_labels$status_group<-factor(set_labels$status_group)\n",
    "\n",
    "num_class = length(levels(set_labels$status_group))\n",
    "states = set_labels$status_group\n",
    "\n",
    "label = as.integer(states)-1"
   ]
  },
  {
   "cell_type": "markdown",
   "metadata": {},
   "source": [
    "We split the dataset in a training (75%) and testing (25%) set. We apply it on the datasets where we used PCA and the other without PCA to see the impact of the preprocessing phase."
   ]
  },
  {
   "cell_type": "code",
   "execution_count": 45,
   "metadata": {},
   "outputs": [
    {
     "data": {
      "text/html": [
       "<table class=\"dataframe\">\n",
       "<caption>A matrix: 6 × 67 of type dbl</caption>\n",
       "<thead>\n",
       "\t<tr><th></th><th scope=col>PC1</th><th scope=col>PC2</th><th scope=col>PC3</th><th scope=col>PC4</th><th scope=col>PC5</th><th scope=col>PC6</th><th scope=col>PC7</th><th scope=col>PC8</th><th scope=col>PC9</th><th scope=col>PC10</th><th scope=col>⋯</th><th scope=col>PC58</th><th scope=col>PC59</th><th scope=col>PC60</th><th scope=col>PC61</th><th scope=col>PC62</th><th scope=col>PC63</th><th scope=col>PC64</th><th scope=col>PC65</th><th scope=col>PC66</th><th scope=col>PC67</th></tr>\n",
       "</thead>\n",
       "<tbody>\n",
       "\t<tr><th scope=row>1709</th><td> 1.946224</td><td>-2.0255811</td><td>-5.1571751</td><td>-1.01084927</td><td>-1.0778916</td><td>-1.67306763</td><td>-2.7151621</td><td> 0.03048211</td><td>-3.2678669</td><td> 0.7968864</td><td>⋯</td><td>-0.47971439</td><td> 1.03559848</td><td>-1.62867042</td><td> 0.5317010</td><td>-1.54314343</td><td>-1.21112347</td><td> 0.39344705</td><td>-0.2555068</td><td>-0.1236431</td><td>-0.9798515</td></tr>\n",
       "\t<tr><th scope=row>50188</th><td> 2.598294</td><td> 0.4353866</td><td>-9.9613081</td><td> 1.66921432</td><td>-0.9495155</td><td> 6.43426392</td><td> 1.9678903</td><td> 1.68166760</td><td> 5.0588000</td><td> 0.7485742</td><td>⋯</td><td> 0.17548172</td><td>-0.03007113</td><td>-0.02794110</td><td> 0.1433873</td><td>-0.05891811</td><td>-0.18820962</td><td>-0.09130097</td><td> 0.6556927</td><td> 1.2260725</td><td> 0.3292472</td></tr>\n",
       "\t<tr><th scope=row>54233</th><td>-2.882801</td><td> 2.3359242</td><td> 0.8291524</td><td>-2.55023045</td><td> 1.2493336</td><td>-1.17731491</td><td> 0.5101361</td><td> 0.26908088</td><td> 0.7414213</td><td>-1.1334254</td><td>⋯</td><td>-0.09719375</td><td>-0.07759184</td><td>-0.12053855</td><td> 0.5436816</td><td>-0.89126413</td><td> 0.76608538</td><td> 0.28027438</td><td>-0.8505393</td><td> 1.2077240</td><td> 0.4174433</td></tr>\n",
       "\t<tr><th scope=row>50878</th><td>-1.070107</td><td>-4.7725262</td><td> 2.8640075</td><td> 0.03106349</td><td> 0.5891541</td><td> 5.70599053</td><td>-2.9674096</td><td> 1.33067731</td><td>-1.3059530</td><td>-3.6801855</td><td>⋯</td><td> 0.97977865</td><td> 0.11665932</td><td>-0.19320279</td><td> 0.1616962</td><td> 0.34782810</td><td>-0.02751999</td><td>-1.53013884</td><td>-0.7295312</td><td> 1.0001748</td><td>-1.0587042</td></tr>\n",
       "\t<tr><th scope=row>15308</th><td> 2.320043</td><td> 0.2082470</td><td> 3.0685964</td><td> 1.55733376</td><td> 0.2857620</td><td> 0.01762214</td><td> 1.7022680</td><td> 1.33541404</td><td> 1.4684207</td><td>-0.6003030</td><td>⋯</td><td>-0.71130098</td><td> 0.11940781</td><td> 0.07838428</td><td> 0.3550993</td><td>-0.02141224</td><td> 0.43775093</td><td> 0.93471821</td><td> 0.4765754</td><td>-0.5600379</td><td>-1.0518840</td></tr>\n",
       "\t<tr><th scope=row>34977</th><td> 4.622356</td><td>-0.3735790</td><td>-0.9020669</td><td>-0.34995715</td><td>-7.0285446</td><td>-2.73375379</td><td> 0.1206752</td><td>-0.44911914</td><td>-0.2549334</td><td>-2.3386766</td><td>⋯</td><td> 0.24036320</td><td> 0.17271665</td><td>-0.13650546</td><td>-0.1702353</td><td> 0.78252282</td><td>-0.05315457</td><td>-0.56840463</td><td> 0.1562910</td><td>-0.3539390</td><td> 0.2408247</td></tr>\n",
       "</tbody>\n",
       "</table>\n"
      ],
      "text/latex": [
       "A matrix: 6 × 67 of type dbl\n",
       "\\begin{tabular}{r|lllllllllllllllllllll}\n",
       "  & PC1 & PC2 & PC3 & PC4 & PC5 & PC6 & PC7 & PC8 & PC9 & PC10 & ⋯ & PC58 & PC59 & PC60 & PC61 & PC62 & PC63 & PC64 & PC65 & PC66 & PC67\\\\\n",
       "\\hline\n",
       "\t1709 &  1.946224 & -2.0255811 & -5.1571751 & -1.01084927 & -1.0778916 & -1.67306763 & -2.7151621 &  0.03048211 & -3.2678669 &  0.7968864 & ⋯ & -0.47971439 &  1.03559848 & -1.62867042 &  0.5317010 & -1.54314343 & -1.21112347 &  0.39344705 & -0.2555068 & -0.1236431 & -0.9798515\\\\\n",
       "\t50188 &  2.598294 &  0.4353866 & -9.9613081 &  1.66921432 & -0.9495155 &  6.43426392 &  1.9678903 &  1.68166760 &  5.0588000 &  0.7485742 & ⋯ &  0.17548172 & -0.03007113 & -0.02794110 &  0.1433873 & -0.05891811 & -0.18820962 & -0.09130097 &  0.6556927 &  1.2260725 &  0.3292472\\\\\n",
       "\t54233 & -2.882801 &  2.3359242 &  0.8291524 & -2.55023045 &  1.2493336 & -1.17731491 &  0.5101361 &  0.26908088 &  0.7414213 & -1.1334254 & ⋯ & -0.09719375 & -0.07759184 & -0.12053855 &  0.5436816 & -0.89126413 &  0.76608538 &  0.28027438 & -0.8505393 &  1.2077240 &  0.4174433\\\\\n",
       "\t50878 & -1.070107 & -4.7725262 &  2.8640075 &  0.03106349 &  0.5891541 &  5.70599053 & -2.9674096 &  1.33067731 & -1.3059530 & -3.6801855 & ⋯ &  0.97977865 &  0.11665932 & -0.19320279 &  0.1616962 &  0.34782810 & -0.02751999 & -1.53013884 & -0.7295312 &  1.0001748 & -1.0587042\\\\\n",
       "\t15308 &  2.320043 &  0.2082470 &  3.0685964 &  1.55733376 &  0.2857620 &  0.01762214 &  1.7022680 &  1.33541404 &  1.4684207 & -0.6003030 & ⋯ & -0.71130098 &  0.11940781 &  0.07838428 &  0.3550993 & -0.02141224 &  0.43775093 &  0.93471821 &  0.4765754 & -0.5600379 & -1.0518840\\\\\n",
       "\t34977 &  4.622356 & -0.3735790 & -0.9020669 & -0.34995715 & -7.0285446 & -2.73375379 &  0.1206752 & -0.44911914 & -0.2549334 & -2.3386766 & ⋯ &  0.24036320 &  0.17271665 & -0.13650546 & -0.1702353 &  0.78252282 & -0.05315457 & -0.56840463 &  0.1562910 & -0.3539390 &  0.2408247\\\\\n",
       "\\end{tabular}\n"
      ],
      "text/markdown": [
       "\n",
       "A matrix: 6 × 67 of type dbl\n",
       "\n",
       "| <!--/--> | PC1 | PC2 | PC3 | PC4 | PC5 | PC6 | PC7 | PC8 | PC9 | PC10 | ⋯ | PC58 | PC59 | PC60 | PC61 | PC62 | PC63 | PC64 | PC65 | PC66 | PC67 |\n",
       "|---|---|---|---|---|---|---|---|---|---|---|---|---|---|---|---|---|---|---|---|---|---|\n",
       "| 1709 |  1.946224 | -2.0255811 | -5.1571751 | -1.01084927 | -1.0778916 | -1.67306763 | -2.7151621 |  0.03048211 | -3.2678669 |  0.7968864 | ⋯ | -0.47971439 |  1.03559848 | -1.62867042 |  0.5317010 | -1.54314343 | -1.21112347 |  0.39344705 | -0.2555068 | -0.1236431 | -0.9798515 |\n",
       "| 50188 |  2.598294 |  0.4353866 | -9.9613081 |  1.66921432 | -0.9495155 |  6.43426392 |  1.9678903 |  1.68166760 |  5.0588000 |  0.7485742 | ⋯ |  0.17548172 | -0.03007113 | -0.02794110 |  0.1433873 | -0.05891811 | -0.18820962 | -0.09130097 |  0.6556927 |  1.2260725 |  0.3292472 |\n",
       "| 54233 | -2.882801 |  2.3359242 |  0.8291524 | -2.55023045 |  1.2493336 | -1.17731491 |  0.5101361 |  0.26908088 |  0.7414213 | -1.1334254 | ⋯ | -0.09719375 | -0.07759184 | -0.12053855 |  0.5436816 | -0.89126413 |  0.76608538 |  0.28027438 | -0.8505393 |  1.2077240 |  0.4174433 |\n",
       "| 50878 | -1.070107 | -4.7725262 |  2.8640075 |  0.03106349 |  0.5891541 |  5.70599053 | -2.9674096 |  1.33067731 | -1.3059530 | -3.6801855 | ⋯ |  0.97977865 |  0.11665932 | -0.19320279 |  0.1616962 |  0.34782810 | -0.02751999 | -1.53013884 | -0.7295312 |  1.0001748 | -1.0587042 |\n",
       "| 15308 |  2.320043 |  0.2082470 |  3.0685964 |  1.55733376 |  0.2857620 |  0.01762214 |  1.7022680 |  1.33541404 |  1.4684207 | -0.6003030 | ⋯ | -0.71130098 |  0.11940781 |  0.07838428 |  0.3550993 | -0.02141224 |  0.43775093 |  0.93471821 |  0.4765754 | -0.5600379 | -1.0518840 |\n",
       "| 34977 |  4.622356 | -0.3735790 | -0.9020669 | -0.34995715 | -7.0285446 | -2.73375379 |  0.1206752 | -0.44911914 | -0.2549334 | -2.3386766 | ⋯ |  0.24036320 |  0.17271665 | -0.13650546 | -0.1702353 |  0.78252282 | -0.05315457 | -0.56840463 |  0.1562910 | -0.3539390 |  0.2408247 |\n",
       "\n"
      ],
      "text/plain": [
       "      PC1       PC2        PC3        PC4         PC5        PC6        \n",
       "1709   1.946224 -2.0255811 -5.1571751 -1.01084927 -1.0778916 -1.67306763\n",
       "50188  2.598294  0.4353866 -9.9613081  1.66921432 -0.9495155  6.43426392\n",
       "54233 -2.882801  2.3359242  0.8291524 -2.55023045  1.2493336 -1.17731491\n",
       "50878 -1.070107 -4.7725262  2.8640075  0.03106349  0.5891541  5.70599053\n",
       "15308  2.320043  0.2082470  3.0685964  1.55733376  0.2857620  0.01762214\n",
       "34977  4.622356 -0.3735790 -0.9020669 -0.34995715 -7.0285446 -2.73375379\n",
       "      PC7        PC8         PC9        PC10       ⋯ PC58        PC59       \n",
       "1709  -2.7151621  0.03048211 -3.2678669  0.7968864 ⋯ -0.47971439  1.03559848\n",
       "50188  1.9678903  1.68166760  5.0588000  0.7485742 ⋯  0.17548172 -0.03007113\n",
       "54233  0.5101361  0.26908088  0.7414213 -1.1334254 ⋯ -0.09719375 -0.07759184\n",
       "50878 -2.9674096  1.33067731 -1.3059530 -3.6801855 ⋯  0.97977865  0.11665932\n",
       "15308  1.7022680  1.33541404  1.4684207 -0.6003030 ⋯ -0.71130098  0.11940781\n",
       "34977  0.1206752 -0.44911914 -0.2549334 -2.3386766 ⋯  0.24036320  0.17271665\n",
       "      PC60        PC61       PC62        PC63        PC64        PC65      \n",
       "1709  -1.62867042  0.5317010 -1.54314343 -1.21112347  0.39344705 -0.2555068\n",
       "50188 -0.02794110  0.1433873 -0.05891811 -0.18820962 -0.09130097  0.6556927\n",
       "54233 -0.12053855  0.5436816 -0.89126413  0.76608538  0.28027438 -0.8505393\n",
       "50878 -0.19320279  0.1616962  0.34782810 -0.02751999 -1.53013884 -0.7295312\n",
       "15308  0.07838428  0.3550993 -0.02141224  0.43775093  0.93471821  0.4765754\n",
       "34977 -0.13650546 -0.1702353  0.78252282 -0.05315457 -0.56840463  0.1562910\n",
       "      PC66       PC67      \n",
       "1709  -0.1236431 -0.9798515\n",
       "50188  1.2260725  0.3292472\n",
       "54233  1.2077240  0.4174433\n",
       "50878  1.0001748 -1.0587042\n",
       "15308 -0.5600379 -1.0518840\n",
       "34977 -0.3539390  0.2408247"
      ]
     },
     "metadata": {},
     "output_type": "display_data"
    },
    {
     "data": {
      "text/html": [
       "<style>\n",
       ".list-inline {list-style: none; margin:0; padding: 0}\n",
       ".list-inline>li {display: inline-block}\n",
       ".list-inline>li:not(:last-child)::after {content: \"\\00b7\"; padding: 0 .5ex}\n",
       "</style>\n",
       "<ol class=list-inline><li>0</li><li>1</li><li>0</li><li>2</li><li>2</li><li>0</li></ol>\n"
      ],
      "text/latex": [
       "\\begin{enumerate*}\n",
       "\\item 0\n",
       "\\item 1\n",
       "\\item 0\n",
       "\\item 2\n",
       "\\item 2\n",
       "\\item 0\n",
       "\\end{enumerate*}\n"
      ],
      "text/markdown": [
       "1. 0\n",
       "2. 1\n",
       "3. 0\n",
       "4. 2\n",
       "5. 2\n",
       "6. 0\n",
       "\n",
       "\n"
      ],
      "text/plain": [
       "[1] 0 1 0 2 2 0"
      ]
     },
     "metadata": {},
     "output_type": "display_data"
    }
   ],
   "source": [
    "# data set is split for training (75%) and testing (25%)\n",
    "n = nrow(X_final)\n",
    "\n",
    "# training data set is used to fit the model\n",
    "train.index = sample(n,floor(0.75*n))\n",
    "train.data = as.matrix(X_final[train.index,])\n",
    "head(train.data)\n",
    "train.label = label[train.index]\n",
    "head(train.label)\n",
    "#  testing data set is held out for validation\n",
    "test.data = as.matrix(X_final[-train.index,])\n",
    "test.label = label[-train.index]\n"
   ]
  },
  {
   "cell_type": "code",
   "execution_count": 46,
   "metadata": {},
   "outputs": [
    {
     "data": {
      "text/html": [
       "<table class=\"dataframe\">\n",
       "<caption>A matrix: 6 × 158 of type dbl</caption>\n",
       "<thead>\n",
       "\t<tr><th></th><th scope=col>amount_tsh</th><th scope=col>gps_height</th><th scope=col>longitude</th><th scope=col>latitude</th><th scope=col>basin_Internal</th><th scope=col>basin_Lake.Nyasa</th><th scope=col>basin_Lake.Rukwa</th><th scope=col>basin_Lake.Tanganyika</th><th scope=col>basin_Lake.Victoria</th><th scope=col>basin_Pangani</th><th scope=col>⋯</th><th scope=col>source_class_groundwater</th><th scope=col>source_class_surface</th><th scope=col>source_class_unknown</th><th scope=col>waterpoint_type_cattle.trough</th><th scope=col>waterpoint_type_communal.standpipe</th><th scope=col>waterpoint_type_communal.standpipe.multiple</th><th scope=col>waterpoint_type_dam</th><th scope=col>waterpoint_type_hand.pump</th><th scope=col>waterpoint_type_improved.spring</th><th scope=col>waterpoint_type_other</th></tr>\n",
       "</thead>\n",
       "<tbody>\n",
       "\t<tr><th scope=row>21834</th><td>  0</td><td>   0</td><td>33.54535</td><td>-9.162204</td><td>0</td><td>1</td><td>0</td><td>0</td><td>0</td><td>0</td><td>⋯</td><td>1</td><td>0</td><td>0</td><td>0</td><td>1</td><td>0</td><td>0</td><td>0</td><td>0</td><td>0</td></tr>\n",
       "\t<tr><th scope=row>18898</th><td>  0</td><td>   0</td><td>31.74125</td><td>-1.613649</td><td>0</td><td>0</td><td>0</td><td>0</td><td>1</td><td>0</td><td>⋯</td><td>1</td><td>0</td><td>0</td><td>0</td><td>0</td><td>0</td><td>0</td><td>0</td><td>1</td><td>0</td></tr>\n",
       "\t<tr><th scope=row>21428</th><td>  0</td><td>1302</td><td>30.84889</td><td>-3.411914</td><td>0</td><td>0</td><td>0</td><td>1</td><td>0</td><td>0</td><td>⋯</td><td>1</td><td>0</td><td>0</td><td>0</td><td>0</td><td>0</td><td>0</td><td>0</td><td>1</td><td>0</td></tr>\n",
       "\t<tr><th scope=row>30670</th><td>  0</td><td>   0</td><td>32.31199</td><td>-4.705580</td><td>0</td><td>0</td><td>0</td><td>1</td><td>0</td><td>0</td><td>⋯</td><td>1</td><td>0</td><td>0</td><td>0</td><td>0</td><td>0</td><td>0</td><td>1</td><td>0</td><td>0</td></tr>\n",
       "\t<tr><th scope=row>55884</th><td>500</td><td> 304</td><td>36.99287</td><td>-7.602332</td><td>0</td><td>0</td><td>0</td><td>0</td><td>0</td><td>0</td><td>⋯</td><td>1</td><td>0</td><td>0</td><td>0</td><td>0</td><td>0</td><td>0</td><td>1</td><td>0</td><td>0</td></tr>\n",
       "\t<tr><th scope=row>27543</th><td>  0</td><td>1306</td><td>30.85245</td><td>-3.272095</td><td>0</td><td>0</td><td>0</td><td>1</td><td>0</td><td>0</td><td>⋯</td><td>1</td><td>0</td><td>0</td><td>0</td><td>0</td><td>0</td><td>0</td><td>1</td><td>0</td><td>0</td></tr>\n",
       "</tbody>\n",
       "</table>\n"
      ],
      "text/latex": [
       "A matrix: 6 × 158 of type dbl\n",
       "\\begin{tabular}{r|lllllllllllllllllllll}\n",
       "  & amount\\_tsh & gps\\_height & longitude & latitude & basin\\_Internal & basin\\_Lake.Nyasa & basin\\_Lake.Rukwa & basin\\_Lake.Tanganyika & basin\\_Lake.Victoria & basin\\_Pangani & ⋯ & source\\_class\\_groundwater & source\\_class\\_surface & source\\_class\\_unknown & waterpoint\\_type\\_cattle.trough & waterpoint\\_type\\_communal.standpipe & waterpoint\\_type\\_communal.standpipe.multiple & waterpoint\\_type\\_dam & waterpoint\\_type\\_hand.pump & waterpoint\\_type\\_improved.spring & waterpoint\\_type\\_other\\\\\n",
       "\\hline\n",
       "\t21834 &   0 &    0 & 33.54535 & -9.162204 & 0 & 1 & 0 & 0 & 0 & 0 & ⋯ & 1 & 0 & 0 & 0 & 1 & 0 & 0 & 0 & 0 & 0\\\\\n",
       "\t18898 &   0 &    0 & 31.74125 & -1.613649 & 0 & 0 & 0 & 0 & 1 & 0 & ⋯ & 1 & 0 & 0 & 0 & 0 & 0 & 0 & 0 & 1 & 0\\\\\n",
       "\t21428 &   0 & 1302 & 30.84889 & -3.411914 & 0 & 0 & 0 & 1 & 0 & 0 & ⋯ & 1 & 0 & 0 & 0 & 0 & 0 & 0 & 0 & 1 & 0\\\\\n",
       "\t30670 &   0 &    0 & 32.31199 & -4.705580 & 0 & 0 & 0 & 1 & 0 & 0 & ⋯ & 1 & 0 & 0 & 0 & 0 & 0 & 0 & 1 & 0 & 0\\\\\n",
       "\t55884 & 500 &  304 & 36.99287 & -7.602332 & 0 & 0 & 0 & 0 & 0 & 0 & ⋯ & 1 & 0 & 0 & 0 & 0 & 0 & 0 & 1 & 0 & 0\\\\\n",
       "\t27543 &   0 & 1306 & 30.85245 & -3.272095 & 0 & 0 & 0 & 1 & 0 & 0 & ⋯ & 1 & 0 & 0 & 0 & 0 & 0 & 0 & 1 & 0 & 0\\\\\n",
       "\\end{tabular}\n"
      ],
      "text/markdown": [
       "\n",
       "A matrix: 6 × 158 of type dbl\n",
       "\n",
       "| <!--/--> | amount_tsh | gps_height | longitude | latitude | basin_Internal | basin_Lake.Nyasa | basin_Lake.Rukwa | basin_Lake.Tanganyika | basin_Lake.Victoria | basin_Pangani | ⋯ | source_class_groundwater | source_class_surface | source_class_unknown | waterpoint_type_cattle.trough | waterpoint_type_communal.standpipe | waterpoint_type_communal.standpipe.multiple | waterpoint_type_dam | waterpoint_type_hand.pump | waterpoint_type_improved.spring | waterpoint_type_other |\n",
       "|---|---|---|---|---|---|---|---|---|---|---|---|---|---|---|---|---|---|---|---|---|---|\n",
       "| 21834 |   0 |    0 | 33.54535 | -9.162204 | 0 | 1 | 0 | 0 | 0 | 0 | ⋯ | 1 | 0 | 0 | 0 | 1 | 0 | 0 | 0 | 0 | 0 |\n",
       "| 18898 |   0 |    0 | 31.74125 | -1.613649 | 0 | 0 | 0 | 0 | 1 | 0 | ⋯ | 1 | 0 | 0 | 0 | 0 | 0 | 0 | 0 | 1 | 0 |\n",
       "| 21428 |   0 | 1302 | 30.84889 | -3.411914 | 0 | 0 | 0 | 1 | 0 | 0 | ⋯ | 1 | 0 | 0 | 0 | 0 | 0 | 0 | 0 | 1 | 0 |\n",
       "| 30670 |   0 |    0 | 32.31199 | -4.705580 | 0 | 0 | 0 | 1 | 0 | 0 | ⋯ | 1 | 0 | 0 | 0 | 0 | 0 | 0 | 1 | 0 | 0 |\n",
       "| 55884 | 500 |  304 | 36.99287 | -7.602332 | 0 | 0 | 0 | 0 | 0 | 0 | ⋯ | 1 | 0 | 0 | 0 | 0 | 0 | 0 | 1 | 0 | 0 |\n",
       "| 27543 |   0 | 1306 | 30.85245 | -3.272095 | 0 | 0 | 0 | 1 | 0 | 0 | ⋯ | 1 | 0 | 0 | 0 | 0 | 0 | 0 | 1 | 0 | 0 |\n",
       "\n"
      ],
      "text/plain": [
       "      amount_tsh gps_height longitude latitude  basin_Internal basin_Lake.Nyasa\n",
       "21834   0           0       33.54535  -9.162204 0              1               \n",
       "18898   0           0       31.74125  -1.613649 0              0               \n",
       "21428   0        1302       30.84889  -3.411914 0              0               \n",
       "30670   0           0       32.31199  -4.705580 0              0               \n",
       "55884 500         304       36.99287  -7.602332 0              0               \n",
       "27543   0        1306       30.85245  -3.272095 0              0               \n",
       "      basin_Lake.Rukwa basin_Lake.Tanganyika basin_Lake.Victoria basin_Pangani\n",
       "21834 0                0                     0                   0            \n",
       "18898 0                0                     1                   0            \n",
       "21428 0                1                     0                   0            \n",
       "30670 0                1                     0                   0            \n",
       "55884 0                0                     0                   0            \n",
       "27543 0                1                     0                   0            \n",
       "      ⋯ source_class_groundwater source_class_surface source_class_unknown\n",
       "21834 ⋯ 1                        0                    0                   \n",
       "18898 ⋯ 1                        0                    0                   \n",
       "21428 ⋯ 1                        0                    0                   \n",
       "30670 ⋯ 1                        0                    0                   \n",
       "55884 ⋯ 1                        0                    0                   \n",
       "27543 ⋯ 1                        0                    0                   \n",
       "      waterpoint_type_cattle.trough waterpoint_type_communal.standpipe\n",
       "21834 0                             1                                 \n",
       "18898 0                             0                                 \n",
       "21428 0                             0                                 \n",
       "30670 0                             0                                 \n",
       "55884 0                             0                                 \n",
       "27543 0                             0                                 \n",
       "      waterpoint_type_communal.standpipe.multiple waterpoint_type_dam\n",
       "21834 0                                           0                  \n",
       "18898 0                                           0                  \n",
       "21428 0                                           0                  \n",
       "30670 0                                           0                  \n",
       "55884 0                                           0                  \n",
       "27543 0                                           0                  \n",
       "      waterpoint_type_hand.pump waterpoint_type_improved.spring\n",
       "21834 0                         0                              \n",
       "18898 0                         1                              \n",
       "21428 0                         1                              \n",
       "30670 1                         0                              \n",
       "55884 1                         0                              \n",
       "27543 1                         0                              \n",
       "      waterpoint_type_other\n",
       "21834 0                    \n",
       "18898 0                    \n",
       "21428 0                    \n",
       "30670 0                    \n",
       "55884 0                    \n",
       "27543 0                    "
      ]
     },
     "metadata": {},
     "output_type": "display_data"
    },
    {
     "data": {
      "text/html": [
       "<style>\n",
       ".list-inline {list-style: none; margin:0; padding: 0}\n",
       ".list-inline>li {display: inline-block}\n",
       ".list-inline>li:not(:last-child)::after {content: \"\\00b7\"; padding: 0 .5ex}\n",
       "</style>\n",
       "<ol class=list-inline><li>0</li><li>0</li><li>0</li><li>2</li><li>0</li><li>2</li></ol>\n"
      ],
      "text/latex": [
       "\\begin{enumerate*}\n",
       "\\item 0\n",
       "\\item 0\n",
       "\\item 0\n",
       "\\item 2\n",
       "\\item 0\n",
       "\\item 2\n",
       "\\end{enumerate*}\n"
      ],
      "text/markdown": [
       "1. 0\n",
       "2. 0\n",
       "3. 0\n",
       "4. 2\n",
       "5. 0\n",
       "6. 2\n",
       "\n",
       "\n"
      ],
      "text/plain": [
       "[1] 0 0 0 2 0 2"
      ]
     },
     "metadata": {},
     "output_type": "display_data"
    },
    {
     "data": {
      "text/html": [
       "<style>\n",
       ".list-inline {list-style: none; margin:0; padding: 0}\n",
       ".list-inline>li {display: inline-block}\n",
       ".list-inline>li:not(:last-child)::after {content: \"\\00b7\"; padding: 0 .5ex}\n",
       "</style>\n",
       "<ol class=list-inline><li>0</li><li>0</li><li>2</li><li>2</li><li>1</li><li>1</li></ol>\n"
      ],
      "text/latex": [
       "\\begin{enumerate*}\n",
       "\\item 0\n",
       "\\item 0\n",
       "\\item 2\n",
       "\\item 2\n",
       "\\item 1\n",
       "\\item 1\n",
       "\\end{enumerate*}\n"
      ],
      "text/markdown": [
       "1. 0\n",
       "2. 0\n",
       "3. 2\n",
       "4. 2\n",
       "5. 1\n",
       "6. 1\n",
       "\n",
       "\n"
      ],
      "text/plain": [
       "[1] 0 0 2 2 1 1"
      ]
     },
     "metadata": {},
     "output_type": "display_data"
    }
   ],
   "source": [
    "# data set is split for training (75%) and testing (25%)\n",
    "n = nrow(X_final)\n",
    "\n",
    "# training data set is used to fit the model\n",
    "train_nopca.index = sample(n,floor(0.75*n))\n",
    "train_nopca.data = as.matrix(X_onehot[train_nopca.index,])\n",
    "head(train_nopca.data)\n",
    "train_nopca.label = label[train_nopca.index]\n",
    "head(train_nopca.label)\n",
    "#  testing data set is held out for validation\n",
    "test_nopca.data = as.matrix(X_onehot[-train_nopca.index,])\n",
    "test_nopca.label = label[-train_nopca.index]\n",
    "head(test_nopca.label)"
   ]
  },
  {
   "cell_type": "code",
   "execution_count": 47,
   "metadata": {},
   "outputs": [],
   "source": [
    "# DMatrix objects that are used for fitting the XGBoost model and predicting new outcomes\n",
    "xgb.train = xgb.DMatrix(data=train.data,label=train.label)\n",
    "xgb.test = xgb.DMatrix(data=test.data,label=test.label)"
   ]
  },
  {
   "cell_type": "code",
   "execution_count": 48,
   "metadata": {},
   "outputs": [],
   "source": [
    "xgb_nopca.train = xgb.DMatrix(data=train_nopca.data,label=train_nopca.label)\n",
    "xgb_nopca.test = xgb.DMatrix(data=test_nopca.data,label=test_nopca.label)"
   ]
  },
  {
   "cell_type": "markdown",
   "metadata": {},
   "source": [
    "XGBoost works best when its parameters are hypertuned for optimal performance.\n",
    "Here, found the parameters to be optimal through simple tests, changing one parameter at a time. The parameter eta is the step size of each boosting step. The max.depth is the maximum depth of the tree. Gamma is the minimum loss reduction required to make a further partition on a leaf node of the tree.\n",
    "The objective parameter multi:softprob tells the algorithm to calculate probabilities for every possible outcome\n",
    "(in this case, a probability for each of the three states of water pumps), for every observation.\n",
    "The parameter eval_metric mlogloss tells the XGBoost algorithm that we want to use a multiclass logloss as our evaluation metric.\n"
   ]
  },
  {
   "cell_type": "code",
   "execution_count": 49,
   "metadata": {
    "scrolled": true
   },
   "outputs": [],
   "source": [
    "# Define the parameters for multinomial classification\n",
    "num_class = length(levels(states))\n",
    "params = list(\n",
    "  booster=\"gbtree\",\n",
    "  eta=0.3,\n",
    "  max_depth=8,\n",
    "  gamma=0,\n",
    "  subsample=0.75,\n",
    "  colsample_bytree=1,\n",
    "  objective=\"multi:softprob\",\n",
    "  eval_metric=\"mlogloss\",\n",
    "  num_class=num_class\n",
    ")"
   ]
  },
  {
   "cell_type": "markdown",
   "metadata": {},
   "source": [
    "We use the cross validation to asses the error rate because if we rely on one simple training and validation set, the results can be vastly different depending on the split of the data chosen."
   ]
  },
  {
   "cell_type": "code",
   "execution_count": 52,
   "metadata": {
    "scrolled": true
   },
   "outputs": [],
   "source": [
    "###################################\n",
    "###################################\n",
    "#            DISCLAIMER: ~8 min\n",
    "###################################\n",
    "###################################\n",
    "\n",
    "\n",
    "#PCA input\n",
    "\n",
    "cv.nfold  <- 5 # cv.nfold value here is arbitrary chosen. The number of cv.nfold will typically be 5 or 10\n",
    "\n",
    "\n",
    "cv_model <- xgb.cv(params = params,\n",
    "                   data = xgb.train,\n",
    "                   nrounds = 100,\n",
    "                   nfold = cv.nfold,\n",
    "                   verbose = FALSE,\n",
    "                   nthread=1,\n",
    "                   early_stopping_rounds=30,\n",
    "                   prediction = TRUE)\n",
    "\n"
   ]
  },
  {
   "cell_type": "code",
   "execution_count": 53,
   "metadata": {
    "scrolled": true
   },
   "outputs": [],
   "source": [
    "###################################\n",
    "###################################\n",
    "#            DISCLAIMER: ~8 min\n",
    "###################################\n",
    "###################################\n",
    "\n",
    "#No PCA\n",
    "\n",
    "cv_nopca_model <- xgb.cv(params = params,\n",
    "                   data = xgb_nopca.train,\n",
    "                   nrounds = 100,\n",
    "                   nfold = cv.nfold,\n",
    "                   verbose = FALSE,\n",
    "                   nthread=1,\n",
    "                   early_stopping_rounds=30,\n",
    "                   prediction = TRUE)"
   ]
  },
  {
   "cell_type": "markdown",
   "metadata": {},
   "source": [
    "The pred object contains the predicted value for each observation in our train dataset\n",
    "To test the prediction, we need to assign a class, which is why we use max.col() to assign the class that has the highest probability. "
   ]
  },
  {
   "cell_type": "code",
   "execution_count": 54,
   "metadata": {},
   "outputs": [
    {
     "data": {
      "text/html": [
       "<table class=\"dataframe\">\n",
       "<caption>A data.frame: 6 × 5</caption>\n",
       "<thead>\n",
       "\t<tr><th></th><th scope=col>X1</th><th scope=col>X2</th><th scope=col>X3</th><th scope=col>max_prob</th><th scope=col>label</th></tr>\n",
       "\t<tr><th></th><th scope=col>&lt;dbl&gt;</th><th scope=col>&lt;dbl&gt;</th><th scope=col>&lt;dbl&gt;</th><th scope=col>&lt;int&gt;</th><th scope=col>&lt;dbl&gt;</th></tr>\n",
       "</thead>\n",
       "<tbody>\n",
       "\t<tr><th scope=row>1</th><td>0.499856204</td><td>0.029237108</td><td>0.4709067</td><td>1</td><td>1</td></tr>\n",
       "\t<tr><th scope=row>2</th><td>0.394733578</td><td>0.561270535</td><td>0.0439959</td><td>2</td><td>2</td></tr>\n",
       "\t<tr><th scope=row>3</th><td>0.889872551</td><td>0.035945401</td><td>0.0741820</td><td>1</td><td>1</td></tr>\n",
       "\t<tr><th scope=row>4</th><td>0.017967209</td><td>0.003313795</td><td>0.9787189</td><td>3</td><td>3</td></tr>\n",
       "\t<tr><th scope=row>5</th><td>0.007926054</td><td>0.013515540</td><td>0.9785584</td><td>3</td><td>3</td></tr>\n",
       "\t<tr><th scope=row>6</th><td>0.095878795</td><td>0.018150967</td><td>0.8859702</td><td>3</td><td>1</td></tr>\n",
       "</tbody>\n",
       "</table>\n"
      ],
      "text/latex": [
       "A data.frame: 6 × 5\n",
       "\\begin{tabular}{r|lllll}\n",
       "  & X1 & X2 & X3 & max\\_prob & label\\\\\n",
       "  & <dbl> & <dbl> & <dbl> & <int> & <dbl>\\\\\n",
       "\\hline\n",
       "\t1 & 0.499856204 & 0.029237108 & 0.4709067 & 1 & 1\\\\\n",
       "\t2 & 0.394733578 & 0.561270535 & 0.0439959 & 2 & 2\\\\\n",
       "\t3 & 0.889872551 & 0.035945401 & 0.0741820 & 1 & 1\\\\\n",
       "\t4 & 0.017967209 & 0.003313795 & 0.9787189 & 3 & 3\\\\\n",
       "\t5 & 0.007926054 & 0.013515540 & 0.9785584 & 3 & 3\\\\\n",
       "\t6 & 0.095878795 & 0.018150967 & 0.8859702 & 3 & 1\\\\\n",
       "\\end{tabular}\n"
      ],
      "text/markdown": [
       "\n",
       "A data.frame: 6 × 5\n",
       "\n",
       "| <!--/--> | X1 &lt;dbl&gt; | X2 &lt;dbl&gt; | X3 &lt;dbl&gt; | max_prob &lt;int&gt; | label &lt;dbl&gt; |\n",
       "|---|---|---|---|---|---|\n",
       "| 1 | 0.499856204 | 0.029237108 | 0.4709067 | 1 | 1 |\n",
       "| 2 | 0.394733578 | 0.561270535 | 0.0439959 | 2 | 2 |\n",
       "| 3 | 0.889872551 | 0.035945401 | 0.0741820 | 1 | 1 |\n",
       "| 4 | 0.017967209 | 0.003313795 | 0.9787189 | 3 | 3 |\n",
       "| 5 | 0.007926054 | 0.013515540 | 0.9785584 | 3 | 3 |\n",
       "| 6 | 0.095878795 | 0.018150967 | 0.8859702 | 3 | 1 |\n",
       "\n"
      ],
      "text/plain": [
       "  X1          X2          X3        max_prob label\n",
       "1 0.499856204 0.029237108 0.4709067 1        1    \n",
       "2 0.394733578 0.561270535 0.0439959 2        2    \n",
       "3 0.889872551 0.035945401 0.0741820 1        1    \n",
       "4 0.017967209 0.003313795 0.9787189 3        3    \n",
       "5 0.007926054 0.013515540 0.9785584 3        3    \n",
       "6 0.095878795 0.018150967 0.8859702 3        1    "
      ]
     },
     "metadata": {},
     "output_type": "display_data"
    },
    {
     "data": {
      "text/html": [
       "<table class=\"dataframe\">\n",
       "<caption>A data.frame: 6 × 5</caption>\n",
       "<thead>\n",
       "\t<tr><th></th><th scope=col>X1</th><th scope=col>X2</th><th scope=col>X3</th><th scope=col>max_prob</th><th scope=col>label</th></tr>\n",
       "\t<tr><th></th><th scope=col>&lt;dbl&gt;</th><th scope=col>&lt;dbl&gt;</th><th scope=col>&lt;dbl&gt;</th><th scope=col>&lt;int&gt;</th><th scope=col>&lt;dbl&gt;</th></tr>\n",
       "</thead>\n",
       "<tbody>\n",
       "\t<tr><th scope=row>1</th><td>0.8722660</td><td>0.075246304</td><td>0.052487757</td><td>1</td><td>1</td></tr>\n",
       "\t<tr><th scope=row>2</th><td>0.7323121</td><td>0.134695739</td><td>0.132992193</td><td>1</td><td>1</td></tr>\n",
       "\t<tr><th scope=row>3</th><td>0.9794514</td><td>0.012646510</td><td>0.007902117</td><td>1</td><td>1</td></tr>\n",
       "\t<tr><th scope=row>4</th><td>0.6127661</td><td>0.009393054</td><td>0.377840877</td><td>1</td><td>3</td></tr>\n",
       "\t<tr><th scope=row>5</th><td>0.9452881</td><td>0.001636519</td><td>0.053075459</td><td>1</td><td>1</td></tr>\n",
       "\t<tr><th scope=row>6</th><td>0.1361590</td><td>0.002174134</td><td>0.861666858</td><td>3</td><td>3</td></tr>\n",
       "</tbody>\n",
       "</table>\n"
      ],
      "text/latex": [
       "A data.frame: 6 × 5\n",
       "\\begin{tabular}{r|lllll}\n",
       "  & X1 & X2 & X3 & max\\_prob & label\\\\\n",
       "  & <dbl> & <dbl> & <dbl> & <int> & <dbl>\\\\\n",
       "\\hline\n",
       "\t1 & 0.8722660 & 0.075246304 & 0.052487757 & 1 & 1\\\\\n",
       "\t2 & 0.7323121 & 0.134695739 & 0.132992193 & 1 & 1\\\\\n",
       "\t3 & 0.9794514 & 0.012646510 & 0.007902117 & 1 & 1\\\\\n",
       "\t4 & 0.6127661 & 0.009393054 & 0.377840877 & 1 & 3\\\\\n",
       "\t5 & 0.9452881 & 0.001636519 & 0.053075459 & 1 & 1\\\\\n",
       "\t6 & 0.1361590 & 0.002174134 & 0.861666858 & 3 & 3\\\\\n",
       "\\end{tabular}\n"
      ],
      "text/markdown": [
       "\n",
       "A data.frame: 6 × 5\n",
       "\n",
       "| <!--/--> | X1 &lt;dbl&gt; | X2 &lt;dbl&gt; | X3 &lt;dbl&gt; | max_prob &lt;int&gt; | label &lt;dbl&gt; |\n",
       "|---|---|---|---|---|---|\n",
       "| 1 | 0.8722660 | 0.075246304 | 0.052487757 | 1 | 1 |\n",
       "| 2 | 0.7323121 | 0.134695739 | 0.132992193 | 1 | 1 |\n",
       "| 3 | 0.9794514 | 0.012646510 | 0.007902117 | 1 | 1 |\n",
       "| 4 | 0.6127661 | 0.009393054 | 0.377840877 | 1 | 3 |\n",
       "| 5 | 0.9452881 | 0.001636519 | 0.053075459 | 1 | 1 |\n",
       "| 6 | 0.1361590 | 0.002174134 | 0.861666858 | 3 | 3 |\n",
       "\n"
      ],
      "text/plain": [
       "  X1        X2          X3          max_prob label\n",
       "1 0.8722660 0.075246304 0.052487757 1        1    \n",
       "2 0.7323121 0.134695739 0.132992193 1        1    \n",
       "3 0.9794514 0.012646510 0.007902117 1        1    \n",
       "4 0.6127661 0.009393054 0.377840877 1        3    \n",
       "5 0.9452881 0.001636519 0.053075459 1        1    \n",
       "6 0.1361590 0.002174134 0.861666858 3        3    "
      ]
     },
     "metadata": {},
     "output_type": "display_data"
    }
   ],
   "source": [
    "##########################\n",
    "#DO NOT RUN THIS CELL IF PRECEDING CELL NOT RUN\n",
    "\n",
    "\n",
    "# the probability that each observation belongs to each class\n",
    "OOF_prediction <- data.frame(cv_model$pred) %>%\n",
    "  mutate(max_prob = max.col(., ties.method = \"last\"),\n",
    "         label = train.label + 1)\n",
    "head(OOF_prediction)\n",
    "\n",
    "OOF_prediction_nopca <- data.frame(cv_nopca_model$pred) %>%\n",
    "  mutate(max_prob = max.col(., ties.method = \"last\"),\n",
    "         label = train_nopca.label + 1)\n",
    "head(OOF_prediction_nopca)"
   ]
  },
  {
   "cell_type": "markdown",
   "metadata": {},
   "source": [
    "The confusion matrix  assess the error rate."
   ]
  },
  {
   "cell_type": "code",
   "execution_count": 55,
   "metadata": {
    "scrolled": true
   },
   "outputs": [
    {
     "data": {
      "text/plain": [
       "          Reference\n",
       "Prediction     1     2     3\n",
       "         1 21513  1879  4393\n",
       "         2   435   767   191\n",
       "         3  2303   547 12522"
      ]
     },
     "metadata": {},
     "output_type": "display_data"
    },
    {
     "data": {
      "text/html": [
       "<strong>Accuracy:</strong> 0.781189674523008"
      ],
      "text/latex": [
       "\\textbf{Accuracy:} 0.781189674523008"
      ],
      "text/markdown": [
       "**Accuracy:** 0.781189674523008"
      ],
      "text/plain": [
       " Accuracy \n",
       "0.7811897 "
      ]
     },
     "metadata": {},
     "output_type": "display_data"
    },
    {
     "data": {
      "text/plain": [
       "          Reference\n",
       "Prediction     1     2     3\n",
       "         1 21836  1812  3949\n",
       "         2   437   918   203\n",
       "         3  1973   497 12925"
      ]
     },
     "metadata": {},
     "output_type": "display_data"
    },
    {
     "data": {
      "text/html": [
       "<strong>Accuracy:</strong> 0.800875420875421"
      ],
      "text/latex": [
       "\\textbf{Accuracy:} 0.800875420875421"
      ],
      "text/markdown": [
       "**Accuracy:** 0.800875420875421"
      ],
      "text/plain": [
       " Accuracy \n",
       "0.8008754 "
      ]
     },
     "metadata": {},
     "output_type": "display_data"
    }
   ],
   "source": [
    "##########################\n",
    "#DO NOT RUN THIS CELL IF PRECEDING CELL NOT RUN\n",
    "\n",
    "\n",
    "# confusion matrix\n",
    "confusionMatrix(factor(OOF_prediction$max_prob),\n",
    "                factor(OOF_prediction$label),\n",
    "                mode = \"everything\")$table\n",
    "\n",
    "confusionMatrix(factor(OOF_prediction$max_prob),\n",
    "                factor(OOF_prediction$label),\n",
    "                mode = \"everything\")$overall['Accuracy']\n",
    "\n",
    "confusionMatrix(factor(OOF_prediction_nopca$max_prob),\n",
    "                factor(OOF_prediction_nopca$label),\n",
    "                mode = \"everything\")$table\n",
    "\n",
    "confusionMatrix(factor(OOF_prediction_nopca$max_prob),\n",
    "                factor(OOF_prediction_nopca$label),\n",
    "                mode = \"everything\")$overall['Accuracy']"
   ]
  },
  {
   "cell_type": "markdown",
   "metadata": {},
   "source": [
    "In conclusion, there is almost a 2% benefit from keeping our databes intact rather than doing the PCA reduction. In addition, we do not see any particular improvement in training time using the PCA reduction overall. Thus, in the following, only the original dataset will be used to test and train the models. Furthermore, looking at the results so far, XGBoost is the best performing model overall. Let's try one last model which will combine models."
   ]
  },
  {
   "cell_type": "markdown",
   "metadata": {},
   "source": [
    "## Combination of models\n",
    "\n",
    "In this part, we will test whether or not combining the individual predictions can improve the performance. To that end, we will take the 3 best performing models (i.e. nnet, randomForest and XGBoost) and make a final prediction based on those tree. For a given input, the class predicted most will be selected as the final prediction, if there's equality, the best performing model determines the final prediction. First let's reuse the same function from before because we will need it. This is placed here in case the evaluation is done between multiple sessions."
   ]
  },
  {
   "cell_type": "code",
   "execution_count": 47,
   "metadata": {},
   "outputs": [],
   "source": [
    "threshold <- 0.5\n",
    "\n",
    "predict_transform <- function(Y_hat_tree){\n",
    "    Y_hat <- t(apply(Y_hat_tree, 1, function(x)(x-min(x))/(max(x)-min(x))))\n",
    "                 \n",
    "    Y_hat[,1] <- ifelse(Y_hat[,1] < 0.99,0,1)\n",
    "    Y_hat[,2] <- ifelse(Y_hat[,2] < 0.99,0,1)\n",
    "    Y_hat[,3] <- ifelse(Y_hat[,3] < 0.99,0,1)\n",
    "    Y_hat <- ifelse(Y_hat[,1] > threshold,\"functional\",ifelse(Y_hat[,2] > threshold,\"functional_needs_repair\",\"non_functional\"))\n",
    "    return(Y_hat)\n",
    "}"
   ]
  },
  {
   "cell_type": "markdown",
   "metadata": {},
   "source": [
    "Let's start by selecting a dataset over which we will train each models individually. We split the data into 75% training set and 25% testing set. The next cell does exactly that. Note that we are using the original database not PCA reduced because we concluded that overall, we do not gain very much in computational time."
   ]
  },
  {
   "cell_type": "code",
   "execution_count": 38,
   "metadata": {},
   "outputs": [
    {
     "data": {
      "text/html": [
       "<table class=\"dataframe\">\n",
       "<caption>A data.frame: 6 × 158</caption>\n",
       "<thead>\n",
       "\t<tr><th></th><th scope=col>amount_tsh</th><th scope=col>gps_height</th><th scope=col>longitude</th><th scope=col>latitude</th><th scope=col>basin_Internal</th><th scope=col>basin_Lake.Nyasa</th><th scope=col>basin_Lake.Rukwa</th><th scope=col>basin_Lake.Tanganyika</th><th scope=col>basin_Lake.Victoria</th><th scope=col>basin_Pangani</th><th scope=col>⋯</th><th scope=col>source_class_groundwater</th><th scope=col>source_class_surface</th><th scope=col>source_class_unknown</th><th scope=col>waterpoint_type_cattle.trough</th><th scope=col>waterpoint_type_communal.standpipe</th><th scope=col>waterpoint_type_communal.standpipe.multiple</th><th scope=col>waterpoint_type_dam</th><th scope=col>waterpoint_type_hand.pump</th><th scope=col>waterpoint_type_improved.spring</th><th scope=col>waterpoint_type_other</th></tr>\n",
       "\t<tr><th></th><th scope=col>&lt;dbl&gt;</th><th scope=col>&lt;int&gt;</th><th scope=col>&lt;dbl&gt;</th><th scope=col>&lt;dbl&gt;</th><th scope=col>&lt;int&gt;</th><th scope=col>&lt;int&gt;</th><th scope=col>&lt;int&gt;</th><th scope=col>&lt;int&gt;</th><th scope=col>&lt;int&gt;</th><th scope=col>&lt;int&gt;</th><th scope=col>⋯</th><th scope=col>&lt;int&gt;</th><th scope=col>&lt;int&gt;</th><th scope=col>&lt;int&gt;</th><th scope=col>&lt;int&gt;</th><th scope=col>&lt;int&gt;</th><th scope=col>&lt;int&gt;</th><th scope=col>&lt;int&gt;</th><th scope=col>&lt;int&gt;</th><th scope=col>&lt;int&gt;</th><th scope=col>&lt;int&gt;</th></tr>\n",
       "</thead>\n",
       "<tbody>\n",
       "\t<tr><th scope=row>12713</th><td>2500</td><td>1289</td><td>38.37597</td><td>-4.821845</td><td>0</td><td>0</td><td>0</td><td>0</td><td>0</td><td>1</td><td>⋯</td><td>1</td><td>0</td><td>0</td><td>0</td><td>1</td><td>0</td><td>0</td><td>0</td><td>0</td><td>0</td></tr>\n",
       "\t<tr><th scope=row>13700</th><td>   0</td><td>1669</td><td>34.87898</td><td>-4.895629</td><td>1</td><td>0</td><td>0</td><td>0</td><td>0</td><td>0</td><td>⋯</td><td>1</td><td>0</td><td>0</td><td>0</td><td>1</td><td>0</td><td>0</td><td>0</td><td>0</td><td>0</td></tr>\n",
       "\t<tr><th scope=row>32592</th><td>   0</td><td> 472</td><td>37.04953</td><td>-6.829116</td><td>0</td><td>0</td><td>0</td><td>0</td><td>0</td><td>0</td><td>⋯</td><td>1</td><td>0</td><td>0</td><td>0</td><td>0</td><td>0</td><td>0</td><td>1</td><td>0</td><td>0</td></tr>\n",
       "\t<tr><th scope=row>21257</th><td>   0</td><td>  22</td><td>39.16508</td><td>-8.515174</td><td>0</td><td>0</td><td>0</td><td>0</td><td>0</td><td>0</td><td>⋯</td><td>1</td><td>0</td><td>0</td><td>0</td><td>0</td><td>0</td><td>0</td><td>1</td><td>0</td><td>0</td></tr>\n",
       "\t<tr><th scope=row>54542</th><td>   0</td><td>1596</td><td>34.73568</td><td>-1.887667</td><td>0</td><td>0</td><td>0</td><td>0</td><td>1</td><td>0</td><td>⋯</td><td>1</td><td>0</td><td>0</td><td>0</td><td>0</td><td>0</td><td>0</td><td>1</td><td>0</td><td>0</td></tr>\n",
       "\t<tr><th scope=row>54501</th><td>   0</td><td>   0</td><td>33.28647</td><td>-2.644896</td><td>0</td><td>0</td><td>0</td><td>0</td><td>1</td><td>0</td><td>⋯</td><td>1</td><td>0</td><td>0</td><td>0</td><td>0</td><td>0</td><td>0</td><td>0</td><td>0</td><td>1</td></tr>\n",
       "</tbody>\n",
       "</table>\n"
      ],
      "text/latex": [
       "A data.frame: 6 × 158\n",
       "\\begin{tabular}{r|lllllllllllllllllllll}\n",
       "  & amount\\_tsh & gps\\_height & longitude & latitude & basin\\_Internal & basin\\_Lake.Nyasa & basin\\_Lake.Rukwa & basin\\_Lake.Tanganyika & basin\\_Lake.Victoria & basin\\_Pangani & ⋯ & source\\_class\\_groundwater & source\\_class\\_surface & source\\_class\\_unknown & waterpoint\\_type\\_cattle.trough & waterpoint\\_type\\_communal.standpipe & waterpoint\\_type\\_communal.standpipe.multiple & waterpoint\\_type\\_dam & waterpoint\\_type\\_hand.pump & waterpoint\\_type\\_improved.spring & waterpoint\\_type\\_other\\\\\n",
       "  & <dbl> & <int> & <dbl> & <dbl> & <int> & <int> & <int> & <int> & <int> & <int> & ⋯ & <int> & <int> & <int> & <int> & <int> & <int> & <int> & <int> & <int> & <int>\\\\\n",
       "\\hline\n",
       "\t12713 & 2500 & 1289 & 38.37597 & -4.821845 & 0 & 0 & 0 & 0 & 0 & 1 & ⋯ & 1 & 0 & 0 & 0 & 1 & 0 & 0 & 0 & 0 & 0\\\\\n",
       "\t13700 &    0 & 1669 & 34.87898 & -4.895629 & 1 & 0 & 0 & 0 & 0 & 0 & ⋯ & 1 & 0 & 0 & 0 & 1 & 0 & 0 & 0 & 0 & 0\\\\\n",
       "\t32592 &    0 &  472 & 37.04953 & -6.829116 & 0 & 0 & 0 & 0 & 0 & 0 & ⋯ & 1 & 0 & 0 & 0 & 0 & 0 & 0 & 1 & 0 & 0\\\\\n",
       "\t21257 &    0 &   22 & 39.16508 & -8.515174 & 0 & 0 & 0 & 0 & 0 & 0 & ⋯ & 1 & 0 & 0 & 0 & 0 & 0 & 0 & 1 & 0 & 0\\\\\n",
       "\t54542 &    0 & 1596 & 34.73568 & -1.887667 & 0 & 0 & 0 & 0 & 1 & 0 & ⋯ & 1 & 0 & 0 & 0 & 0 & 0 & 0 & 1 & 0 & 0\\\\\n",
       "\t54501 &    0 &    0 & 33.28647 & -2.644896 & 0 & 0 & 0 & 0 & 1 & 0 & ⋯ & 1 & 0 & 0 & 0 & 0 & 0 & 0 & 0 & 0 & 1\\\\\n",
       "\\end{tabular}\n"
      ],
      "text/markdown": [
       "\n",
       "A data.frame: 6 × 158\n",
       "\n",
       "| <!--/--> | amount_tsh &lt;dbl&gt; | gps_height &lt;int&gt; | longitude &lt;dbl&gt; | latitude &lt;dbl&gt; | basin_Internal &lt;int&gt; | basin_Lake.Nyasa &lt;int&gt; | basin_Lake.Rukwa &lt;int&gt; | basin_Lake.Tanganyika &lt;int&gt; | basin_Lake.Victoria &lt;int&gt; | basin_Pangani &lt;int&gt; | ⋯ ⋯ | source_class_groundwater &lt;int&gt; | source_class_surface &lt;int&gt; | source_class_unknown &lt;int&gt; | waterpoint_type_cattle.trough &lt;int&gt; | waterpoint_type_communal.standpipe &lt;int&gt; | waterpoint_type_communal.standpipe.multiple &lt;int&gt; | waterpoint_type_dam &lt;int&gt; | waterpoint_type_hand.pump &lt;int&gt; | waterpoint_type_improved.spring &lt;int&gt; | waterpoint_type_other &lt;int&gt; |\n",
       "|---|---|---|---|---|---|---|---|---|---|---|---|---|---|---|---|---|---|---|---|---|---|\n",
       "| 12713 | 2500 | 1289 | 38.37597 | -4.821845 | 0 | 0 | 0 | 0 | 0 | 1 | ⋯ | 1 | 0 | 0 | 0 | 1 | 0 | 0 | 0 | 0 | 0 |\n",
       "| 13700 |    0 | 1669 | 34.87898 | -4.895629 | 1 | 0 | 0 | 0 | 0 | 0 | ⋯ | 1 | 0 | 0 | 0 | 1 | 0 | 0 | 0 | 0 | 0 |\n",
       "| 32592 |    0 |  472 | 37.04953 | -6.829116 | 0 | 0 | 0 | 0 | 0 | 0 | ⋯ | 1 | 0 | 0 | 0 | 0 | 0 | 0 | 1 | 0 | 0 |\n",
       "| 21257 |    0 |   22 | 39.16508 | -8.515174 | 0 | 0 | 0 | 0 | 0 | 0 | ⋯ | 1 | 0 | 0 | 0 | 0 | 0 | 0 | 1 | 0 | 0 |\n",
       "| 54542 |    0 | 1596 | 34.73568 | -1.887667 | 0 | 0 | 0 | 0 | 1 | 0 | ⋯ | 1 | 0 | 0 | 0 | 0 | 0 | 0 | 1 | 0 | 0 |\n",
       "| 54501 |    0 |    0 | 33.28647 | -2.644896 | 0 | 0 | 0 | 0 | 1 | 0 | ⋯ | 1 | 0 | 0 | 0 | 0 | 0 | 0 | 0 | 0 | 1 |\n",
       "\n"
      ],
      "text/plain": [
       "      amount_tsh gps_height longitude latitude  basin_Internal basin_Lake.Nyasa\n",
       "12713 2500       1289       38.37597  -4.821845 0              0               \n",
       "13700    0       1669       34.87898  -4.895629 1              0               \n",
       "32592    0        472       37.04953  -6.829116 0              0               \n",
       "21257    0         22       39.16508  -8.515174 0              0               \n",
       "54542    0       1596       34.73568  -1.887667 0              0               \n",
       "54501    0          0       33.28647  -2.644896 0              0               \n",
       "      basin_Lake.Rukwa basin_Lake.Tanganyika basin_Lake.Victoria basin_Pangani\n",
       "12713 0                0                     0                   1            \n",
       "13700 0                0                     0                   0            \n",
       "32592 0                0                     0                   0            \n",
       "21257 0                0                     0                   0            \n",
       "54542 0                0                     1                   0            \n",
       "54501 0                0                     1                   0            \n",
       "      ⋯ source_class_groundwater source_class_surface source_class_unknown\n",
       "12713 ⋯ 1                        0                    0                   \n",
       "13700 ⋯ 1                        0                    0                   \n",
       "32592 ⋯ 1                        0                    0                   \n",
       "21257 ⋯ 1                        0                    0                   \n",
       "54542 ⋯ 1                        0                    0                   \n",
       "54501 ⋯ 1                        0                    0                   \n",
       "      waterpoint_type_cattle.trough waterpoint_type_communal.standpipe\n",
       "12713 0                             1                                 \n",
       "13700 0                             1                                 \n",
       "32592 0                             0                                 \n",
       "21257 0                             0                                 \n",
       "54542 0                             0                                 \n",
       "54501 0                             0                                 \n",
       "      waterpoint_type_communal.standpipe.multiple waterpoint_type_dam\n",
       "12713 0                                           0                  \n",
       "13700 0                                           0                  \n",
       "32592 0                                           0                  \n",
       "21257 0                                           0                  \n",
       "54542 0                                           0                  \n",
       "54501 0                                           0                  \n",
       "      waterpoint_type_hand.pump waterpoint_type_improved.spring\n",
       "12713 0                         0                              \n",
       "13700 0                         0                              \n",
       "32592 1                         0                              \n",
       "21257 1                         0                              \n",
       "54542 1                         0                              \n",
       "54501 0                         0                              \n",
       "      waterpoint_type_other\n",
       "12713 0                    \n",
       "13700 0                    \n",
       "32592 0                    \n",
       "21257 0                    \n",
       "54542 0                    \n",
       "54501 1                    "
      ]
     },
     "metadata": {},
     "output_type": "display_data"
    },
    {
     "data": {
      "text/html": [
       "<style>\n",
       ".list-inline {list-style: none; margin:0; padding: 0}\n",
       ".list-inline>li {display: inline-block}\n",
       ".list-inline>li:not(:last-child)::after {content: \"\\00b7\"; padding: 0 .5ex}\n",
       "</style>\n",
       "<ol class=list-inline><li>'non_functional'</li><li>'non_functional'</li><li>'functional'</li><li>'non_functional'</li><li>'functional'</li><li>'non_functional'</li></ol>\n"
      ],
      "text/latex": [
       "\\begin{enumerate*}\n",
       "\\item 'non\\_functional'\n",
       "\\item 'non\\_functional'\n",
       "\\item 'functional'\n",
       "\\item 'non\\_functional'\n",
       "\\item 'functional'\n",
       "\\item 'non\\_functional'\n",
       "\\end{enumerate*}\n"
      ],
      "text/markdown": [
       "1. 'non_functional'\n",
       "2. 'non_functional'\n",
       "3. 'functional'\n",
       "4. 'non_functional'\n",
       "5. 'functional'\n",
       "6. 'non_functional'\n",
       "\n",
       "\n"
      ],
      "text/plain": [
       "[1] \"non_functional\" \"non_functional\" \"functional\"     \"non_functional\"\n",
       "[5] \"functional\"     \"non_functional\""
      ]
     },
     "metadata": {},
     "output_type": "display_data"
    },
    {
     "data": {
      "text/html": [
       "<style>\n",
       ".list-inline {list-style: none; margin:0; padding: 0}\n",
       ".list-inline>li {display: inline-block}\n",
       ".list-inline>li:not(:last-child)::after {content: \"\\00b7\"; padding: 0 .5ex}\n",
       "</style>\n",
       "<ol class=list-inline><li>2</li><li>2</li><li>0</li><li>2</li><li>0</li><li>2</li></ol>\n"
      ],
      "text/latex": [
       "\\begin{enumerate*}\n",
       "\\item 2\n",
       "\\item 2\n",
       "\\item 0\n",
       "\\item 2\n",
       "\\item 0\n",
       "\\item 2\n",
       "\\end{enumerate*}\n"
      ],
      "text/markdown": [
       "1. 2\n",
       "2. 2\n",
       "3. 0\n",
       "4. 2\n",
       "5. 0\n",
       "6. 2\n",
       "\n",
       "\n"
      ],
      "text/plain": [
       "[1] 2 2 0 2 0 2"
      ]
     },
     "metadata": {},
     "output_type": "display_data"
    },
    {
     "data": {
      "text/html": [
       "<style>\n",
       ".list-inline {list-style: none; margin:0; padding: 0}\n",
       ".list-inline>li {display: inline-block}\n",
       ".list-inline>li:not(:last-child)::after {content: \"\\00b7\"; padding: 0 .5ex}\n",
       "</style>\n",
       "<ol class=list-inline><li>'functional'</li><li>'functional'</li><li>'functional'</li><li>'functional'</li><li>'functional'</li><li>'functional'</li></ol>\n"
      ],
      "text/latex": [
       "\\begin{enumerate*}\n",
       "\\item 'functional'\n",
       "\\item 'functional'\n",
       "\\item 'functional'\n",
       "\\item 'functional'\n",
       "\\item 'functional'\n",
       "\\item 'functional'\n",
       "\\end{enumerate*}\n"
      ],
      "text/markdown": [
       "1. 'functional'\n",
       "2. 'functional'\n",
       "3. 'functional'\n",
       "4. 'functional'\n",
       "5. 'functional'\n",
       "6. 'functional'\n",
       "\n",
       "\n"
      ],
      "text/plain": [
       "[1] \"functional\" \"functional\" \"functional\" \"functional\" \"functional\"\n",
       "[6] \"functional\""
      ]
     },
     "metadata": {},
     "output_type": "display_data"
    },
    {
     "data": {
      "text/html": [
       "<style>\n",
       ".list-inline {list-style: none; margin:0; padding: 0}\n",
       ".list-inline>li {display: inline-block}\n",
       ".list-inline>li:not(:last-child)::after {content: \"\\00b7\"; padding: 0 .5ex}\n",
       "</style>\n",
       "<ol class=list-inline><li>0</li><li>0</li><li>0</li><li>0</li><li>0</li><li>0</li></ol>\n"
      ],
      "text/latex": [
       "\\begin{enumerate*}\n",
       "\\item 0\n",
       "\\item 0\n",
       "\\item 0\n",
       "\\item 0\n",
       "\\item 0\n",
       "\\item 0\n",
       "\\end{enumerate*}\n"
      ],
      "text/markdown": [
       "1. 0\n",
       "2. 0\n",
       "3. 0\n",
       "4. 0\n",
       "5. 0\n",
       "6. 0\n",
       "\n",
       "\n"
      ],
      "text/plain": [
       "[1] 0 0 0 0 0 0"
      ]
     },
     "metadata": {},
     "output_type": "display_data"
    }
   ],
   "source": [
    "# data set is split for training (75%) and testing (25%)\n",
    "n = nrow(X_onehot)\n",
    "\n",
    "# training data set is used to fit the model\n",
    "\n",
    "train.index = sample(n,floor(0.75*n))# random picking so might make accuracies change moving forward, keep in mind\n",
    "#cf pdf for exact accuracies\n",
    "\n",
    "\n",
    "train.data = X_onehot[train.index,]\n",
    "train_xg.data = as.matrix(X_onehot[train.index,])\n",
    "head(train.data)\n",
    "train.label = Y[train.index,]\n",
    "head(train.label)\n",
    "\n",
    "train_xg.label = label[train.index]\n",
    "head(train_xg.label)\n",
    "#  testing data set is held out for validation\n",
    "test.data = X_onehot[-train.index,]\n",
    "test_xg.data = as.matrix(X_onehot[-train.index,])\n",
    "test.label = Y[-train.index,]\n",
    "head(test.label)\n",
    "test_xg.label = label[-train.index]\n",
    "head(test_xg.label)"
   ]
  },
  {
   "cell_type": "markdown",
   "metadata": {},
   "source": [
    "This cell will create the data stricly for the xg model."
   ]
  },
  {
   "cell_type": "code",
   "execution_count": 39,
   "metadata": {},
   "outputs": [],
   "source": [
    "# transform the training and testing data sets into xgb\n",
    "# DMatrix objects that are used for fitting the XGBoost model and predicting new outcomes\n",
    "xgb.train = xgb.DMatrix(data=train_xg.data,label=train_xg.label)\n",
    "xgb.test = xgb.DMatrix(data=test_xg.data,label=test_xg.label)"
   ]
  },
  {
   "cell_type": "markdown",
   "metadata": {},
   "source": [
    "This cell will create the input data for the two other models."
   ]
  },
  {
   "cell_type": "code",
   "execution_count": 40,
   "metadata": {},
   "outputs": [],
   "source": [
    "#randomForest\n",
    "DS<-cbind(train.data,status_group=train.label)\n",
    "DS$status_group<-factor(DS$status_group)"
   ]
  },
  {
   "cell_type": "markdown",
   "metadata": {},
   "source": [
    "The following cell trains the randomForest on the data and evaluate it in the testing data."
   ]
  },
  {
   "cell_type": "code",
   "execution_count": 41,
   "metadata": {},
   "outputs": [
    {
     "data": {
      "text/html": [
       "<strong>Accuracy:</strong> 0.796363636363636"
      ],
      "text/latex": [
       "\\textbf{Accuracy:} 0.796363636363636"
      ],
      "text/markdown": [
       "**Accuracy:** 0.796363636363636"
      ],
      "text/plain": [
       " Accuracy \n",
       "0.7963636 "
      ]
     },
     "metadata": {},
     "output_type": "display_data"
    }
   ],
   "source": [
    "###################################\n",
    "###################################\n",
    "#            DISCLAIMER: ~4.5 min\n",
    "###################################\n",
    "###################################\n",
    "\n",
    "\n",
    "forest<- randomForest(status_group~.,data=DS, ntrees=15)\n",
    "Y_hat_rf<- predict(forest,test.data)\n",
    "confusionMatrix(as.factor(Y_hat_rf),as.factor(test.label))$overall['Accuracy']"
   ]
  },
  {
   "cell_type": "code",
   "execution_count": 42,
   "metadata": {},
   "outputs": [],
   "source": [
    "#saveRDS(forest, \"tree.rds\")"
   ]
  },
  {
   "cell_type": "code",
   "execution_count": 61,
   "metadata": {},
   "outputs": [
    {
     "data": {
      "text/html": [
       "<strong>Accuracy:</strong> 0.796430976430976"
      ],
      "text/latex": [
       "\\textbf{Accuracy:} 0.796430976430976"
      ],
      "text/markdown": [
       "**Accuracy:** 0.796430976430976"
      ],
      "text/plain": [
       "Accuracy \n",
       "0.796431 "
      ]
     },
     "metadata": {},
     "output_type": "display_data"
    },
    {
     "data": {
      "text/plain": [
       "                         Reference\n",
       "Prediction                functional functional_needs_repair non_functional\n",
       "  functional                    7496                     703           1501\n",
       "  functional_needs_repair         92                     213             48\n",
       "  non_functional                 523                     156           4118"
      ]
     },
     "metadata": {},
     "output_type": "display_data"
    }
   ],
   "source": [
    "#Model used for combined model accuracy\n",
    "forest <- readRDS(\"tree.rds\")\n",
    "Y_pred<-predict(forest,test.data)\n",
    "confusionMatrix(as.factor(Y_pred),as.factor(test.label))$overall['Accuracy']\n",
    "confusionMatrix(as.factor(Y_pred),as.factor(test.label))$table"
   ]
  },
  {
   "cell_type": "markdown",
   "metadata": {},
   "source": [
    "The following cell trains the nnet on the data and evaluate it in the testing data."
   ]
  },
  {
   "cell_type": "code",
   "execution_count": 44,
   "metadata": {},
   "outputs": [],
   "source": [
    "#nnet ~2 min\n",
    "net<- nnet(status_group~.,data=DS, size=5, maxit=1000, MaxNWts=2000,trace=FALSE)"
   ]
  },
  {
   "cell_type": "code",
   "execution_count": 63,
   "metadata": {},
   "outputs": [
    {
     "name": "stderr",
     "output_type": "stream",
     "text": [
      "Warning message in levels(reference) != levels(data):\n",
      "“la taille d'un objet plus long n'est pas multiple de la taille d'un objet plus court”\n",
      "Warning message in confusionMatrix.default(as.factor(Y_hat), as.factor(test.label)):\n",
      "“Levels are not in the same order for reference and data. Refactoring data to match.”\n"
     ]
    },
    {
     "data": {
      "text/html": [
       "<strong>Accuracy:</strong> 0.738989898989899"
      ],
      "text/latex": [
       "\\textbf{Accuracy:} 0.738989898989899"
      ],
      "text/markdown": [
       "**Accuracy:** 0.738989898989899"
      ],
      "text/plain": [
       " Accuracy \n",
       "0.7389899 "
      ]
     },
     "metadata": {},
     "output_type": "display_data"
    }
   ],
   "source": [
    "Y_hat_nnet<- predict(net,test.data)\n",
    "Y_hat <- predict_transform(Y_hat_nnet)\n",
    "confusionMatrix(as.factor(Y_hat),as.factor(test.label))$overall['Accuracy']"
   ]
  },
  {
   "cell_type": "code",
   "execution_count": 49,
   "metadata": {},
   "outputs": [],
   "source": [
    "#saveRDS(net, \"nnet.rds\")"
   ]
  },
  {
   "cell_type": "code",
   "execution_count": 62,
   "metadata": {},
   "outputs": [
    {
     "name": "stderr",
     "output_type": "stream",
     "text": [
      "Warning message in levels(reference) != levels(data):\n",
      "“la taille d'un objet plus long n'est pas multiple de la taille d'un objet plus court”\n",
      "Warning message in confusionMatrix.default(as.factor(Y_hat), as.factor(test.label)):\n",
      "“Levels are not in the same order for reference and data. Refactoring data to match.”\n"
     ]
    },
    {
     "data": {
      "text/html": [
       "<strong>Accuracy:</strong> 0.738989898989899"
      ],
      "text/latex": [
       "\\textbf{Accuracy:} 0.738989898989899"
      ],
      "text/markdown": [
       "**Accuracy:** 0.738989898989899"
      ],
      "text/plain": [
       " Accuracy \n",
       "0.7389899 "
      ]
     },
     "metadata": {},
     "output_type": "display_data"
    },
    {
     "name": "stderr",
     "output_type": "stream",
     "text": [
      "Warning message in levels(reference) != levels(data):\n",
      "“la taille d'un objet plus long n'est pas multiple de la taille d'un objet plus court”\n",
      "Warning message in confusionMatrix.default(as.factor(Y_hat), as.factor(test.label)):\n",
      "“Levels are not in the same order for reference and data. Refactoring data to match.”\n"
     ]
    },
    {
     "data": {
      "text/plain": [
       "                         Reference\n",
       "Prediction                functional functional_needs_repair non_functional\n",
       "  functional                    7396                     890           2089\n",
       "  functional_needs_repair          0                       0              0\n",
       "  non_functional                 715                     182           3578"
      ]
     },
     "metadata": {},
     "output_type": "display_data"
    }
   ],
   "source": [
    "#Model used for combined model accuracy\n",
    "net <- readRDS(\"nnet.rds\")\n",
    "Y_hat_nnet<- predict(net,test.data)\n",
    "Y_hat <- predict_transform(Y_hat_nnet)\n",
    "confusionMatrix(as.factor(Y_hat),as.factor(test.label))$overall['Accuracy']\n",
    "confusionMatrix(as.factor(Y_hat),as.factor(test.label))$table"
   ]
  },
  {
   "cell_type": "code",
   "execution_count": 52,
   "metadata": {},
   "outputs": [],
   "source": [
    "###################################\n",
    "###################################\n",
    "#            DISCLAIMER: ~18.5 min\n",
    "###################################\n",
    "###################################\n",
    "\n",
    "\n",
    "#XGBoost\n",
    "\n",
    "bst_model <- xgb.train(params = params,\n",
    "                       data = xgb.train,\n",
    "                       nrounds = 350)"
   ]
  },
  {
   "cell_type": "code",
   "execution_count": 56,
   "metadata": {},
   "outputs": [
    {
     "data": {
      "text/html": [
       "<strong>Accuracy:</strong> 0.803973063973064"
      ],
      "text/latex": [
       "\\textbf{Accuracy:} 0.803973063973064"
      ],
      "text/markdown": [
       "**Accuracy:** 0.803973063973064"
      ],
      "text/plain": [
       " Accuracy \n",
       "0.8039731 "
      ]
     },
     "metadata": {},
     "output_type": "display_data"
    },
    {
     "data": {
      "text/plain": [
       "          Reference\n",
       "Prediction    1    2    3\n",
       "         1 7161  551 1139\n",
       "         2  205  344   94\n",
       "         3  745  177 4434"
      ]
     },
     "metadata": {},
     "output_type": "display_data"
    }
   ],
   "source": [
    "##########################\n",
    "#DO NOT RUN THIS CELL IF PRECEDING CELL NOT RUN\n",
    "\n",
    "\n",
    "test_pred <- predict(bst_model, newdata = xgb.test)\n",
    "test_prediction <- matrix(test_pred, nrow = num_class,\n",
    "                          ncol=length(test_pred)/num_class) %>%\n",
    "  t() %>%\n",
    "  data.frame() %>%\n",
    "  mutate(label = test_xg.label + 1,\n",
    "         max_prob = max.col(., \"last\"))\n",
    "# confusion matrix of test set\n",
    "confusionMatrix(factor(test_prediction$max_prob),\n",
    "                factor(test_prediction$label),\n",
    "                mode = \"everything\")$overall['Accuracy']\n",
    "confusionMatrix(factor(test_prediction$max_prob),\n",
    "                factor(test_prediction$label),\n",
    "                mode = \"everything\")$table"
   ]
  },
  {
   "cell_type": "code",
   "execution_count": 57,
   "metadata": {},
   "outputs": [],
   "source": [
    "#saveRDS(bst_model, \"xg.rds\")"
   ]
  },
  {
   "cell_type": "code",
   "execution_count": 59,
   "metadata": {},
   "outputs": [],
   "source": [
    "#Model used for combined model AND final prediction for driven data\n",
    "\n",
    "bst_model <- readRDS(\"xg.rds\")\n",
    "Y_pred<-predict(bst_model,test_xg.data)\n",
    "Y_pred <- matrix(Y_pred, nrow = num_class,\n",
    "                          ncol=length(Y_pred)/num_class)%>%\n",
    "  t() %>%\n",
    "  data.frame()"
   ]
  },
  {
   "cell_type": "code",
   "execution_count": null,
   "metadata": {},
   "outputs": [],
   "source": [
    "test_pred <- predict(bst_model, newdata = xgb.test)\n",
    "test_prediction <- matrix(test_pred, nrow = num_class,\n",
    "                          ncol=length(test_pred)/num_class) %>%\n",
    "  t() %>%\n",
    "  data.frame() %>%\n",
    "  mutate(label = test_xg.label + 1,\n",
    "         max_prob = max.col(., \"last\"))\n",
    "# confusion matrix of test set\n",
    "confusionMatrix(factor(test_prediction$max_prob),\n",
    "                factor(test_prediction$label),\n",
    "                mode = \"everything\")$overall['Accuracy']\n",
    "confusionMatrix(factor(test_prediction$max_prob),\n",
    "                factor(test_prediction$label),\n",
    "                mode = \"everything\")$table"
   ]
  },
  {
   "cell_type": "markdown",
   "metadata": {},
   "source": [
    "Now that the models are all trained on the same data, it is time to construct the combined model. Firstly, since some models (nnet and XGBoost) returns a prediction of 3 columns and a probability over each classes, we create a function which only returns a 1 in the maximum class and zeroes and the others."
   ]
  },
  {
   "cell_type": "code",
   "execution_count": 65,
   "metadata": {},
   "outputs": [],
   "source": [
    "ones <- function(Y){\n",
    "    Y_hat <- t(apply(Y, 1, function(x)(x-min(x))/(max(x)-min(x))))\n",
    "                 \n",
    "    Y_hat[,1] <- ifelse(Y_hat[,1] < 0.99,0,1)\n",
    "    Y_hat[,2] <- ifelse(Y_hat[,2] < 0.99,0,1)\n",
    "    Y_hat[,3] <- ifelse(Y_hat[,3] < 0.99,0,1)\n",
    "                     \n",
    "    return(Y_hat)\n",
    "}"
   ]
  },
  {
   "cell_type": "markdown",
   "metadata": {},
   "source": [
    "The evaluation is the following, we will add the individual predictions into a final frame. The column with the best score will be the final prediction. If there is an equality (i.e. all models predict a different class), the model with the best accuracy will determine the final prediction, which is this case ."
   ]
  },
  {
   "cell_type": "code",
   "execution_count": 73,
   "metadata": {},
   "outputs": [],
   "source": [
    "combined_models <- function(X_ts){\n",
    "    \n",
    "    X_xg_ts = as.matrix(X_ts)#transformation for xgb\n",
    "    \n",
    "    # predictions\n",
    "    Y_pred_forest<-predict(forest,X_ts)\n",
    "    Y_pred_forest <- do.call(rbind, lapply(Y_pred_forest, function(i) as.integer(!is.na(match(unique(unlist(Y_pred_forest)), i)))))\n",
    "    \n",
    "    \n",
    "    Y_pred_nnet<-predict(net,X_ts)\n",
    "    \n",
    "    \n",
    "    Y_pred_xg<-predict(bst_model,X_xg_ts)\n",
    "    Y_pred_xg <- matrix(Y_pred_xg, nrow = num_class,\n",
    "                          ncol=length(Y_pred_xg)/num_class)%>%\n",
    "      t() %>%\n",
    "      data.frame()\n",
    "          \n",
    "                                           \n",
    "    # computing the final prediction\n",
    "    final <- ones(Y_pred_nnet)+ones(Y_pred_xg)+Y_pred_forest\n",
    "                                           \n",
    "\n",
    "                                           \n",
    "    for (i in 1:(length(final)/num_class)){\n",
    "        n<-final[i,]\n",
    "        if ((n[1]==n[2]) & (n[2]==n[3]) & (n[1]==n[3])){\n",
    "            final[i,]<-ones(Y_pred_xg)[i,]\n",
    "        }\n",
    "    }\n",
    "    final <- predict_transform(final)#transforming into labels\n",
    "    return(final)\n",
    "    \n",
    "}"
   ]
  },
  {
   "cell_type": "code",
   "execution_count": 74,
   "metadata": {},
   "outputs": [
    {
     "data": {
      "text/plain": [
       "                         Reference\n",
       "Prediction                functional functional_needs_repair non_functional\n",
       "  functional                    7611                     718           1574\n",
       "  functional_needs_repair         91                     192             50\n",
       "  non_functional                 409                     162           4043"
      ]
     },
     "metadata": {},
     "output_type": "display_data"
    },
    {
     "data": {
      "text/html": [
       "<strong>Accuracy:</strong> 0.797710437710438"
      ],
      "text/latex": [
       "\\textbf{Accuracy:} 0.797710437710438"
      ],
      "text/markdown": [
       "**Accuracy:** 0.797710437710438"
      ],
      "text/plain": [
       " Accuracy \n",
       "0.7977104 "
      ]
     },
     "metadata": {},
     "output_type": "display_data"
    }
   ],
   "source": [
    "#Evaluation of the combined models\n",
    "\n",
    "Y_pred <- combined_models(test.data)\n",
    "confusionMatrix(factor(Y_pred),\n",
    "                factor(test.label),\n",
    "                mode = \"everything\")$table\n",
    "confusionMatrix(factor(Y_pred),\n",
    "                factor(test.label),\n",
    "                mode = \"everything\")$overall['Accuracy']"
   ]
  },
  {
   "cell_type": "markdown",
   "metadata": {},
   "source": [
    "Unfortunately, this combined model does not partically improve the accuracy overall. So for the final submission we will rather use the XGBoost model."
   ]
  },
  {
   "cell_type": "markdown",
   "metadata": {},
   "source": [
    "# Submission\n",
    "\n",
    "In this section is detailed the steps recreating our previous work to try and predict the testing set given. To that end, let's load the correct testing set and recreate the feature selection and engineering from the first section. The next two cells starts this procedure. "
   ]
  },
  {
   "cell_type": "code",
   "execution_count": 39,
   "metadata": {},
   "outputs": [
    {
     "data": {
      "text/html": [
       "<table class=\"dataframe\">\n",
       "<caption>A data.frame: 6 × 40</caption>\n",
       "<thead>\n",
       "\t<tr><th></th><th scope=col>id</th><th scope=col>amount_tsh</th><th scope=col>date_recorded</th><th scope=col>funder</th><th scope=col>gps_height</th><th scope=col>installer</th><th scope=col>longitude</th><th scope=col>latitude</th><th scope=col>wpt_name</th><th scope=col>num_private</th><th scope=col>⋯</th><th scope=col>payment_type</th><th scope=col>water_quality</th><th scope=col>quality_group</th><th scope=col>quantity</th><th scope=col>quantity_group</th><th scope=col>source</th><th scope=col>source_type</th><th scope=col>source_class</th><th scope=col>waterpoint_type</th><th scope=col>waterpoint_type_group</th></tr>\n",
       "\t<tr><th></th><th scope=col>&lt;int&gt;</th><th scope=col>&lt;dbl&gt;</th><th scope=col>&lt;chr&gt;</th><th scope=col>&lt;chr&gt;</th><th scope=col>&lt;int&gt;</th><th scope=col>&lt;chr&gt;</th><th scope=col>&lt;dbl&gt;</th><th scope=col>&lt;dbl&gt;</th><th scope=col>&lt;chr&gt;</th><th scope=col>&lt;int&gt;</th><th scope=col>⋯</th><th scope=col>&lt;chr&gt;</th><th scope=col>&lt;chr&gt;</th><th scope=col>&lt;chr&gt;</th><th scope=col>&lt;chr&gt;</th><th scope=col>&lt;chr&gt;</th><th scope=col>&lt;chr&gt;</th><th scope=col>&lt;chr&gt;</th><th scope=col>&lt;chr&gt;</th><th scope=col>&lt;chr&gt;</th><th scope=col>&lt;chr&gt;</th></tr>\n",
       "</thead>\n",
       "<tbody>\n",
       "\t<tr><th scope=row>1</th><td>50785</td><td>  0</td><td>2013-02-04</td><td>Dmdd                  </td><td>1996</td><td>DMDD      </td><td>35.29080</td><td> -4.059696</td><td>Dinamu Secondary School</td><td>0</td><td>⋯</td><td>never pay</td><td>soft</td><td>good</td><td>seasonal    </td><td>seasonal    </td><td>rainwater harvesting</td><td>rainwater harvesting</td><td>surface    </td><td>other             </td><td>other             </td></tr>\n",
       "\t<tr><th scope=row>2</th><td>51630</td><td>  0</td><td>2013-02-04</td><td>Government Of Tanzania</td><td>1569</td><td>DWE       </td><td>36.65671</td><td> -3.309214</td><td>Kimnyak                </td><td>0</td><td>⋯</td><td>never pay</td><td>soft</td><td>good</td><td>insufficient</td><td>insufficient</td><td>spring              </td><td>spring              </td><td>groundwater</td><td>communal standpipe</td><td>communal standpipe</td></tr>\n",
       "\t<tr><th scope=row>3</th><td>17168</td><td>  0</td><td>2013-02-01</td><td>                      </td><td>1567</td><td>          </td><td>34.76786</td><td> -5.004344</td><td>Puma Secondary         </td><td>0</td><td>⋯</td><td>never pay</td><td>soft</td><td>good</td><td>insufficient</td><td>insufficient</td><td>rainwater harvesting</td><td>rainwater harvesting</td><td>surface    </td><td>other             </td><td>other             </td></tr>\n",
       "\t<tr><th scope=row>4</th><td>45559</td><td>  0</td><td>2013-01-22</td><td>Finn Water            </td><td> 267</td><td>FINN WATER</td><td>38.05805</td><td> -9.418672</td><td>Kwa Mzee Pange         </td><td>0</td><td>⋯</td><td>unknown  </td><td>soft</td><td>good</td><td>dry         </td><td>dry         </td><td>shallow well        </td><td>shallow well        </td><td>groundwater</td><td>other             </td><td>other             </td></tr>\n",
       "\t<tr><th scope=row>5</th><td>49871</td><td>500</td><td>2013-03-27</td><td>Bruder                </td><td>1260</td><td>BRUDER    </td><td>35.00612</td><td>-10.950412</td><td>Kwa Mzee Turuka        </td><td>0</td><td>⋯</td><td>monthly  </td><td>soft</td><td>good</td><td>enough      </td><td>enough      </td><td>spring              </td><td>spring              </td><td>groundwater</td><td>communal standpipe</td><td>communal standpipe</td></tr>\n",
       "\t<tr><th scope=row>6</th><td>52449</td><td>  0</td><td>2013-03-04</td><td>Government Of Tanzania</td><td>1685</td><td>DWE       </td><td>36.68528</td><td> -3.302420</td><td>Masaga                 </td><td>0</td><td>⋯</td><td>never pay</td><td>soft</td><td>good</td><td>enough      </td><td>enough      </td><td>spring              </td><td>spring              </td><td>groundwater</td><td>communal standpipe</td><td>communal standpipe</td></tr>\n",
       "</tbody>\n",
       "</table>\n"
      ],
      "text/latex": [
       "A data.frame: 6 × 40\n",
       "\\begin{tabular}{r|lllllllllllllllllllll}\n",
       "  & id & amount\\_tsh & date\\_recorded & funder & gps\\_height & installer & longitude & latitude & wpt\\_name & num\\_private & ⋯ & payment\\_type & water\\_quality & quality\\_group & quantity & quantity\\_group & source & source\\_type & source\\_class & waterpoint\\_type & waterpoint\\_type\\_group\\\\\n",
       "  & <int> & <dbl> & <chr> & <chr> & <int> & <chr> & <dbl> & <dbl> & <chr> & <int> & ⋯ & <chr> & <chr> & <chr> & <chr> & <chr> & <chr> & <chr> & <chr> & <chr> & <chr>\\\\\n",
       "\\hline\n",
       "\t1 & 50785 &   0 & 2013-02-04 & Dmdd                   & 1996 & DMDD       & 35.29080 &  -4.059696 & Dinamu Secondary School & 0 & ⋯ & never pay & soft & good & seasonal     & seasonal     & rainwater harvesting & rainwater harvesting & surface     & other              & other             \\\\\n",
       "\t2 & 51630 &   0 & 2013-02-04 & Government Of Tanzania & 1569 & DWE        & 36.65671 &  -3.309214 & Kimnyak                 & 0 & ⋯ & never pay & soft & good & insufficient & insufficient & spring               & spring               & groundwater & communal standpipe & communal standpipe\\\\\n",
       "\t3 & 17168 &   0 & 2013-02-01 &                        & 1567 &            & 34.76786 &  -5.004344 & Puma Secondary          & 0 & ⋯ & never pay & soft & good & insufficient & insufficient & rainwater harvesting & rainwater harvesting & surface     & other              & other             \\\\\n",
       "\t4 & 45559 &   0 & 2013-01-22 & Finn Water             &  267 & FINN WATER & 38.05805 &  -9.418672 & Kwa Mzee Pange          & 0 & ⋯ & unknown   & soft & good & dry          & dry          & shallow well         & shallow well         & groundwater & other              & other             \\\\\n",
       "\t5 & 49871 & 500 & 2013-03-27 & Bruder                 & 1260 & BRUDER     & 35.00612 & -10.950412 & Kwa Mzee Turuka         & 0 & ⋯ & monthly   & soft & good & enough       & enough       & spring               & spring               & groundwater & communal standpipe & communal standpipe\\\\\n",
       "\t6 & 52449 &   0 & 2013-03-04 & Government Of Tanzania & 1685 & DWE        & 36.68528 &  -3.302420 & Masaga                  & 0 & ⋯ & never pay & soft & good & enough       & enough       & spring               & spring               & groundwater & communal standpipe & communal standpipe\\\\\n",
       "\\end{tabular}\n"
      ],
      "text/markdown": [
       "\n",
       "A data.frame: 6 × 40\n",
       "\n",
       "| <!--/--> | id &lt;int&gt; | amount_tsh &lt;dbl&gt; | date_recorded &lt;chr&gt; | funder &lt;chr&gt; | gps_height &lt;int&gt; | installer &lt;chr&gt; | longitude &lt;dbl&gt; | latitude &lt;dbl&gt; | wpt_name &lt;chr&gt; | num_private &lt;int&gt; | ⋯ ⋯ | payment_type &lt;chr&gt; | water_quality &lt;chr&gt; | quality_group &lt;chr&gt; | quantity &lt;chr&gt; | quantity_group &lt;chr&gt; | source &lt;chr&gt; | source_type &lt;chr&gt; | source_class &lt;chr&gt; | waterpoint_type &lt;chr&gt; | waterpoint_type_group &lt;chr&gt; |\n",
       "|---|---|---|---|---|---|---|---|---|---|---|---|---|---|---|---|---|---|---|---|---|---|\n",
       "| 1 | 50785 |   0 | 2013-02-04 | Dmdd                   | 1996 | DMDD       | 35.29080 |  -4.059696 | Dinamu Secondary School | 0 | ⋯ | never pay | soft | good | seasonal     | seasonal     | rainwater harvesting | rainwater harvesting | surface     | other              | other              |\n",
       "| 2 | 51630 |   0 | 2013-02-04 | Government Of Tanzania | 1569 | DWE        | 36.65671 |  -3.309214 | Kimnyak                 | 0 | ⋯ | never pay | soft | good | insufficient | insufficient | spring               | spring               | groundwater | communal standpipe | communal standpipe |\n",
       "| 3 | 17168 |   0 | 2013-02-01 | <!----> | 1567 | <!----> | 34.76786 |  -5.004344 | Puma Secondary          | 0 | ⋯ | never pay | soft | good | insufficient | insufficient | rainwater harvesting | rainwater harvesting | surface     | other              | other              |\n",
       "| 4 | 45559 |   0 | 2013-01-22 | Finn Water             |  267 | FINN WATER | 38.05805 |  -9.418672 | Kwa Mzee Pange          | 0 | ⋯ | unknown   | soft | good | dry          | dry          | shallow well         | shallow well         | groundwater | other              | other              |\n",
       "| 5 | 49871 | 500 | 2013-03-27 | Bruder                 | 1260 | BRUDER     | 35.00612 | -10.950412 | Kwa Mzee Turuka         | 0 | ⋯ | monthly   | soft | good | enough       | enough       | spring               | spring               | groundwater | communal standpipe | communal standpipe |\n",
       "| 6 | 52449 |   0 | 2013-03-04 | Government Of Tanzania | 1685 | DWE        | 36.68528 |  -3.302420 | Masaga                  | 0 | ⋯ | never pay | soft | good | enough       | enough       | spring               | spring               | groundwater | communal standpipe | communal standpipe |\n",
       "\n"
      ],
      "text/plain": [
       "  id    amount_tsh date_recorded funder                 gps_height installer \n",
       "1 50785   0        2013-02-04    Dmdd                   1996       DMDD      \n",
       "2 51630   0        2013-02-04    Government Of Tanzania 1569       DWE       \n",
       "3 17168   0        2013-02-01                           1567                 \n",
       "4 45559   0        2013-01-22    Finn Water              267       FINN WATER\n",
       "5 49871 500        2013-03-27    Bruder                 1260       BRUDER    \n",
       "6 52449   0        2013-03-04    Government Of Tanzania 1685       DWE       \n",
       "  longitude latitude   wpt_name                num_private ⋯ payment_type\n",
       "1 35.29080   -4.059696 Dinamu Secondary School 0           ⋯ never pay   \n",
       "2 36.65671   -3.309214 Kimnyak                 0           ⋯ never pay   \n",
       "3 34.76786   -5.004344 Puma Secondary          0           ⋯ never pay   \n",
       "4 38.05805   -9.418672 Kwa Mzee Pange          0           ⋯ unknown     \n",
       "5 35.00612  -10.950412 Kwa Mzee Turuka         0           ⋯ monthly     \n",
       "6 36.68528   -3.302420 Masaga                  0           ⋯ never pay   \n",
       "  water_quality quality_group quantity     quantity_group source              \n",
       "1 soft          good          seasonal     seasonal       rainwater harvesting\n",
       "2 soft          good          insufficient insufficient   spring              \n",
       "3 soft          good          insufficient insufficient   rainwater harvesting\n",
       "4 soft          good          dry          dry            shallow well        \n",
       "5 soft          good          enough       enough         spring              \n",
       "6 soft          good          enough       enough         spring              \n",
       "  source_type          source_class waterpoint_type    waterpoint_type_group\n",
       "1 rainwater harvesting surface      other              other                \n",
       "2 spring               groundwater  communal standpipe communal standpipe   \n",
       "3 rainwater harvesting surface      other              other                \n",
       "4 shallow well         groundwater  other              other                \n",
       "5 spring               groundwater  communal standpipe communal standpipe   \n",
       "6 spring               groundwater  communal standpipe communal standpipe   "
      ]
     },
     "metadata": {},
     "output_type": "display_data"
    }
   ],
   "source": [
    "set_val_test <- read.csv(\"database/Pump_it_Up_Data_Mining_the_Water_Table_-_Test_set_values.csv\", header=TRUE)\n",
    "head(set_val_test)"
   ]
  },
  {
   "cell_type": "code",
   "execution_count": 40,
   "metadata": {},
   "outputs": [
    {
     "name": "stderr",
     "output_type": "stream",
     "text": [
      "Warning message in model.matrix.default(~x - 1, model.frame(~x - 1), contrasts = FALSE):\n",
      "“non-list contrasts argument ignored”\n",
      "Warning message in model.matrix.default(~x - 1, model.frame(~x - 1), contrasts = FALSE):\n",
      "“non-list contrasts argument ignored”\n",
      "Warning message in model.matrix.default(~x - 1, model.frame(~x - 1), contrasts = FALSE):\n",
      "“non-list contrasts argument ignored”\n",
      "Warning message in model.matrix.default(~x - 1, model.frame(~x - 1), contrasts = FALSE):\n",
      "“non-list contrasts argument ignored”\n",
      "Warning message in model.matrix.default(~x - 1, model.frame(~x - 1), contrasts = FALSE):\n",
      "“non-list contrasts argument ignored”\n",
      "Warning message in model.matrix.default(~x - 1, model.frame(~x - 1), contrasts = FALSE):\n",
      "“non-list contrasts argument ignored”\n",
      "Warning message in model.matrix.default(~x - 1, model.frame(~x - 1), contrasts = FALSE):\n",
      "“non-list contrasts argument ignored”\n",
      "Warning message in model.matrix.default(~x - 1, model.frame(~x - 1), contrasts = FALSE):\n",
      "“non-list contrasts argument ignored”\n",
      "Warning message in model.matrix.default(~x - 1, model.frame(~x - 1), contrasts = FALSE):\n",
      "“non-list contrasts argument ignored”\n",
      "Warning message in model.matrix.default(~x - 1, model.frame(~x - 1), contrasts = FALSE):\n",
      "“non-list contrasts argument ignored”\n",
      "Warning message in model.matrix.default(~x - 1, model.frame(~x - 1), contrasts = FALSE):\n",
      "“non-list contrasts argument ignored”\n",
      "Warning message in model.matrix.default(~x - 1, model.frame(~x - 1), contrasts = FALSE):\n",
      "“non-list contrasts argument ignored”\n",
      "Warning message in model.matrix.default(~x - 1, model.frame(~x - 1), contrasts = FALSE):\n",
      "“non-list contrasts argument ignored”\n",
      "Warning message in model.matrix.default(~x - 1, model.frame(~x - 1), contrasts = FALSE):\n",
      "“non-list contrasts argument ignored”\n",
      "Warning message in model.matrix.default(~x - 1, model.frame(~x - 1), contrasts = FALSE):\n",
      "“non-list contrasts argument ignored”\n",
      "Warning message in model.matrix.default(~x - 1, model.frame(~x - 1), contrasts = FALSE):\n",
      "“non-list contrasts argument ignored”\n"
     ]
    }
   ],
   "source": [
    "library(tibble)\n",
    "\n",
    "# Delete the columns in cleaning based on the redundancy, the relevance of the information, etc.\n",
    "cleaning <- c(\"id\",\"date_recorded\", \"num_private\", \"funder\", \"installer\", \"wpt_name\", \"subvillage\", \"lga\", \"ward\", \n",
    "              \"region_code\", \"scheme_name\", \"payment\", \"quantity\", \"waterpoint_type_group\", \"recorded_by\", \"district_code\")\n",
    "X<-set_val_test[,setdiff(colnames(set_val_test),cleaning)]\n",
    "\n",
    "\n",
    "#On some distributions NA are represented with empty string so we first set them to NA \n",
    "#to use is.na effectively\n",
    "X<-replace(X,X=='',NA)#Replaced to NA\n",
    "\n",
    "#Replacing NA values in categorical features with the most frequent occurence\n",
    "X$permit[is.na(X$permit)] <- tail(names(sort(table(X$permit))), 1)\n",
    "\n",
    "X$scheme_management[is.na(X$scheme_management)] <- tail(names(sort(table(X$scheme_management))), 1)\n",
    "\n",
    "X$public_meeting[is.na(X$public_meeting)] <- tail(names(sort(table(X$public_meeting))), 1)\n",
    "\n",
    "#For numericals, replace by the median\n",
    "\n",
    "X$construction_year[X$construction_year==0] <- NA\n",
    "X$construction_year[is.na(X$construction_year)] <- median(X$construction_year,na.rm=T)\n",
    "X$construction_year <- as.integer(X$construction_year)\n",
    "\n",
    "\n",
    "#Same for longitude and latitude\n",
    "#Since zero isn't in the range of longitudes of Tanzania\n",
    "X$longitude[X$longitude==0] <- NA\n",
    "X$longitude[is.na(X$longitude)] <- median(X$longitude,na.rm=T)\n",
    "\n",
    "X$latitude[X$latitude==-0.00000002] <- NA\n",
    "X$latitude[is.na(X$latitude)] <- median(X$latitude,na.rm=T)\n",
    "\n",
    "\n",
    "#For permit, the categorical values are bolleans true-false so we can encode them on only one column with 0 and 1, same goes\n",
    "#for public meeting\n",
    "X$permit[X$permit=='True'] <- 1\n",
    "X$permit[X$permit=='False'] <- 0\n",
    "X$permit <- as.integer(X$permit)\n",
    "\n",
    "X$public_meeting[X$public_meeting=='True'] <- 1\n",
    "X$public_meeting[X$public_meeting=='False'] <- 0\n",
    "X$public_meeting <- as.integer(X$public_meeting)\n",
    "\n",
    "\n",
    "\n",
    "#One hot encoding\n",
    "library(dummies)\n",
    "\n",
    "\n",
    "variables_to_keep<-names(X)\n",
    "X_onehot_2 <- dummy.data.frame(X[,variables_to_keep], sep=\"_\")\n",
    "\n",
    "names(X_onehot_2)<-make.names(names(X_onehot_2))#required to have concatenated names in order for randomForest to run"
   ]
  },
  {
   "cell_type": "markdown",
   "metadata": {},
   "source": [
    "Beware, the 'one-hot' encoding leaves this dataset without 2 features since those labels were not present originally. Thus, let's add 2 columns at the right position."
   ]
  },
  {
   "cell_type": "code",
   "execution_count": 41,
   "metadata": {},
   "outputs": [
    {
     "data": {
      "text/html": [
       "<style>\n",
       ".list-inline {list-style: none; margin:0; padding: 0}\n",
       ".list-inline>li {display: inline-block}\n",
       ".list-inline>li:not(:last-child)::after {content: \"\\00b7\"; padding: 0 .5ex}\n",
       "</style>\n",
       "<ol class=list-inline><li>'scheme_management_None'</li><li>'extraction_type_other...mkulima.shinyanga'</li></ol>\n"
      ],
      "text/latex": [
       "\\begin{enumerate*}\n",
       "\\item 'scheme\\_management\\_None'\n",
       "\\item 'extraction\\_type\\_other...mkulima.shinyanga'\n",
       "\\end{enumerate*}\n"
      ],
      "text/markdown": [
       "1. 'scheme_management_None'\n",
       "2. 'extraction_type_other...mkulima.shinyanga'\n",
       "\n",
       "\n"
      ],
      "text/plain": [
       "[1] \"scheme_management_None\"                   \n",
       "[2] \"extraction_type_other...mkulima.shinyanga\""
      ]
     },
     "metadata": {},
     "output_type": "display_data"
    }
   ],
   "source": [
    "setdiff(names(X_onehot),names(X_onehot_2))"
   ]
  },
  {
   "cell_type": "code",
   "execution_count": 42,
   "metadata": {},
   "outputs": [
    {
     "data": {
      "text/html": [
       "38"
      ],
      "text/latex": [
       "38"
      ],
      "text/markdown": [
       "38"
      ],
      "text/plain": [
       "[1] 38"
      ]
     },
     "metadata": {},
     "output_type": "display_data"
    },
    {
     "data": {
      "text/html": [
       "61"
      ],
      "text/latex": [
       "61"
      ],
      "text/markdown": [
       "61"
      ],
      "text/plain": [
       "[1] 61"
      ]
     },
     "metadata": {},
     "output_type": "display_data"
    }
   ],
   "source": [
    "which(names(X_onehot)==\"scheme_management_None\")\n",
    "which(names(X_onehot)==\"extraction_type_other...mkulima.shinyanga\")"
   ]
  },
  {
   "cell_type": "code",
   "execution_count": 43,
   "metadata": {},
   "outputs": [],
   "source": [
    "X_onehot_2<-add_column(X_onehot_2, scheme_management_None = 0, .after = 37)\n",
    "X_onehot_2<-add_column(X_onehot_2, extraction_type_other...mkulima.shinyanga = 0, .after = 60)\n",
    "\n",
    "X_onehot_2$scheme_management_None <- as.integer(X_onehot_2$scheme_management_None)\n",
    "X_onehot_2$extraction_type_other...mkulima.shinyanga <- as.integer(X_onehot_2$extraction_type_other...mkulima.shinyanga)\n",
    "\n",
    "\n",
    "test_xg.data = as.matrix(X_onehot_2)\n",
    "xgb.test = xgb.DMatrix(data=test_xg.data)"
   ]
  },
  {
   "cell_type": "markdown",
   "metadata": {},
   "source": [
    "Now that the testing set is correctly formed, we can predict the output using the best model. To that end, we will predict using the XGBoost model since it had the best overall accuracy. In addition, contrary to a model like nnet, it indeed predicted the class 'functional_needs_repair'. "
   ]
  },
  {
   "cell_type": "code",
   "execution_count": 93,
   "metadata": {},
   "outputs": [],
   "source": [
    "bst_model <- readRDS(\"xg.rds\")\n",
    "\n",
    "test_pred <- predict(bst_model, newdata = xgb.test)\n",
    "test_prediction <- matrix(test_pred, nrow = num_class,\n",
    "                          ncol=length(test_pred)/num_class) %>%\n",
    "  t() %>%\n",
    "  data.frame()"
   ]
  },
  {
   "cell_type": "code",
   "execution_count": 94,
   "metadata": {},
   "outputs": [],
   "source": [
    "test_prediction <- predict_transform(test_prediction)"
   ]
  },
  {
   "cell_type": "code",
   "execution_count": 95,
   "metadata": {
    "scrolled": true
   },
   "outputs": [
    {
     "data": {
      "text/html": [
       "<table class=\"dataframe\">\n",
       "<caption>A data.frame: 6 × 1</caption>\n",
       "<thead>\n",
       "\t<tr><th></th><th scope=col>test_prediction</th></tr>\n",
       "\t<tr><th></th><th scope=col>&lt;chr&gt;</th></tr>\n",
       "</thead>\n",
       "<tbody>\n",
       "\t<tr><th scope=row>1</th><td>functional    </td></tr>\n",
       "\t<tr><th scope=row>2</th><td>functional    </td></tr>\n",
       "\t<tr><th scope=row>3</th><td>functional    </td></tr>\n",
       "\t<tr><th scope=row>4</th><td>non_functional</td></tr>\n",
       "\t<tr><th scope=row>5</th><td>functional    </td></tr>\n",
       "\t<tr><th scope=row>6</th><td>functional    </td></tr>\n",
       "</tbody>\n",
       "</table>\n"
      ],
      "text/latex": [
       "A data.frame: 6 × 1\n",
       "\\begin{tabular}{r|l}\n",
       "  & test\\_prediction\\\\\n",
       "  & <chr>\\\\\n",
       "\\hline\n",
       "\t1 & functional    \\\\\n",
       "\t2 & functional    \\\\\n",
       "\t3 & functional    \\\\\n",
       "\t4 & non\\_functional\\\\\n",
       "\t5 & functional    \\\\\n",
       "\t6 & functional    \\\\\n",
       "\\end{tabular}\n"
      ],
      "text/markdown": [
       "\n",
       "A data.frame: 6 × 1\n",
       "\n",
       "| <!--/--> | test_prediction &lt;chr&gt; |\n",
       "|---|---|\n",
       "| 1 | functional     |\n",
       "| 2 | functional     |\n",
       "| 3 | functional     |\n",
       "| 4 | non_functional |\n",
       "| 5 | functional     |\n",
       "| 6 | functional     |\n",
       "\n"
      ],
      "text/plain": [
       "  test_prediction\n",
       "1 functional     \n",
       "2 functional     \n",
       "3 functional     \n",
       "4 non_functional \n",
       "5 functional     \n",
       "6 functional     "
      ]
     },
     "metadata": {},
     "output_type": "display_data"
    }
   ],
   "source": [
    "head(data.frame(test_prediction))"
   ]
  },
  {
   "cell_type": "markdown",
   "metadata": {},
   "source": [
    "We can finally introduce our results into the sub_format, and then save the results into a file. Before that, we need to make sure the labels are correct since we did a transform to eliminate the spaces. Thus reintroducing the right orthograph is done also."
   ]
  },
  {
   "cell_type": "code",
   "execution_count": 85,
   "metadata": {
    "scrolled": true
   },
   "outputs": [
    {
     "data": {
      "text/html": [
       "<table class=\"dataframe\">\n",
       "<caption>A data.frame: 6 × 2</caption>\n",
       "<thead>\n",
       "\t<tr><th></th><th scope=col>id</th><th scope=col>status_group</th></tr>\n",
       "\t<tr><th></th><th scope=col>&lt;int&gt;</th><th scope=col>&lt;chr&gt;</th></tr>\n",
       "</thead>\n",
       "<tbody>\n",
       "\t<tr><th scope=row>1</th><td>50785</td><td>functional    </td></tr>\n",
       "\t<tr><th scope=row>2</th><td>51630</td><td>functional    </td></tr>\n",
       "\t<tr><th scope=row>3</th><td>17168</td><td>functional    </td></tr>\n",
       "\t<tr><th scope=row>4</th><td>45559</td><td>non_functional</td></tr>\n",
       "\t<tr><th scope=row>5</th><td>49871</td><td>functional    </td></tr>\n",
       "\t<tr><th scope=row>6</th><td>52449</td><td>functional    </td></tr>\n",
       "</tbody>\n",
       "</table>\n"
      ],
      "text/latex": [
       "A data.frame: 6 × 2\n",
       "\\begin{tabular}{r|ll}\n",
       "  & id & status\\_group\\\\\n",
       "  & <int> & <chr>\\\\\n",
       "\\hline\n",
       "\t1 & 50785 & functional    \\\\\n",
       "\t2 & 51630 & functional    \\\\\n",
       "\t3 & 17168 & functional    \\\\\n",
       "\t4 & 45559 & non\\_functional\\\\\n",
       "\t5 & 49871 & functional    \\\\\n",
       "\t6 & 52449 & functional    \\\\\n",
       "\\end{tabular}\n"
      ],
      "text/markdown": [
       "\n",
       "A data.frame: 6 × 2\n",
       "\n",
       "| <!--/--> | id &lt;int&gt; | status_group &lt;chr&gt; |\n",
       "|---|---|---|\n",
       "| 1 | 50785 | functional     |\n",
       "| 2 | 51630 | functional     |\n",
       "| 3 | 17168 | functional     |\n",
       "| 4 | 45559 | non_functional |\n",
       "| 5 | 49871 | functional     |\n",
       "| 6 | 52449 | functional     |\n",
       "\n"
      ],
      "text/plain": [
       "  id    status_group  \n",
       "1 50785 functional    \n",
       "2 51630 functional    \n",
       "3 17168 functional    \n",
       "4 45559 non_functional\n",
       "5 49871 functional    \n",
       "6 52449 functional    "
      ]
     },
     "metadata": {},
     "output_type": "display_data"
    }
   ],
   "source": [
    "sub_format[,2] <- test_prediction\n",
    "head(sub_format)"
   ]
  },
  {
   "cell_type": "code",
   "execution_count": 86,
   "metadata": {},
   "outputs": [
    {
     "data": {
      "text/html": [
       "<table class=\"dataframe\">\n",
       "<caption>A data.frame: 6 × 2</caption>\n",
       "<thead>\n",
       "\t<tr><th></th><th scope=col>id</th><th scope=col>status_group</th></tr>\n",
       "\t<tr><th></th><th scope=col>&lt;int&gt;</th><th scope=col>&lt;chr&gt;</th></tr>\n",
       "</thead>\n",
       "<tbody>\n",
       "\t<tr><th scope=row>1</th><td>50785</td><td>functional    </td></tr>\n",
       "\t<tr><th scope=row>2</th><td>51630</td><td>functional    </td></tr>\n",
       "\t<tr><th scope=row>3</th><td>17168</td><td>functional    </td></tr>\n",
       "\t<tr><th scope=row>4</th><td>45559</td><td>non functional</td></tr>\n",
       "\t<tr><th scope=row>5</th><td>49871</td><td>functional    </td></tr>\n",
       "\t<tr><th scope=row>6</th><td>52449</td><td>functional    </td></tr>\n",
       "</tbody>\n",
       "</table>\n"
      ],
      "text/latex": [
       "A data.frame: 6 × 2\n",
       "\\begin{tabular}{r|ll}\n",
       "  & id & status\\_group\\\\\n",
       "  & <int> & <chr>\\\\\n",
       "\\hline\n",
       "\t1 & 50785 & functional    \\\\\n",
       "\t2 & 51630 & functional    \\\\\n",
       "\t3 & 17168 & functional    \\\\\n",
       "\t4 & 45559 & non functional\\\\\n",
       "\t5 & 49871 & functional    \\\\\n",
       "\t6 & 52449 & functional    \\\\\n",
       "\\end{tabular}\n"
      ],
      "text/markdown": [
       "\n",
       "A data.frame: 6 × 2\n",
       "\n",
       "| <!--/--> | id &lt;int&gt; | status_group &lt;chr&gt; |\n",
       "|---|---|---|\n",
       "| 1 | 50785 | functional     |\n",
       "| 2 | 51630 | functional     |\n",
       "| 3 | 17168 | functional     |\n",
       "| 4 | 45559 | non functional |\n",
       "| 5 | 49871 | functional     |\n",
       "| 6 | 52449 | functional     |\n",
       "\n"
      ],
      "text/plain": [
       "  id    status_group  \n",
       "1 50785 functional    \n",
       "2 51630 functional    \n",
       "3 17168 functional    \n",
       "4 45559 non functional\n",
       "5 49871 functional    \n",
       "6 52449 functional    "
      ]
     },
     "metadata": {},
     "output_type": "display_data"
    }
   ],
   "source": [
    "sub_format[sub_format == \"functional_needs_repair\"] <- \"functional needs repair\"\n",
    "sub_format[sub_format == \"non_functional\"] <- \"non functional\"\n",
    "\n",
    "head(sub_format)"
   ]
  },
  {
   "cell_type": "code",
   "execution_count": 87,
   "metadata": {},
   "outputs": [],
   "source": [
    "#write.csv(sub_format,\"sub.csv\" ,row.names = FALSE) #commented since the final file is in the folder"
   ]
  },
  {
   "cell_type": "markdown",
   "metadata": {},
   "source": [
    "# Conclusions\n",
    "\n",
    "\n",
    "In conclusion, this project gave use the opportunity to test different models and methods head to head. We concluded that the XGBoost is the best performing overall, even when combining multiple models. Furthermore, PCA did not particularly reduce the computational time when training while ever so slightly reducing the overall performance, so we decided to exclude it in our final prediction. \n",
    "\n",
    "\n",
    "Finally, we can conclude that a basic XGBoost can yield good results since it gave us a final evaluation of 81% on Driven-Data evaluation."
   ]
  },
  {
   "cell_type": "markdown",
   "metadata": {},
   "source": [
    "# Sources\n",
    "\n",
    "https://en.wikipedia.org/wiki/Recursive_partitioning\n",
    "\n",
    "https://machinelearningmastery.com/gentle-introduction-xgboost-applied-machine-learning/#:~:text=XGBoost%20is%20an%20algorithm%20that,designed%20for%20speed%20and%20performance.\n",
    "\n",
    "https://rstudio-pubs-static.s3.amazonaws.com/456044_9c275b0718a64e6286751bb7c60ae42a.html\n",
    "\n",
    "https://rstudio-pubs-static.s3.amazonaws.com/233321_06bcdf2c8bc445dbb635740bb44f978b.html\n",
    "\n",
    "INFOF422 - Course of Statistical foundations of Machine Learning\n",
    "\n",
    "https://www.analyticsvidhya.com/blog/2020/05/decision-tree-vs-random-forest-algorithm/\n",
    "\n",
    "https://subscription.packtpub.com/book/big_data_and_business_intelligence/9781788397872/1/ch01lvl1sec27/pros-and-cons-of-neural-networks\n",
    "\n",
    "https://cran.r-project.org/web/packages/rpart/vignettes/longintro.pdf"
   ]
  },
  {
   "cell_type": "code",
   "execution_count": null,
   "metadata": {},
   "outputs": [],
   "source": []
  }
 ],
 "metadata": {
  "kernelspec": {
   "display_name": "R",
   "language": "R",
   "name": "ir"
  },
  "language_info": {
   "codemirror_mode": "r",
   "file_extension": ".r",
   "mimetype": "text/x-r-source",
   "name": "R",
   "pygments_lexer": "r",
   "version": "4.0.3"
  }
 },
 "nbformat": 4,
 "nbformat_minor": 4
}
